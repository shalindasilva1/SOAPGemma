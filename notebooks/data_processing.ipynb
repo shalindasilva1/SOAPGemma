{
 "cells": [
  {
   "cell_type": "code",
   "id": "initial_id",
   "metadata": {
    "collapsed": true,
    "ExecuteTime": {
     "end_time": "2025-05-07T19:05:15.185978Z",
     "start_time": "2025-05-07T19:05:09.547908Z"
    }
   },
   "source": [
    "from datasets import load_dataset\n",
    "import pandas as pd\n",
    "\n",
    "DATA_PATH = \"data/\"\n",
    "OMI_PATH_raw = DATA_PATH+\"raw/omi-health\"\n",
    "ADESOUZA_PATH_raw = DATA_PATH+\"raw/adesouza\"\n",
    "# Load the dataset\n",
    "ds_omi_health = load_dataset(\"omi-health/medical-dialogue-to-soap-summary\")\n",
    "ds_adesouza = load_dataset(\"adesouza1/soap_notes\")\n",
    "\n",
    "# Save the dataset to disk\n",
    "ds_omi_health.save_to_disk(OMI_PATH_raw)\n",
    "ds_adesouza.save_to_disk(ADESOUZA_PATH_raw)"
   ],
   "outputs": [
    {
     "name": "stderr",
     "output_type": "stream",
     "text": [
      "Saving the dataset (1/1 shards): 100%|██████████| 9250/9250 [00:00<00:00, 35460.71 examples/s]\n",
      "Saving the dataset (1/1 shards): 100%|██████████| 500/500 [00:00<00:00, 22146.62 examples/s]\n",
      "Saving the dataset (1/1 shards): 100%|██████████| 250/250 [00:00<00:00, 22047.90 examples/s]\n",
      "Saving the dataset (1/1 shards): 100%|██████████| 558/558 [00:00<00:00, 18634.82 examples/s]\n",
      "Saving the dataset (1/1 shards): 100%|██████████| 62/62 [00:00<00:00, 2657.63 examples/s]\n"
     ]
    }
   ],
   "execution_count": 9
  },
  {
   "metadata": {
    "ExecuteTime": {
     "end_time": "2025-05-07T19:05:15.907590Z",
     "start_time": "2025-05-07T19:05:15.234200Z"
    }
   },
   "cell_type": "code",
   "source": [
    "if 'train' in ds_omi_health:\n",
    "    train_df_omi = ds_omi_health['train'].to_pandas()\n",
    "\n",
    "if 'validation' in ds_omi_health:\n",
    "    val_df_omi = ds_omi_health['validation'].to_pandas()\n",
    "\n",
    "if 'test' in ds_omi_health:\n",
    "    test_df_omi = ds_omi_health['test'].to_pandas()\n",
    "\n",
    "# Check the first few rows of the dataset\n",
    "train_df_omi.head()"
   ],
   "id": "62db13d58690e077",
   "outputs": [
    {
     "data": {
      "text/plain": [
       "                                            dialogue  \\\n",
       "0  Doctor: Hello, how can I help you today?\\nPati...   \n",
       "1  Doctor: Hello, what brings you in today?\\nPati...   \n",
       "2  Doctor: Hello, how can I help you today?\\nPati...   \n",
       "3  Doctor: Hello, Patient D. How are you feeling ...   \n",
       "4  Doctor: Hello, I see that you have a history o...   \n",
       "\n",
       "                                                soap  \\\n",
       "0  S: The patient's mother reports that her 13-ye...   \n",
       "1  S: The patient, a 21-month-old male, presented...   \n",
       "2  S: Patient reports experiencing fatigue, night...   \n",
       "3  S: Patient D, a 60-year-old African American m...   \n",
       "4  S: The patient, a married woman with a 7-year ...   \n",
       "\n",
       "                                              prompt  \\\n",
       "0  Create a Medical SOAP note summary from the di...   \n",
       "1  Create a Medical SOAP note summary from the di...   \n",
       "2  Create a Medical SOAP note summary from the di...   \n",
       "3    Create a medical SOAP summary of this dialogue.   \n",
       "4  Create a Medical SOAP note summary from the di...   \n",
       "\n",
       "                                            messages  \\\n",
       "0  [{'role': 'system', 'content': 'You are an exp...   \n",
       "1  [{'role': 'system', 'content': 'You are an exp...   \n",
       "2  [{'role': 'system', 'content': 'You are an exp...   \n",
       "3  [{'role': 'system', 'content': 'You are an exp...   \n",
       "4  [{'role': 'system', 'content': 'You are an exp...   \n",
       "\n",
       "                                   messages_nosystem  \n",
       "0  [{'role': 'user', 'content': 'You are an exper...  \n",
       "1  [{'role': 'user', 'content': 'You are an exper...  \n",
       "2  [{'role': 'user', 'content': 'You are an exper...  \n",
       "3  [{'role': 'user', 'content': 'You are an exper...  \n",
       "4  [{'role': 'user', 'content': 'You are an exper...  "
      ],
      "text/html": [
       "<div>\n",
       "<style scoped>\n",
       "    .dataframe tbody tr th:only-of-type {\n",
       "        vertical-align: middle;\n",
       "    }\n",
       "\n",
       "    .dataframe tbody tr th {\n",
       "        vertical-align: top;\n",
       "    }\n",
       "\n",
       "    .dataframe thead th {\n",
       "        text-align: right;\n",
       "    }\n",
       "</style>\n",
       "<table border=\"1\" class=\"dataframe\">\n",
       "  <thead>\n",
       "    <tr style=\"text-align: right;\">\n",
       "      <th></th>\n",
       "      <th>dialogue</th>\n",
       "      <th>soap</th>\n",
       "      <th>prompt</th>\n",
       "      <th>messages</th>\n",
       "      <th>messages_nosystem</th>\n",
       "    </tr>\n",
       "  </thead>\n",
       "  <tbody>\n",
       "    <tr>\n",
       "      <th>0</th>\n",
       "      <td>Doctor: Hello, how can I help you today?\\nPati...</td>\n",
       "      <td>S: The patient's mother reports that her 13-ye...</td>\n",
       "      <td>Create a Medical SOAP note summary from the di...</td>\n",
       "      <td>[{'role': 'system', 'content': 'You are an exp...</td>\n",
       "      <td>[{'role': 'user', 'content': 'You are an exper...</td>\n",
       "    </tr>\n",
       "    <tr>\n",
       "      <th>1</th>\n",
       "      <td>Doctor: Hello, what brings you in today?\\nPati...</td>\n",
       "      <td>S: The patient, a 21-month-old male, presented...</td>\n",
       "      <td>Create a Medical SOAP note summary from the di...</td>\n",
       "      <td>[{'role': 'system', 'content': 'You are an exp...</td>\n",
       "      <td>[{'role': 'user', 'content': 'You are an exper...</td>\n",
       "    </tr>\n",
       "    <tr>\n",
       "      <th>2</th>\n",
       "      <td>Doctor: Hello, how can I help you today?\\nPati...</td>\n",
       "      <td>S: Patient reports experiencing fatigue, night...</td>\n",
       "      <td>Create a Medical SOAP note summary from the di...</td>\n",
       "      <td>[{'role': 'system', 'content': 'You are an exp...</td>\n",
       "      <td>[{'role': 'user', 'content': 'You are an exper...</td>\n",
       "    </tr>\n",
       "    <tr>\n",
       "      <th>3</th>\n",
       "      <td>Doctor: Hello, Patient D. How are you feeling ...</td>\n",
       "      <td>S: Patient D, a 60-year-old African American m...</td>\n",
       "      <td>Create a medical SOAP summary of this dialogue.</td>\n",
       "      <td>[{'role': 'system', 'content': 'You are an exp...</td>\n",
       "      <td>[{'role': 'user', 'content': 'You are an exper...</td>\n",
       "    </tr>\n",
       "    <tr>\n",
       "      <th>4</th>\n",
       "      <td>Doctor: Hello, I see that you have a history o...</td>\n",
       "      <td>S: The patient, a married woman with a 7-year ...</td>\n",
       "      <td>Create a Medical SOAP note summary from the di...</td>\n",
       "      <td>[{'role': 'system', 'content': 'You are an exp...</td>\n",
       "      <td>[{'role': 'user', 'content': 'You are an exper...</td>\n",
       "    </tr>\n",
       "  </tbody>\n",
       "</table>\n",
       "</div>"
      ]
     },
     "execution_count": 10,
     "metadata": {},
     "output_type": "execute_result"
    }
   ],
   "execution_count": 10
  },
  {
   "metadata": {
    "ExecuteTime": {
     "end_time": "2025-05-07T19:05:16.112770Z",
     "start_time": "2025-05-07T19:05:15.984330Z"
    }
   },
   "cell_type": "code",
   "source": "train_df_omi.info()",
   "id": "9af37f3f69109fad",
   "outputs": [
    {
     "name": "stdout",
     "output_type": "stream",
     "text": [
      "<class 'pandas.core.frame.DataFrame'>\n",
      "RangeIndex: 9250 entries, 0 to 9249\n",
      "Data columns (total 5 columns):\n",
      " #   Column             Non-Null Count  Dtype \n",
      "---  ------             --------------  ----- \n",
      " 0   dialogue           9250 non-null   object\n",
      " 1   soap               9250 non-null   object\n",
      " 2   prompt             9250 non-null   object\n",
      " 3   messages           9250 non-null   object\n",
      " 4   messages_nosystem  9250 non-null   object\n",
      "dtypes: object(5)\n",
      "memory usage: 361.5+ KB\n"
     ]
    }
   ],
   "execution_count": 11
  },
  {
   "metadata": {
    "ExecuteTime": {
     "end_time": "2025-05-07T19:07:48.249177Z",
     "start_time": "2025-05-07T19:07:48.237172Z"
    }
   },
   "cell_type": "code",
   "source": [
    "# Let's check one example\n",
    "train_df_omi.iloc[0]['dialogue']"
   ],
   "id": "da47a5244f3cb06e",
   "outputs": [
    {
     "data": {
      "text/plain": [
       "\"Doctor: Hello, how can I help you today?\\nPatient: My son has been having some issues with speech and development. He's 13 years old now.\\nDoctor: I see. Can you tell me more about his symptoms? Does he have any issues with muscle tone or hypotonia?\\nPatient: No, he doesn't have hypotonia. But he has mild to moderate speech and developmental delay, and he's been diagnosed with attention deficit disorder.\\nDoctor: Thank you for sharing that information. We'll run some tests, including an MRI, to get a better understanding of your son's condition. \\n(After the tests)\\nDoctor: The MRI results are in, and I'm glad to say that there are no structural brain anomalies. However, I did notice some physical characteristics. Does your son have any facial features like retrognathia, mild hypertelorism, or a slightly elongated philtrum and thin upper lip?\\nPatient: Yes, he has all of those features. His hands are also broad and short. And his feet have mild syndactyly of the second and third toe, with a sandal gap in both feet.\\nDoctor: Thank you for confirming that. We also conducted Whole Exome Sequencing (WES) analyses, and we found a de novo frameshift variant in his genetic makeup. Specifically, it's Chr1(GRCh37):g.244217335del, NM_205768.2(ZBTB18):c.259del(p.(Leu87Cysfs*21)). This leads to a premature termination codon located more than 400 codons upstream of the canonical termination codon.\\nPatient: What does that mean for my son?\\nDoctor: This genetic variant may be contributing to your son's speech, developmental delay, and attention deficit disorder. It's important that we continue monitoring his progress and provide appropriate support for his development.\\nPatient: What should we do for follow-up?\\nDoctor: Regular visits with a speech and language therapist, an occupational therapist, and a psychologist can help address your son's developmental and attention deficit disorder needs. I will also recommend regular check-ups with me to monitor his growth and overall health.\\nPatient: Thank you, doctor. We will follow your recommendations and keep an eye on his progress.\""
      ]
     },
     "execution_count": 16,
     "metadata": {},
     "output_type": "execute_result"
    }
   ],
   "execution_count": 16
  },
  {
   "metadata": {
    "ExecuteTime": {
     "end_time": "2025-05-07T19:05:51.757569Z",
     "start_time": "2025-05-07T19:05:51.750970Z"
    }
   },
   "cell_type": "code",
   "source": "train_df_omi.iloc[0]['soap']",
   "id": "68e46f9d15ae2de3",
   "outputs": [
    {
     "data": {
      "text/plain": [
       "\"S: The patient's mother reports that her 13-year-old son has mild to moderate speech and developmental delays and has been diagnosed with attention deficit disorder. She denies any issues with muscle tone or hypotonia. The patient also exhibits certain physical characteristics, including retrognathia, mild hypertelorism, an elongated philtrum, thin upper lip, broad and short hands, mild syndactyly of the second and third toes, and a sandal gap in both feet.\\nO: An MRI of the brain showed no structural anomalies. Whole Exome Sequencing (WES) revealed a de novo frameshift variant Chr1(GRCh37):g.244217335del, NM_205768.2(ZBTB18):c.259del(p.(Leu87Cysfs*21)), indicating a premature termination codon located more than 400 codons upstream of the canonical termination codon.\\nA: The primary diagnosis is a genetic disorder associated with the identified frameshift mutation, which likely contributes to the patient's speech and developmental delays and attention deficit disorder. The physical characteristics and genetic findings suggest a specific syndrome, which needs further correlation with clinical findings and genetic counseling.\\nP: The management plan includes regular follow-up visits with a speech and language therapist, an occupational therapist, and a psychologist to support the patient's developmental needs and address his attention deficit disorder. Regular medical check-ups will monitor his growth and overall health. Genetic counseling for the family is also recommended to discuss the implications of the genetic findings and potential familial inheritance.\""
      ]
     },
     "execution_count": 14,
     "metadata": {},
     "output_type": "execute_result"
    }
   ],
   "execution_count": 14
  }
 ],
 "metadata": {
  "kernelspec": {
   "display_name": "Python 3",
   "language": "python",
   "name": "python3"
  },
  "language_info": {
   "codemirror_mode": {
    "name": "ipython",
    "version": 2
   },
   "file_extension": ".py",
   "mimetype": "text/x-python",
   "name": "python",
   "nbconvert_exporter": "python",
   "pygments_lexer": "ipython2",
   "version": "2.7.6"
  }
 },
 "nbformat": 4,
 "nbformat_minor": 5
}
