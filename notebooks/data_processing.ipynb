{
 "cells": [
  {
   "metadata": {},
   "cell_type": "markdown",
   "source": "![title](../DOCS/img.png)\n\nThis image likely serves as a title or banner for the project."
  },
  {
   "metadata": {},
   "cell_type": "markdown",
   "source": [
    "# **What is SOAP ?** #\n",
    "A SOAP note is a structured method of documentation used by healthcare providers. The acronym SOAP stands for:\n",
    "\n",
    "* **S - Subjective**: This section captures information reported by the patient, such as their feelings, concerns, and their description of symptoms (e.g., \"stomach pain,\" \"nauseated, fatigued\"). It includes the patient's chief complaint and the history of their present illness.\n",
    "\n",
    "* **O - Objective**: This part includes observable, measurable, and factual data collected by the clinician. This encompasses vital signs (temperature, heart rate, blood pressure, etc.), physical exam findings, laboratory results, and imaging data.\n",
    "\n",
    "* **A - Assessment**: Here, the clinician provides their professional judgment and diagnosis based on the subjective and objective information gathered. It involves an analysis of the patient's condition, potential diagnoses, and the patient's progress.\n",
    "\n",
    "* **P - Plan**: This section outlines the treatment plan, including any further tests, therapies, medications, referrals to specialists, and follow-up actions.\n",
    "\n",
    "SOAP notes are a crucial tool for healthcare workers to organize patient information, guide clinical reasoning, and facilitate communication among health professionals. They help ensure consistent and clear documentation, which is essential for quality patient care. This standardized format was developed by Dr. Lawrence Weed in the 1960s.\n",
    "\n",
    "# What is TxGemma ? #\n",
    "\n",
    "TxGemma is a collection of open-source machine learning models designed to improve the efficiency of therapeutic development. These models are fine-tuned from Google DeepMind's Gemma 2 architecture using a large dataset (7 million training examples) from the Therapeutics Data Commons (TDC), which includes information on small molecules, proteins, nucleic acids, diseases, and cell lines.\n",
    "\n",
    "TxGemma models come in various sizes (2B, 9B, and 27B parameters) and are built to Predict therapeutic properties, Perform classification, regression, and generation tasks, Facilitate conversational AI for deeper insights, Support agentic orchestration.\n",
    "\n",
    "_(Google, \"TXGemma: A Family of Lightweight Open Models,\" Google AI Blog, accessed May 22, 2025, https://blog.google/technology/ai/gemma-open-models/.)_\n",
    "\n",
    "# What is OMI ? #\n",
    "\n",
    "OMI dataset consists of 10,000 synthetic dialogues between a patient and clinician, created using the GPT-4 dataset from NoteChat, based on PubMed Central (PMC) case-reports. Accompanying these dialogues are SOAP summaries generated through GPT-4. The dataset is split into 9250 training, 500 validation, and 250 test entries, each containing a dialogue column, a SOAP column, a prompt column, and a ChatML-style conversation format column.\n",
    "\n",
    "_(Junxian Tang et al., \"NoteChat: A Dataset of Synthetic Doctor-Patient Conversations Conditioned on Clinical Notes,\" arXiv, last modified October 24, 2023, https://arxiv.org/abs/2310.15959.)_"
   ]
  },
  {
   "cell_type": "markdown",
   "source": "## 1. Setup and Initialization\n\nThis section imports necessary libraries and defines file paths for data storage. `pathlib` is used for robust path manipulation, `datasets` for loading data from Hugging Face, `pandas` for data manipulation in DataFrames, and `re` for regular expression operations."
  },
  {
   "metadata": {
    "ExecuteTime": {
     "end_time": "2025-05-22T20:40:15.783886Z",
     "start_time": "2025-05-22T20:39:10.275378Z"
    }
   },
   "cell_type": "code",
   "source": [
    "# Import necessary libraries\n",
    "from pathlib import Path  # For object-oriented path manipulation\n",
    "from datasets import load_dataset  # For loading datasets from Hugging Face Hub\n",
    "import pandas as pd  # For data manipulation and analysis using DataFrames\n",
    "import re  # For regular expression operations, used later for text processing\n",
    "\n",
    "# Define base data path\n",
    "DATA_PATH = Path(\"../data\")\n",
    "\n",
    "# Define specific paths for processed and raw OMI dataset\n",
    "# OMI_PATH_processed will store the cleaned and transformed data\n",
    "OMI_PATH_processed = DATA_PATH / \"processed\" / \"omi-health\"\n",
    "# OMI_PATH_raw will store the initially downloaded dataset\n",
    "OMI_PATH_raw = DATA_PATH / \"raw\" / \"omi-health\"\n",
    "\n",
    "# Create the directory for processed data if it doesn't already exist\n",
    "# parents=True: creates parent directories if they don't exist\n",
    "# exist_ok=True: doesn't raise an error if the directory already exists\n",
    "OMI_PATH_processed.mkdir(parents=True, exist_ok=True)"
   ],
   "outputs": [
    {
     "name": "stderr",
     "output_type": "stream",
     "text": [
      "/opt/miniconda3/envs/SOAP/lib/python3.12/site-packages/tqdm/auto.py:21: TqdmWarning: IProgress not found. Please update jupyter and ipywidgets. See https://ipywidgets.readthedocs.io/en/stable/user_install.html\n",
      "  from .autonotebook import tqdm as notebook_tqdm\n"
     ]
    }
   ],
   "execution_count": 1
  },
  {
   "cell_type": "markdown",
   "source": "## 2. Data Loading and Initial Storage\n\nThe following cell loads the 'omi-health/medical-dialogue-to-soap-summary' dataset from the Hugging Face Hub. This dataset contains medical dialogues and their corresponding SOAP summaries. After loading, the raw dataset is saved to the disk in the `OMI_PATH_raw` directory for future use and to avoid re-downloading."
  },
  {
   "cell_type": "code",
   "metadata": {
    "collapsed": true,
    "ExecuteTime": {
     "end_time": "2025-05-20T11:53:32.869261Z",
     "start_time": "2025-05-20T11:53:19.946736Z"
    }
   },
   "source": [
    "# Load the dataset from Hugging Face Hub\n",
    "# The dataset is identified by \"omi-health/medical-dialogue-to-soap-summary\"\n",
    "ds_omi_health = load_dataset(\"omi-health/medical-dialogue-to-soap-summary\")\n",
    "\n",
    "# Save the loaded dataset to the raw data path defined earlier\n",
    "# This allows for quicker access later and serves as a backup of the original data format\n",
    "ds_omi_health.save_to_disk(OMI_PATH_raw)"
   ],
   "outputs": [
    {
     "name": "stderr",
     "output_type": "stream",
     "text": [
      "C:\\Users\\khal6952\\.conda\\envs\\SOAP\\Lib\\site-packages\\huggingface_hub\\file_download.py:143: UserWarning: `huggingface_hub` cache-system uses symlinks by default to efficiently store duplicated files but your machine does not support them in C:\\Users\\khal6952\\.cache\\huggingface\\hub\\datasets--omi-health--medical-dialogue-to-soap-summary. Caching files will still work but in a degraded version that might require more space on your disk. This warning can be disabled by setting the `HF_HUB_DISABLE_SYMLINKS_WARNING` environment variable. For more details, see https://huggingface.co/docs/huggingface_hub/how-to-cache#limitations.\n",
      "To support symlinks on Windows, you either need to activate Developer Mode or to run Python as an administrator. In order to activate developer mode, see this article: https://docs.microsoft.com/en-us/windows/apps/get-started/enable-your-device-for-development\n",
      "  warnings.warn(message)\n",
      "Generating train split: 100%|██████████| 9250/9250 [00:00<00:00, 31179.03 examples/s]\n",
      "Generating validation split: 100%|██████████| 500/500 [00:00<00:00, 27705.29 examples/s]\n",
      "Generating test split: 100%|██████████| 250/250 [00:00<00:00, 20787.76 examples/s]\n",
      "C:\\Users\\khal6952\\.conda\\envs\\SOAP\\Lib\\site-packages\\huggingface_hub\\file_download.py:143: UserWarning: `huggingface_hub` cache-system uses symlinks by default to efficiently store duplicated files but your machine does not support them in C:\\Users\\khal6952\\.cache\\huggingface\\hub\\datasets--adesouza1--soap_notes. Caching files will still work but in a degraded version that might require more space on your disk. This warning can be disabled by setting the `HF_HUB_DISABLE_SYMLINKS_WARNING` environment variable. For more details, see https://huggingface.co/docs/huggingface_hub/how-to-cache#limitations.\n",
      "To support symlinks on Windows, you either need to activate Developer Mode or to run Python as an administrator. In order to activate developer mode, see this article: https://docs.microsoft.com/en-us/windows/apps/get-started/enable-your-device-for-development\n",
      "  warnings.warn(message)\n",
      "Generating train split: 100%|██████████| 558/558 [00:00<00:00, 6393.01 examples/s]\n",
      "Generating test split: 100%|██████████| 62/62 [00:00<00:00, 3436.36 examples/s]\n",
      "Saving the dataset (1/1 shards): 100%|██████████| 9250/9250 [00:00<00:00, 90894.06 examples/s]\n",
      "Saving the dataset (1/1 shards): 100%|██████████| 500/500 [00:00<00:00, 76692.34 examples/s]\n",
      "Saving the dataset (1/1 shards): 100%|██████████| 250/250 [00:00<00:00, 49858.59 examples/s]\n"
     ]
    }
   ],
   "execution_count": 2
  },
  {
   "cell_type": "markdown",
   "source": "## 3. Data Conversion and Initial Exploration\n\nThe dataset, once loaded, is typically in a Hugging Face `Dataset` object format. For easier manipulation and analysis, especially with tabular data, it's converted into Pandas DataFrames. This section converts the 'train', 'validation', and 'test' splits of the dataset into their respective DataFrames and then displays the first few rows of the training DataFrame (`train_df_omi.head()`) to get a quick overview of its structure and content."
  },
  {
   "metadata": {
    "ExecuteTime": {
     "end_time": "2025-05-20T11:53:33.032892Z",
     "start_time": "2025-05-20T11:53:32.892812Z"
    }
   },
   "cell_type": "code",
   "source": [
    "# Convert the 'train' split of the dataset to a Pandas DataFrame if it exists\n",
    "if 'train' in ds_omi_health:\n",
    "    train_df_omi = ds_omi_health['train'].to_pandas()\n",
    "\n",
    "# Convert the 'validation' split to a Pandas DataFrame if it exists\n",
    "if 'validation' in ds_omi_health:\n",
    "    val_df_omi = ds_omi_health['validation'].to_pandas()\n",
    "\n",
    "# Convert the 'test' split to a Pandas DataFrame if it exists\n",
    "if 'test' in ds_omi_health:\n",
    "    test_df_omi = ds_omi_health['test'].to_pandas()\n",
    "\n",
    "# Display the first 5 rows of the training DataFrame to inspect its columns and sample data\n",
    "train_df_omi.head()"
   ],
   "outputs": [
    {
     "data": {
      "text/plain": [
       "                                            dialogue  \\\n",
       "0  Doctor: Hello, how can I help you today?\\nPati...   \n",
       "1  Doctor: Hello, what brings you in today?\\nPati...   \n",
       "2  Doctor: Hello, how can I help you today?\\nPati...   \n",
       "3  Doctor: Hello, Patient D. How are you feeling ...   \n",
       "4  Doctor: Hello, I see that you have a history o...   \n",
       "\n",
       "                                                soap  \\\n",
       "0  S: The patient's mother reports that her 13-ye...   \n",
       "1  S: The patient, a 21-month-old male, presented...   \n",
       "2  S: Patient reports experiencing fatigue, night...   \n",
       "3  S: Patient D, a 60-year-old African American m...   \n",
       "4  S: The patient, a married woman with a 7-year ...   \n",
       "\n",
       "                                              prompt  \\\n",
       "0  Create a Medical SOAP note summary from the di...   \n",
       "1  Create a Medical SOAP note summary from the di...   \n",
       "2  Create a Medical SOAP note summary from the di...   \n",
       "3    Create a medical SOAP summary of this dialogue.   \n",
       "4  Create a Medical SOAP note summary from the di...   \n",
       "\n",
       "                                            messages  \\\n",
       "0  [{'role': 'system', 'content': 'You are an exp...   \n",
       "1  [{'role': 'system', 'content': 'You are an exp...   \n",
       "2  [{'role': 'system', 'content': 'You are an exp...   \n",
       "3  [{'role': 'system', 'content': 'You are an exp...   \n",
       "4  [{'role': 'system', 'content': 'You are an exp...   \n",
       "\n",
       "                                   messages_nosystem  \n",
       "0  [{'role': 'user', 'content': 'You are an exper...  \n",
       "1  [{'role': 'user', 'content': 'You are an exper...  \n",
       "2  [{'role': 'user', 'content': 'You are an exper...  \n",
       "3  [{'role': 'user', 'content': 'You are an exper...  \n",
       "4  [{'role': 'user', 'content': 'You are an exper...  "
      ],
      "text/html": [
       "<div>\n",
       "<style scoped>\n",
       "    .dataframe tbody tr th:only-of-type {\n",
       "        vertical-align: middle;\n",
       "    }\n",
       "\n",
       "    .dataframe tbody tr th {\n",
       "        vertical-align: top;\n",
       "    }\n",
       "\n",
       "    .dataframe thead th {\n",
       "        text-align: right;\n",
       "    }\n",
       "</style>\n",
       "<table border=\"1\" class=\"dataframe\">\n",
       "  <thead>\n",
       "    <tr style=\"text-align: right;\">\n",
       "      <th></th>\n",
       "      <th>dialogue</th>\n",
       "      <th>soap</th>\n",
       "      <th>prompt</th>\n",
       "      <th>messages</th>\n",
       "      <th>messages_nosystem</th>\n",
       "    </tr>\n",
       "  </thead>\n",
       "  <tbody>\n",
       "    <tr>\n",
       "      <th>0</th>\n",
       "      <td>Doctor: Hello, how can I help you today?\\nPati...</td>\n",
       "      <td>S: The patient's mother reports that her 13-ye...</td>\n",
       "      <td>Create a Medical SOAP note summary from the di...</td>\n",
       "      <td>[{'role': 'system', 'content': 'You are an exp...</td>\n",
       "      <td>[{'role': 'user', 'content': 'You are an exper...</td>\n",
       "    </tr>\n",
       "    <tr>\n",
       "      <th>1</th>\n",
       "      <td>Doctor: Hello, what brings you in today?\\nPati...</td>\n",
       "      <td>S: The patient, a 21-month-old male, presented...</td>\n",
       "      <td>Create a Medical SOAP note summary from the di...</td>\n",
       "      <td>[{'role': 'system', 'content': 'You are an exp...</td>\n",
       "      <td>[{'role': 'user', 'content': 'You are an exper...</td>\n",
       "    </tr>\n",
       "    <tr>\n",
       "      <th>2</th>\n",
       "      <td>Doctor: Hello, how can I help you today?\\nPati...</td>\n",
       "      <td>S: Patient reports experiencing fatigue, night...</td>\n",
       "      <td>Create a Medical SOAP note summary from the di...</td>\n",
       "      <td>[{'role': 'system', 'content': 'You are an exp...</td>\n",
       "      <td>[{'role': 'user', 'content': 'You are an exper...</td>\n",
       "    </tr>\n",
       "    <tr>\n",
       "      <th>3</th>\n",
       "      <td>Doctor: Hello, Patient D. How are you feeling ...</td>\n",
       "      <td>S: Patient D, a 60-year-old African American m...</td>\n",
       "      <td>Create a medical SOAP summary of this dialogue.</td>\n",
       "      <td>[{'role': 'system', 'content': 'You are an exp...</td>\n",
       "      <td>[{'role': 'user', 'content': 'You are an exper...</td>\n",
       "    </tr>\n",
       "    <tr>\n",
       "      <th>4</th>\n",
       "      <td>Doctor: Hello, I see that you have a history o...</td>\n",
       "      <td>S: The patient, a married woman with a 7-year ...</td>\n",
       "      <td>Create a Medical SOAP note summary from the di...</td>\n",
       "      <td>[{'role': 'system', 'content': 'You are an exp...</td>\n",
       "      <td>[{'role': 'user', 'content': 'You are an exper...</td>\n",
       "    </tr>\n",
       "  </tbody>\n",
       "</table>\n",
       "</div>"
      ]
     },
     "execution_count": 3,
     "metadata": {},
     "output_type": "execute_result"
    }
   ],
   "execution_count": 3
  },
  {
   "cell_type": "markdown",
   "source": "### 3.1. DataFrame Information\n\nTo get a concise summary of the DataFrame, including the data types of each column and the number of non-null values, the `.info()` method is used. This is helpful for understanding memory usage and identifying columns with missing data."
  },
  {
   "metadata": {
    "ExecuteTime": {
     "end_time": "2025-05-20T11:53:33.067509Z",
     "start_time": "2025-05-20T11:53:33.053937Z"
    }
   },
   "cell_type": "code",
   "source": [
    "# Display a summary of the training DataFrame\n",
    "# This includes the index dtype, column dtypes, non-null values, and memory usage.\n",
    "train_df_omi.info()"
   ],
   "outputs": [
    {
     "name": "stdout",
     "output_type": "stream",
     "text": [
      "<class 'pandas.core.frame.DataFrame'>\n",
      "RangeIndex: 9250 entries, 0 to 9249\n",
      "Data columns (total 5 columns):\n",
      " #   Column             Non-Null Count  Dtype \n",
      "---  ------             --------------  ----- \n",
      " 0   dialogue           9250 non-null   object\n",
      " 1   soap               9250 non-null   object\n",
      " 2   prompt             9250 non-null   object\n",
      " 3   messages           9250 non-null   object\n",
      " 4   messages_nosystem  9250 non-null   object\n",
      "dtypes: object(5)\n",
      "memory usage: 361.5+ KB\n"
     ]
    }
   ],
   "execution_count": 4
  },
  {
   "cell_type": "markdown",
   "source": "### 3.2. Inspecting Individual Data Entries\n\nLet's look at a single example from the training data to better understand the content of the 'dialogue' and 'soap' columns. We use `.iloc[0]` to access the first row."
  },
  {
   "metadata": {
    "ExecuteTime": {
     "end_time": "2025-05-20T11:53:33.146621Z",
     "start_time": "2025-05-20T11:53:33.143014Z"
    }
   },
   "cell_type": "code",
   "source": [
    "# Let's check one example: display the 'dialogue' content of the first entry (index 0)\n",
    "train_df_omi.iloc[0]['dialogue']"
   ],
   "outputs": [
    {
     "data": {
      "text/plain": [
       "\"Doctor: Hello, how can I help you today?\\nPatient: My son has been having some issues with speech and development. He's 13 years old now.\\nDoctor: I see. Can you tell me more about his symptoms? Does he have any issues with muscle tone or hypotonia?\\nPatient: No, he doesn't have hypotonia. But he has mild to moderate speech and developmental delay, and he's been diagnosed with attention deficit disorder.\\nDoctor: Thank you for sharing that information. We'll run some tests, including an MRI, to get a better understanding of your son's condition. \\n(After the tests)\\nDoctor: The MRI results are in, and I'm glad to say that there are no structural brain anomalies. However, I did notice some physical characteristics. Does your son have any facial features like retrognathia, mild hypertelorism, or a slightly elongated philtrum and thin upper lip?\\nPatient: Yes, he has all of those features. His hands are also broad and short. And his feet have mild syndactyly of the second and third toe, with a sandal gap in both feet.\\nDoctor: Thank you for confirming that. We also conducted Whole Exome Sequencing (WES) analyses, and we found a de novo frameshift variant in his genetic makeup. Specifically, it's Chr1(GRCh37):g.244217335del, NM_205768.2(ZBTB18):c.259del(p.(Leu87Cysfs*21)). This leads to a premature termination codon located more than 400 codons upstream of the canonical termination codon.\\nPatient: What does that mean for my son?\\nDoctor: This genetic variant may be contributing to your son's speech, developmental delay, and attention deficit disorder. It's important that we continue monitoring his progress and provide appropriate support for his development.\\nPatient: What should we do for follow-up?\\nDoctor: Regular visits with a speech and language therapist, an occupational therapist, and a psychologist can help address your son's developmental and attention deficit disorder needs. I will also recommend regular check-ups with me to monitor his growth and overall health.\\nPatient: Thank you, doctor. We will follow your recommendations and keep an eye on his progress.\""
      ]
     },
     "execution_count": 5,
     "metadata": {},
     "output_type": "execute_result"
    }
   ],
   "execution_count": 5
  },
  {
   "metadata": {
    "ExecuteTime": {
     "end_time": "2025-05-20T11:53:33.194243Z",
     "start_time": "2025-05-20T11:53:33.190724Z"
    }
   },
   "cell_type": "code",
   "source": [
    "# Display the 'soap' note content of the first entry (index 0)\n",
    "train_df_omi.iloc[0]['soap']"
   ],
   "outputs": [
    {
     "data": {
      "text/plain": [
       "\"S: The patient's mother reports that her 13-year-old son has mild to moderate speech and developmental delays and has been diagnosed with attention deficit disorder. She denies any issues with muscle tone or hypotonia. The patient also exhibits certain physical characteristics, including retrognathia, mild hypertelorism, an elongated philtrum, thin upper lip, broad and short hands, mild syndactyly of the second and third toes, and a sandal gap in both feet.\\nO: An MRI of the brain showed no structural anomalies. Whole Exome Sequencing (WES) revealed a de novo frameshift variant Chr1(GRCh37):g.244217335del, NM_205768.2(ZBTB18):c.259del(p.(Leu87Cysfs*21)), indicating a premature termination codon located more than 400 codons upstream of the canonical termination codon.\\nA: The primary diagnosis is a genetic disorder associated with the identified frameshift mutation, which likely contributes to the patient's speech and developmental delays and attention deficit disorder. The physical characteristics and genetic findings suggest a specific syndrome, which needs further correlation with clinical findings and genetic counseling.\\nP: The management plan includes regular follow-up visits with a speech and language therapist, an occupational therapist, and a psychologist to support the patient's developmental needs and address his attention deficit disorder. Regular medical check-ups will monitor his growth and overall health. Genetic counseling for the family is also recommended to discuss the implications of the genetic findings and potential familial inheritance.\""
      ]
     },
     "execution_count": 6,
     "metadata": {},
     "output_type": "execute_result"
    }
   ],
   "execution_count": 6
  },
  {
   "cell_type": "markdown",
   "source": "## 4. Feature Engineering: Extracting Event Tags from Dialogues\n\nSome dialogues may contain tags indicating events or time progression, such as `(After the tests)` or `[After 3 weeks of therapy]`. These tags can provide contextual information. The following function `extract_dialogue_tags` uses regular expressions to find and extract such tags if they appear on their own lines within the dialogue text."
  },
  {
   "metadata": {
    "ExecuteTime": {
     "end_time": "2025-05-20T11:53:33.227430Z",
     "start_time": "2025-05-20T11:53:33.224295Z"
    }
   },
   "cell_type": "code",
   "source": [
    "# Define a function to extract event tags from dialogue text\n",
    "def extract_dialogue_tags(dialogue):\n",
    "    # Check if the dialogue is NaN (Not a Number), which can occur for missing values\n",
    "    if pd.isna(dialogue):\n",
    "        return []  # Return an empty list if dialogue is missing\n",
    "\n",
    "    # Regular expression to find text enclosed in parentheses () or square brackets []\n",
    "    # that appears on its own line (or effectively on its own line due to surrounding whitespace and newline).\n",
    "    # Details of the regex:\n",
    "    # \\n\\s*: Matches a newline character followed by zero or more whitespace characters (start of line with potential indent).\n",
    "    # (\\(.*?\\)|\\[.*?\\]): Capturing group for the tag itself.\n",
    "    #   \\(.*?\\): Matches anything inside literal parentheses (non-greedy, i.e., shortest match).\n",
    "    #   |: OR operator.\n",
    "    #   \\[.*?\\]: Matches anything inside literal square brackets (non-greedy).\n",
    "    # \\s*: Matches zero or more whitespace characters after the tag on the same line.\n",
    "    # (?:\\n|$): Non-capturing group that matches either a newline character or the end of the string.\n",
    "    #            This ensures the tag is effectively on a line by itself or at the end of the dialogue.\n",
    "    pattern = r\"\\n\\s*(\\(.*?\\)|\\[.*?\\])\\s*(?:\\n|$)\"\n",
    "    \n",
    "    # Find all occurrences of the pattern in the dialogue (converted to string to be safe)\n",
    "    tags = re.findall(pattern, str(dialogue))\n",
    "    \n",
    "    # Convert the list of found tags to a string representation of the list (e.g., \"['(tag1)', '(tag2)']\")\n",
    "    text = str(tags)\n",
    "    return text"
   ],
   "execution_count": 7
  },
  {
   "cell_type": "markdown",
   "source": "### 4.1. Testing the Tag Extraction Function\n\nLet's test the `extract_dialogue_tags` function on the first few entries of the training data to see if it correctly identifies and extracts the tags."
  },
  {
   "metadata": {
    "ExecuteTime": {
     "end_time": "2025-05-20T11:53:33.307769Z",
     "start_time": "2025-05-20T11:53:33.303332Z"
    }
   },
   "cell_type": "code",
   "source": [
    "# Iterate over the first 5 rows of the training DataFrame\n",
    "for index, row in train_df_omi.head().iterrows():\n",
    "    # Extract tags from the 'dialogue' column of the current row\n",
    "    tags_on_new_lines = extract_dialogue_tags(row['dialogue'])\n",
    "    # Print the extracted tags for each dialogue\n",
    "    print(f\"\\nTags found on new lines: {tags_on_new_lines}\")"
   ],
   "outputs": [
    {
     "name": "stdout",
     "output_type": "stream",
     "text": [
      "\n",
      "Tags found on new lines: ['(After the tests)']\n",
      "\n",
      "Tags found on new lines: ['[After the tests]', '[After 3 weeks of therapy]']\n",
      "\n",
      "Tags found on new lines: []\n",
      "\n",
      "Tags found on new lines: []\n",
      "\n",
      "Tags found on new lines: []\n"
     ]
    }
   ],
   "execution_count": 8
  },
  {
   "cell_type": "markdown",
   "source": "### 4.2. Applying Tag Extraction to the DataFrame\n\nNow, apply the `extract_dialogue_tags` function to the entire 'dialogue' column of the training DataFrame. The results, which are series of lists (or rather, string representations of lists), are then concatenated as new columns to the original DataFrame. The primary new column containing these tags is then renamed to 'event_tags'."
  },
  {
   "metadata": {
    "ExecuteTime": {
     "end_time": "2025-05-20T11:53:33.866523Z",
     "start_time": "2025-05-20T11:53:33.335821Z"
    }
   },
   "cell_type": "code",
   "source": [
    "# Apply the tag extraction function to the 'dialogue' column of the training DataFrame.\n",
    "# .apply(pd.Series) is used to convert the list-like results from extract_dialogue_tags \n",
    "# (which returns a string representation of a list) into separate columns if the string represented a list of multiple items.\n",
    "# However, since extract_dialogue_tags returns a single string, this will result in one new column (column 0).\n",
    "tags_df = train_df_omi['dialogue'].apply(extract_dialogue_tags).apply(pd.Series)\n",
    "\n",
    "# Concatenate the new tags DataFrame (tags_df) with the original training DataFrame (train_df_omi)\n",
    "# axis=1 means concatenate column-wise\n",
    "train_df_omi = pd.concat([train_df_omi, tags_df], axis=1)\n",
    "\n",
    "# Rename the newly added column (which is initially named 0) to 'event_tags'\n",
    "train_df_omi = train_df_omi.rename(columns={\n",
    "    0: 'event_tags'\n",
    "})"
   ],
   "execution_count": 9
  },
  {
   "cell_type": "markdown",
   "source": "### 4.3. Displaying DataFrame with Extracted Tags\n\nLet's view the DataFrame again to see the new 'event_tags' column."
  },
  {
   "metadata": {
    "ExecuteTime": {
     "end_time": "2025-05-20T11:53:33.897753Z",
     "start_time": "2025-05-20T11:53:33.881544Z"
    }
   },
   "cell_type": "code",
   "source": [
    "# Display the entire training DataFrame to show the newly added 'event_tags' column\n",
    "train_df_omi"
   ],
   "outputs": [
    {
     "data": {
      "text/plain": [
       "                                               dialogue  \\\n",
       "0     Doctor: Hello, how can I help you today?\\nPati...   \n",
       "1     Doctor: Hello, what brings you in today?\\nPati...   \n",
       "2     Doctor: Hello, how can I help you today?\\nPati...   \n",
       "3     Doctor: Hello, Patient D. How are you feeling ...   \n",
       "4     Doctor: Hello, I see that you have a history o...   \n",
       "...                                                 ...   \n",
       "9245  Doctor: Hello, I see you're here for a problem...   \n",
       "9246  Doctor: Hi there! I see you have brought your ...   \n",
       "9247  Doctor: Hello there, how can I help you today?...   \n",
       "9248  Doctor: Hello, I understand that you've been t...   \n",
       "9249  Doctor: Hi there, I see you have a history of ...   \n",
       "\n",
       "                                                   soap  \\\n",
       "0     S: The patient's mother reports that her 13-ye...   \n",
       "1     S: The patient, a 21-month-old male, presented...   \n",
       "2     S: Patient reports experiencing fatigue, night...   \n",
       "3     S: Patient D, a 60-year-old African American m...   \n",
       "4     S: The patient, a married woman with a 7-year ...   \n",
       "...                                                 ...   \n",
       "9245  S: The patient reports difficulty seeing in th...   \n",
       "9246  S: The patient, a 3-year-old neutered male Box...   \n",
       "9247  S: The patient is a 29-year-old obese male wit...   \n",
       "9248  S: The patient reports feeling weak but managi...   \n",
       "9249  S: The patient, with a history of dermatomyosi...   \n",
       "\n",
       "                                                 prompt  \\\n",
       "0     Create a Medical SOAP note summary from the di...   \n",
       "1     Create a Medical SOAP note summary from the di...   \n",
       "2     Create a Medical SOAP note summary from the di...   \n",
       "3       Create a medical SOAP summary of this dialogue.   \n",
       "4     Create a Medical SOAP note summary from the di...   \n",
       "...                                                 ...   \n",
       "9245  Create a Medical SOAP note summary from the di...   \n",
       "9246  Create a Medical SOAP note summary from the di...   \n",
       "9247  Create a Medical SOAP note summary from the di...   \n",
       "9248    Create a medical SOAP summary of this dialogue.   \n",
       "9249    Create a medical SOAP summary of this dialogue.   \n",
       "\n",
       "                                               messages  \\\n",
       "0     [{'role': 'system', 'content': 'You are an exp...   \n",
       "1     [{'role': 'system', 'content': 'You are an exp...   \n",
       "2     [{'role': 'system', 'content': 'You are an exp...   \n",
       "3     [{'role': 'system', 'content': 'You are an exp...   \n",
       "4     [{'role': 'system', 'content': 'You are an exp...   \n",
       "...                                                 ...   \n",
       "9245  [{'role': 'system', 'content': 'You are an exp...   \n",
       "9246  [{'role': 'system', 'content': 'You are an exp...   \n",
       "9247  [{'role': 'system', 'content': 'You are an exp...   \n",
       "9248  [{'role': 'system', 'content': 'You are an exp...   \n",
       "9249  [{'role': 'system', 'content': 'You are an exp...   \n",
       "\n",
       "                                      messages_nosystem  \\\n",
       "0     [{'role': 'user', 'content': 'You are an exper...   \n",
       "1     [{'role': 'user', 'content': 'You are an exper...   \n",
       "2     [{'role': 'user', 'content': 'You are an exper...   \n",
       "3     [{'role': 'user', 'content': 'You are an exper...   \n",
       "4     [{'role': 'user', 'content': 'You are an exper...   \n",
       "...                                                 ...   \n",
       "9245  [{'role': 'user', 'content': 'You are an exper...   \n",
       "9246  [{'role': 'user', 'content': 'You are an exper...   \n",
       "9247  [{'role': 'user', 'content': 'You are an exper...   \n",
       "9248  [{'role': 'user', 'content': 'You are an exper...   \n",
       "9249  [{'role': 'user', 'content': 'You are an exper...   \n",
       "\n",
       "                                             event_tags  \n",
       "0                                 ['(After the tests)']  \n",
       "1     ['[After the tests]', '[After 3 weeks of thera...  \n",
       "2                                                    []  \n",
       "3                                                    []  \n",
       "4                                                    []  \n",
       "...                                                 ...  \n",
       "9245                                                 []  \n",
       "9246                                                 []  \n",
       "9247                                                 []  \n",
       "9248                                                 []  \n",
       "9249                                                 []  \n",
       "\n",
       "[9250 rows x 6 columns]"
      ],
      "text/html": [
       "<div>\n",
       "<style scoped>\n",
       "    .dataframe tbody tr th:only-of-type {\n",
       "        vertical-align: middle;\n",
       "    }\n",
       "\n",
       "    .dataframe tbody tr th {\n",
       "        vertical-align: top;\n",
       "    }\n",
       "\n",
       "    .dataframe thead th {\n",
       "        text-align: right;\n",
       "    }\n",
       "</style>\n",
       "<table border=\"1\" class=\"dataframe\">\n",
       "  <thead>\n",
       "    <tr style=\"text-align: right;\">\n",
       "      <th></th>\n",
       "      <th>dialogue</th>\n",
       "      <th>soap</th>\n",
       "      <th>prompt</th>\n",
       "      <th>messages</th>\n",
       "      <th>messages_nosystem</th>\n",
       "      <th>event_tags</th>\n",
       "    </tr>\n",
       "  </thead>\n",
       "  <tbody>\n",
       "    <tr>\n",
       "      <th>0</th>\n",
       "      <td>Doctor: Hello, how can I help you today?\\nPati...</td>\n",
       "      <td>S: The patient's mother reports that her 13-ye...</td>\n",
       "      <td>Create a Medical SOAP note summary from the di...</td>\n",
       "      <td>[{'role': 'system', 'content': 'You are an exp...</td>\n",
       "      <td>[{'role': 'user', 'content': 'You are an exper...</td>\n",
       "      <td>['(After the tests)']</td>\n",
       "    </tr>\n",
       "    <tr>\n",
       "      <th>1</th>\n",
       "      <td>Doctor: Hello, what brings you in today?\\nPati...</td>\n",
       "      <td>S: The patient, a 21-month-old male, presented...</td>\n",
       "      <td>Create a Medical SOAP note summary from the di...</td>\n",
       "      <td>[{'role': 'system', 'content': 'You are an exp...</td>\n",
       "      <td>[{'role': 'user', 'content': 'You are an exper...</td>\n",
       "      <td>['[After the tests]', '[After 3 weeks of thera...</td>\n",
       "    </tr>\n",
       "    <tr>\n",
       "      <th>2</th>\n",
       "      <td>Doctor: Hello, how can I help you today?\\nPati...</td>\n",
       "      <td>S: Patient reports experiencing fatigue, night...</td>\n",
       "      <td>Create a Medical SOAP note summary from the di...</td>\n",
       "      <td>[{'role': 'system', 'content': 'You are an exp...</td>\n",
       "      <td>[{'role': 'user', 'content': 'You are an exper...</td>\n",
       "      <td>[]</td>\n",
       "    </tr>\n",
       "    <tr>\n",
       "      <th>3</th>\n",
       "      <td>Doctor: Hello, Patient D. How are you feeling ...</td>\n",
       "      <td>S: Patient D, a 60-year-old African American m...</td>\n",
       "      <td>Create a medical SOAP summary of this dialogue.</td>\n",
       "      <td>[{'role': 'system', 'content': 'You are an exp...</td>\n",
       "      <td>[{'role': 'user', 'content': 'You are an exper...</td>\n",
       "      <td>[]</td>\n",
       "    </tr>\n",
       "    <tr>\n",
       "      <th>4</th>\n",
       "      <td>Doctor: Hello, I see that you have a history o...</td>\n",
       "      <td>S: The patient, a married woman with a 7-year ...</td>\n",
       "      <td>Create a Medical SOAP note summary from the di...</td>\n",
       "      <td>[{'role': 'system', 'content': 'You are an exp...</td>\n",
       "      <td>[{'role': 'user', 'content': 'You are an exper...</td>\n",
       "      <td>[]</td>\n",
       "    </tr>\n",
       "    <tr>\n",
       "      <th>...</th>\n",
       "      <td>...</td>\n",
       "      <td>...</td>\n",
       "      <td>...</td>\n",
       "      <td>...</td>\n",
       "      <td>...</td>\n",
       "      <td>...</td>\n",
       "    </tr>\n",
       "    <tr>\n",
       "      <th>9245</th>\n",
       "      <td>Doctor: Hello, I see you're here for a problem...</td>\n",
       "      <td>S: The patient reports difficulty seeing in th...</td>\n",
       "      <td>Create a Medical SOAP note summary from the di...</td>\n",
       "      <td>[{'role': 'system', 'content': 'You are an exp...</td>\n",
       "      <td>[{'role': 'user', 'content': 'You are an exper...</td>\n",
       "      <td>[]</td>\n",
       "    </tr>\n",
       "    <tr>\n",
       "      <th>9246</th>\n",
       "      <td>Doctor: Hi there! I see you have brought your ...</td>\n",
       "      <td>S: The patient, a 3-year-old neutered male Box...</td>\n",
       "      <td>Create a Medical SOAP note summary from the di...</td>\n",
       "      <td>[{'role': 'system', 'content': 'You are an exp...</td>\n",
       "      <td>[{'role': 'user', 'content': 'You are an exper...</td>\n",
       "      <td>[]</td>\n",
       "    </tr>\n",
       "    <tr>\n",
       "      <th>9247</th>\n",
       "      <td>Doctor: Hello there, how can I help you today?...</td>\n",
       "      <td>S: The patient is a 29-year-old obese male wit...</td>\n",
       "      <td>Create a Medical SOAP note summary from the di...</td>\n",
       "      <td>[{'role': 'system', 'content': 'You are an exp...</td>\n",
       "      <td>[{'role': 'user', 'content': 'You are an exper...</td>\n",
       "      <td>[]</td>\n",
       "    </tr>\n",
       "    <tr>\n",
       "      <th>9248</th>\n",
       "      <td>Doctor: Hello, I understand that you've been t...</td>\n",
       "      <td>S: The patient reports feeling weak but managi...</td>\n",
       "      <td>Create a medical SOAP summary of this dialogue.</td>\n",
       "      <td>[{'role': 'system', 'content': 'You are an exp...</td>\n",
       "      <td>[{'role': 'user', 'content': 'You are an exper...</td>\n",
       "      <td>[]</td>\n",
       "    </tr>\n",
       "    <tr>\n",
       "      <th>9249</th>\n",
       "      <td>Doctor: Hi there, I see you have a history of ...</td>\n",
       "      <td>S: The patient, with a history of dermatomyosi...</td>\n",
       "      <td>Create a medical SOAP summary of this dialogue.</td>\n",
       "      <td>[{'role': 'system', 'content': 'You are an exp...</td>\n",
       "      <td>[{'role': 'user', 'content': 'You are an exper...</td>\n",
       "      <td>[]</td>\n",
       "    </tr>\n",
       "  </tbody>\n",
       "</table>\n",
       "<p>9250 rows × 6 columns</p>\n",
       "</div>"
      ]
     },
     "execution_count": 10,
     "metadata": {},
     "output_type": "execute_result"
    }
   ],
   "execution_count": 10
  },
  {
   "cell_type": "markdown",
   "source": "## 5. Saving Intermediate Processed Data (Version 1)\n\nAt this stage, the DataFrame includes the original data plus the extracted 'event_tags'. This version of the processed data is saved to a CSV file named `train_v1.csv` in the `OMI_PATH_processed` directory. This serves as a checkpoint."
  },
  {
   "metadata": {
    "ExecuteTime": {
     "end_time": "2025-05-20T11:53:35.939464Z",
     "start_time": "2025-05-20T11:53:33.949979Z"
    }
   },
   "cell_type": "code",
   "source": [
    "# Save the current state of the training DataFrame to a CSV file\n",
    "# index=False prevents Pandas from writing the DataFrame index as a column in the CSV\n",
    "train_df_omi.to_csv(OMI_PATH_processed / 'train_v1.csv', index=False)"
   ],
   "execution_count": 11
  },
  {
   "cell_type": "markdown",
   "source": "## 6. Further Processing: Splitting SOAP Notes into Components\n\nThe 'soap' column contains the full SOAP note as a single string, with sections (Subjective, Objective, Assessment, Plan) typically separated by newlines and prefixed with 'S:', 'O:', 'A:', 'P:'. The `split_soap` function is designed to parse this string and separate these components into individual columns. This makes each part of the SOAP note directly accessible for targeted analysis or model training."
  },
  {
   "metadata": {
    "ExecuteTime": {
     "end_time": "2025-05-20T11:53:37.037877Z",
     "start_time": "2025-05-20T11:53:35.993407Z"
    }
   },
   "cell_type": "code",
   "source": [
    "# Define a function to split the 'soap' string into S, O, A, P components\n",
    "def split_soap(soap):\n",
    "    # Split the SOAP note string by newline characters to get individual lines/components\n",
    "    components = soap.split('\\n')\n",
    "    soap_dict = {} # Initialize an empty dictionary to store the components\n",
    "    # Iterate through each component line\n",
    "    for component in components:\n",
    "        if ':' in component: # Ensure there's a colon to split by (e.g., \"S: ...\")\n",
    "            # Split the component line by the first colon\n",
    "            key, value = component.split(':', 1)\n",
    "            # Store the stripped key (e.g., 'S') and stripped value in the dictionary\n",
    "            soap_dict[key.strip()] = value.strip()\n",
    "    return soap_dict\n",
    "\n",
    "# Apply the split_soap function to the 'soap' column of the training DataFrame.\n",
    "# .apply(pd.Series) converts the dictionary returned by split_soap for each row into new columns.\n",
    "soap_df = train_df_omi['soap'].apply(split_soap).apply(pd.Series)\n",
    "\n",
    "# Concatenate the original training DataFrame with the new DataFrame containing separate S, O, A, P columns\n",
    "train_df_omi = pd.concat([train_df_omi, soap_df], axis=1)\n",
    "\n",
    "# Optional: Drop the original 'soap' column as its content is now split into new columns\n",
    "# train_df_omi = train_df_omi.drop(columns=['soap'])\n",
    "\n",
    "# Rename the new columns from 'S', 'O', 'A', 'P' to more descriptive names\n",
    "train_df_omi = train_df_omi.rename(columns={\n",
    "    'S': 'subjective',\n",
    "    'O': 'objective',\n",
    "    'A': 'assessment',\n",
    "    'P': 'plan'\n",
    "})\n",
    "\n",
    "# Display the first 5 rows of the updated DataFrame to see the new SOAP component columns\n",
    "train_df_omi.head()"
   ],
   "outputs": [
    {
     "data": {
      "text/plain": [
       "                                            dialogue  \\\n",
       "0  Doctor: Hello, how can I help you today?\\nPati...   \n",
       "1  Doctor: Hello, what brings you in today?\\nPati...   \n",
       "2  Doctor: Hello, how can I help you today?\\nPati...   \n",
       "3  Doctor: Hello, Patient D. How are you feeling ...   \n",
       "4  Doctor: Hello, I see that you have a history o...   \n",
       "\n",
       "                                                soap  \\\n",
       "0  S: The patient's mother reports that her 13-ye...   \n",
       "1  S: The patient, a 21-month-old male, presented...   \n",
       "2  S: Patient reports experiencing fatigue, night...   \n",
       "3  S: Patient D, a 60-year-old African American m...   \n",
       "4  S: The patient, a married woman with a 7-year ...   \n",
       "\n",
       "                                              prompt  \\\n",
       "0  Create a Medical SOAP note summary from the di...   \n",
       "1  Create a Medical SOAP note summary from the di...   \n",
       "2  Create a Medical SOAP note summary from the di...   \n",
       "3    Create a medical SOAP summary of this dialogue.   \n",
       "4  Create a Medical SOAP note summary from the di...   \n",
       "\n",
       "                                            messages  \\\n",
       "0  [{'role': 'system', 'content': 'You are an exp...   \n",
       "1  [{'role': 'system', 'content': 'You are an exp...   \n",
       "2  [{'role': 'system', 'content': 'You are an exp...   \n",
       "3  [{'role': 'system', 'content': 'You are an exp...   \n",
       "4  [{'role': 'system', 'content': 'You are an exp...   \n",
       "\n",
       "                                   messages_nosystem  \\\n",
       "0  [{'role': 'user', 'content': 'You are an exper...   \n",
       "1  [{'role': 'user', 'content': 'You are an exper...   \n",
       "2  [{'role': 'user', 'content': 'You are an exper...   \n",
       "3  [{'role': 'user', 'content': 'You are an exper...   \n",
       "4  [{'role': 'user', 'content': 'You are an exper...   \n",
       "\n",
       "                                          event_tags  \\\n",
       "0                              ['(After the tests)']   \n",
       "1  ['[After the tests]', '[After 3 weeks of thera...   \n",
       "2                                                 []   \n",
       "3                                                 []   \n",
       "4                                                 []   \n",
       "\n",
       "                                          subjective  \\\n",
       "0  The patient's mother reports that her 13-year-...   \n",
       "1  The patient, a 21-month-old male, presented wi...   \n",
       "2  Patient reports experiencing fatigue, night sw...   \n",
       "3  Patient D, a 60-year-old African American male...   \n",
       "4  The patient, a married woman with a 7-year his...   \n",
       "\n",
       "                                           objective  \\\n",
       "0  An MRI of the brain showed no structural anoma...   \n",
       "1  Hip ultrasound showed no joint effusion. Spine...   \n",
       "2  Vital signs normal. BMI 37.2 kg/m2, weight 263...   \n",
       "3  Patient is currently asymptomatic. No physical...   \n",
       "4  Physical examination confirmed hirsutism and m...   \n",
       "\n",
       "                                          assessment  \\\n",
       "0  The primary diagnosis is a genetic disorder as...   \n",
       "1  Primary diagnosis is Spondylodiscitis with ass...   \n",
       "2  The patient presents with symptoms suggestive ...   \n",
       "3  Patient D is at an increased risk for prostate...   \n",
       "4  The primary diagnosis is Polycystic Ovarian Sy...   \n",
       "\n",
       "                                                plan  ...  \\\n",
       "0  The management plan includes regular follow-up...  ...   \n",
       "1  Initiated broad-spectrum intravenous therapy w...  ...   \n",
       "2  Continue current medications. Schedule follow-...  ...   \n",
       "3  Plan to have a detailed conversation about PSA...  ...   \n",
       "4  The management plan includes proceeding with i...  ...   \n",
       "\n",
       "  - Slit lamp examination of the right eye - Scheimpflug densitometry - Ears  \\\n",
       "0                                      NaN                        NaN    NaN   \n",
       "1                                      NaN                        NaN    NaN   \n",
       "2                                      NaN                        NaN    NaN   \n",
       "3                                      NaN                        NaN    NaN   \n",
       "4                                      NaN                        NaN    NaN   \n",
       "\n",
       "  - Nose - Oral - Neck - Additional findings on the following day  \\\n",
       "0    NaN    NaN    NaN                                        NaN   \n",
       "1    NaN    NaN    NaN                                        NaN   \n",
       "2    NaN    NaN    NaN                                        NaN   \n",
       "3    NaN    NaN    NaN                                        NaN   \n",
       "4    NaN    NaN    NaN                                        NaN   \n",
       "\n",
       "  - Laboratory results  \\\n",
       "0                  NaN   \n",
       "1                  NaN   \n",
       "2                  NaN   \n",
       "3                  NaN   \n",
       "4                  NaN   \n",
       "\n",
       "  - Transvaginal ultrasound showing diffuse fibromatosis with two uterine masses  \\\n",
       "0                                                NaN                               \n",
       "1                                                NaN                               \n",
       "2                                                NaN                               \n",
       "3                                                NaN                               \n",
       "4                                                NaN                               \n",
       "\n",
       "  - Abdominal CT indicated increased uterine volume with two masses  \n",
       "0                                                NaN                 \n",
       "1                                                NaN                 \n",
       "2                                                NaN                 \n",
       "3                                                NaN                 \n",
       "4                                                NaN                 \n",
       "\n",
       "[5 rows x 90 columns]"
      ],
      "text/html": [
       "<div>\n",
       "<style scoped>\n",
       "    .dataframe tbody tr th:only-of-type {\n",
       "        vertical-align: middle;\n",
       "    }\n",
       "\n",
       "    .dataframe tbody tr th {\n",
       "        vertical-align: top;\n",
       "    }\n",
       "\n",
       "    .dataframe thead th {\n",
       "        text-align: right;\n",
       "    }\n",
       "</style>\n",
       "<table border=\"1\" class=\"dataframe\">\n",
       "  <thead>\n",
       "    <tr style=\"text-align: right;\">\n",
       "      <th></th>\n",
       "      <th>dialogue</th>\n",
       "      <th>soap</th>\n",
       "      <th>prompt</th>\n",
       "      <th>messages</th>\n",
       "      <th>messages_nosystem</th>\n",
       "      <th>event_tags</th>\n",
       "      <th>subjective</th>\n",
       "      <th>objective</th>\n",
       "      <th>assessment</th>\n",
       "      <th>plan</th>\n",
       "      <th>...</th>\n",
       "      <th>- Slit lamp examination of the right eye</th>\n",
       "      <th>- Scheimpflug densitometry</th>\n",
       "      <th>- Ears</th>\n",
       "      <th>- Nose</th>\n",
       "      <th>- Oral</th>\n",
       "      <th>- Neck</th>\n",
       "      <th>- Additional findings on the following day</th>\n",
       "      <th>- Laboratory results</th>\n",
       "      <th>- Transvaginal ultrasound showing diffuse fibromatosis with two uterine masses</th>\n",
       "      <th>- Abdominal CT indicated increased uterine volume with two masses</th>\n",
       "    </tr>\n",
       "  </thead>\n",
       "  <tbody>\n",
       "    <tr>\n",
       "      <th>0</th>\n",
       "      <td>Doctor: Hello, how can I help you today?\\nPati...</td>\n",
       "      <td>S: The patient's mother reports that her 13-ye...</td>\n",
       "      <td>Create a Medical SOAP note summary from the di...</td>\n",
       "      <td>[{'role': 'system', 'content': 'You are an exp...</td>\n",
       "      <td>[{'role': 'user', 'content': 'You are an exper...</td>\n",
       "      <td>['(After the tests)']</td>\n",
       "      <td>The patient's mother reports that her 13-year-...</td>\n",
       "      <td>An MRI of the brain showed no structural anoma...</td>\n",
       "      <td>The primary diagnosis is a genetic disorder as...</td>\n",
       "      <td>The management plan includes regular follow-up...</td>\n",
       "      <td>...</td>\n",
       "      <td>NaN</td>\n",
       "      <td>NaN</td>\n",
       "      <td>NaN</td>\n",
       "      <td>NaN</td>\n",
       "      <td>NaN</td>\n",
       "      <td>NaN</td>\n",
       "      <td>NaN</td>\n",
       "      <td>NaN</td>\n",
       "      <td>NaN</td>\n",
       "      <td>NaN</td>\n",
       "    </tr>\n",
       "    <tr>\n",
       "      <th>1</th>\n",
       "      <td>Doctor: Hello, what brings you in today?\\nPati...</td>\n",
       "      <td>S: The patient, a 21-month-old male, presented...</td>\n",
       "      <td>Create a Medical SOAP note summary from the di...</td>\n",
       "      <td>[{'role': 'system', 'content': 'You are an exp...</td>\n",
       "      <td>[{'role': 'user', 'content': 'You are an exper...</td>\n",
       "      <td>['[After the tests]', '[After 3 weeks of thera...</td>\n",
       "      <td>The patient, a 21-month-old male, presented wi...</td>\n",
       "      <td>Hip ultrasound showed no joint effusion. Spine...</td>\n",
       "      <td>Primary diagnosis is Spondylodiscitis with ass...</td>\n",
       "      <td>Initiated broad-spectrum intravenous therapy w...</td>\n",
       "      <td>...</td>\n",
       "      <td>NaN</td>\n",
       "      <td>NaN</td>\n",
       "      <td>NaN</td>\n",
       "      <td>NaN</td>\n",
       "      <td>NaN</td>\n",
       "      <td>NaN</td>\n",
       "      <td>NaN</td>\n",
       "      <td>NaN</td>\n",
       "      <td>NaN</td>\n",
       "      <td>NaN</td>\n",
       "    </tr>\n",
       "    <tr>\n",
       "      <th>2</th>\n",
       "      <td>Doctor: Hello, how can I help you today?\\nPati...</td>\n",
       "      <td>S: Patient reports experiencing fatigue, night...</td>\n",
       "      <td>Create a Medical SOAP note summary from the di...</td>\n",
       "      <td>[{'role': 'system', 'content': 'You are an exp...</td>\n",
       "      <td>[{'role': 'user', 'content': 'You are an exper...</td>\n",
       "      <td>[]</td>\n",
       "      <td>Patient reports experiencing fatigue, night sw...</td>\n",
       "      <td>Vital signs normal. BMI 37.2 kg/m2, weight 263...</td>\n",
       "      <td>The patient presents with symptoms suggestive ...</td>\n",
       "      <td>Continue current medications. Schedule follow-...</td>\n",
       "      <td>...</td>\n",
       "      <td>NaN</td>\n",
       "      <td>NaN</td>\n",
       "      <td>NaN</td>\n",
       "      <td>NaN</td>\n",
       "      <td>NaN</td>\n",
       "      <td>NaN</td>\n",
       "      <td>NaN</td>\n",
       "      <td>NaN</td>\n",
       "      <td>NaN</td>\n",
       "      <td>NaN</td>\n",
       "    </tr>\n",
       "    <tr>\n",
       "      <th>3</th>\n",
       "      <td>Doctor: Hello, Patient D. How are you feeling ...</td>\n",
       "      <td>S: Patient D, a 60-year-old African American m...</td>\n",
       "      <td>Create a medical SOAP summary of this dialogue.</td>\n",
       "      <td>[{'role': 'system', 'content': 'You are an exp...</td>\n",
       "      <td>[{'role': 'user', 'content': 'You are an exper...</td>\n",
       "      <td>[]</td>\n",
       "      <td>Patient D, a 60-year-old African American male...</td>\n",
       "      <td>Patient is currently asymptomatic. No physical...</td>\n",
       "      <td>Patient D is at an increased risk for prostate...</td>\n",
       "      <td>Plan to have a detailed conversation about PSA...</td>\n",
       "      <td>...</td>\n",
       "      <td>NaN</td>\n",
       "      <td>NaN</td>\n",
       "      <td>NaN</td>\n",
       "      <td>NaN</td>\n",
       "      <td>NaN</td>\n",
       "      <td>NaN</td>\n",
       "      <td>NaN</td>\n",
       "      <td>NaN</td>\n",
       "      <td>NaN</td>\n",
       "      <td>NaN</td>\n",
       "    </tr>\n",
       "    <tr>\n",
       "      <th>4</th>\n",
       "      <td>Doctor: Hello, I see that you have a history o...</td>\n",
       "      <td>S: The patient, a married woman with a 7-year ...</td>\n",
       "      <td>Create a Medical SOAP note summary from the di...</td>\n",
       "      <td>[{'role': 'system', 'content': 'You are an exp...</td>\n",
       "      <td>[{'role': 'user', 'content': 'You are an exper...</td>\n",
       "      <td>[]</td>\n",
       "      <td>The patient, a married woman with a 7-year his...</td>\n",
       "      <td>Physical examination confirmed hirsutism and m...</td>\n",
       "      <td>The primary diagnosis is Polycystic Ovarian Sy...</td>\n",
       "      <td>The management plan includes proceeding with i...</td>\n",
       "      <td>...</td>\n",
       "      <td>NaN</td>\n",
       "      <td>NaN</td>\n",
       "      <td>NaN</td>\n",
       "      <td>NaN</td>\n",
       "      <td>NaN</td>\n",
       "      <td>NaN</td>\n",
       "      <td>NaN</td>\n",
       "      <td>NaN</td>\n",
       "      <td>NaN</td>\n",
       "      <td>NaN</td>\n",
       "    </tr>\n",
       "  </tbody>\n",
       "</table>\n",
       "<p>5 rows × 90 columns</p>\n",
       "</div>"
      ]
     },
     "execution_count": 12,
     "metadata": {},
     "output_type": "execute_result"
    }
   ],
   "execution_count": 12
  },
  {
   "cell_type": "markdown",
   "source": "## 7. Final Data Selection and Saving (Version 2)\n\nAfter splitting the SOAP notes, the DataFrame contains many columns. For the final processed dataset, we select only the essential columns: the original 'dialogue' and the newly created 'subjective', 'objective', 'assessment', and 'plan' columns. This refined DataFrame is then saved as `train_v2.csv`. This version is likely the one intended for model training or further specific analysis where individual SOAP components are needed."
  },
  {
   "metadata": {
    "ExecuteTime": {
     "end_time": "2025-05-20T11:56:58.196238Z",
     "start_time": "2025-05-20T11:56:57.869135Z"
    }
   },
   "cell_type": "code",
   "source": [
    "# Select only the necessary columns for the final training dataset version\n",
    "# These are the dialogue and the individual components of the SOAP note.\n",
    "train_df_omi = train_df_omi[['dialogue', 'subjective', 'objective', 'assessment', 'plan']]\n",
    "\n",
    "# Save this final version of the training DataFrame to a CSV file\n",
    "train_df_omi.to_csv(OMI_PATH_processed / 'train_v2.csv', index=False)"
   ],
   "execution_count": 13
  },
  {
   "cell_type": "markdown",
   "source": "## 8. Data Analysis: Finding the Longest Dialogue\n\nAs a part of understanding the dataset, it's often useful to find characteristics like the length of text inputs. The `find_longest_dialogue` function is defined to identify the dialogue with the maximum character length in a given DataFrame. This can be helpful for setting maximum token limits for language models or identifying potential outliers."
  },
  {
   "metadata": {
    "ExecuteTime": {
     "end_time": "2025-05-20T11:56:58.229922Z",
     "start_time": "2025-05-20T11:56:58.226593Z"
    }
   },
   "cell_type": "code",
   "source": [
    "# Define a function to find the longest dialogue in a DataFrame\n",
    "def find_longest_dialogue(df, dialogue_column='dialogue'):\n",
    "    \"\"\"\n",
    "    Finds the longest dialogue in a DataFrame based on character length.\n",
    "\n",
    "    Args:\n",
    "        df (pd.DataFrame): The DataFrame containing the dialogue data.\n",
    "        dialogue_column (str, optional): The name of the column containing the dialogues.\n",
    "                                         Defaults to 'dialogue'.\n",
    "\n",
    "    Returns:\n",
    "        tuple: A tuple containing:\n",
    "               - int: The index of the longest dialogue.\n",
    "               - int: The length (number of characters) of the longest dialogue.\n",
    "    \"\"\"\n",
    "\n",
    "    # Calculate the length (number of characters) of each dialogue in the specified column\n",
    "    dialogue_lengths = df[dialogue_column].apply(len)\n",
    "\n",
    "    # Find the index of the dialogue with the maximum length\n",
    "    longest_dialogue_index = dialogue_lengths.idxmax()\n",
    "\n",
    "    # Get the actual text of the longest dialogue (though we only return its length here as per function design)\n",
    "    # longest_dialogue_text_content = df.loc[longest_dialogue_index, dialogue_column]\n",
    "\n",
    "    # Return the index and the length of the longest dialogue\n",
    "    return longest_dialogue_index, len(df.loc[longest_dialogue_index, dialogue_column]) # Corrected to return length"
   ],
   "execution_count": 14
  },
  {
   "cell_type": "markdown",
   "source": "### 8.1. Applying the Longest Dialogue Finder\n\nThe `find_longest_dialogue` function is now applied to the `train_df_omi` (which at this point contains the columns from `train_v2.csv`). The index and length of the longest dialogue are printed. This gives an idea of the maximum input size the model might encounter from this dataset."
  },
  {
   "metadata": {
    "ExecuteTime": {
     "end_time": "2025-05-20T11:56:58.244154Z",
     "start_time": "2025-05-20T11:56:58.235108Z"
    }
   },
   "cell_type": "code",
   "source": [
    "# Apply the function to find the longest dialogue in the training DataFrame (train_df_omi)\n",
    "# The comment indicates it could also be used on val_df_omi or test_df_omi if they were processed similarly.\n",
    "longest_index, longest_dialogue_length = find_longest_dialogue(train_df_omi)\n",
    "\n",
    "# Print the index of the longest dialogue\n",
    "print(f\"The longest dialogue is at index: {longest_index}\\n\")\n",
    "# Print the length (number of characters) of the longest dialogue text\n",
    "print(\"Length of the longest dialogue text (characters):\\n\", longest_dialogue_length)"
   ],
   "outputs": [
    {
     "name": "stdout",
     "output_type": "stream",
     "text": [
      "The longest dialogue is at index: 1823\n",
      "\n",
      "Longest dialogue text:\n",
      " 3730\n"
     ]
    }
   ],
   "execution_count": 15
  }
 ],
 "metadata": {
  "kernelspec": {
   "display_name": "Python 3",
   "language": "python",
   "name": "python3"
  },
  "language_info": {
   "codemirror_mode": {
    "name": "ipython",
    "version": 2
   },
   "file_extension": ".py",
   "mimetype": "text/x-python",
   "name": "python",
   "nbconvert_exporter": "python",
   "pygments_lexer": "ipython2",
   "version": "2.7.6"
  }
 },
 "nbformat": 4,
 "nbformat_minor": 5
}
