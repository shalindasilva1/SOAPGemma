{
 "cells": [
  {
   "cell_type": "code",
   "id": "initial_id",
   "metadata": {
    "collapsed": true,
    "ExecuteTime": {
     "end_time": "2025-05-08T16:26:20.851323Z",
     "start_time": "2025-05-08T16:26:19.689372Z"
    }
   },
   "source": [
    "#! pip install --upgrade --quiet bitsandbytes datasets peft transformers trl\n",
    "! pip install torch torchvision torchaudio --index-url https://download.pytorch.org/whl/cu121"
   ],
   "outputs": [
    {
     "name": "stdout",
     "output_type": "stream",
     "text": [
      "Looking in indexes: https://download.pytorch.org/whl/cu121\n",
      "Requirement already satisfied: torch in c:\\users\\khal6952\\.conda\\envs\\medical-soap-note-generator\\lib\\site-packages (2.5.1+cu121)\n",
      "Requirement already satisfied: torchvision in c:\\users\\khal6952\\.conda\\envs\\medical-soap-note-generator\\lib\\site-packages (0.20.1+cu121)\n",
      "Requirement already satisfied: torchaudio in c:\\users\\khal6952\\.conda\\envs\\medical-soap-note-generator\\lib\\site-packages (2.5.1+cu121)\n",
      "Requirement already satisfied: filelock in c:\\users\\khal6952\\.conda\\envs\\medical-soap-note-generator\\lib\\site-packages (from torch) (3.17.0)\n",
      "Requirement already satisfied: typing-extensions>=4.8.0 in c:\\users\\khal6952\\.conda\\envs\\medical-soap-note-generator\\lib\\site-packages (from torch) (4.12.2)\n",
      "Requirement already satisfied: networkx in c:\\users\\khal6952\\.conda\\envs\\medical-soap-note-generator\\lib\\site-packages (from torch) (3.4.2)\n",
      "Requirement already satisfied: jinja2 in c:\\users\\khal6952\\.conda\\envs\\medical-soap-note-generator\\lib\\site-packages (from torch) (3.1.6)\n",
      "Requirement already satisfied: fsspec in c:\\users\\khal6952\\.conda\\envs\\medical-soap-note-generator\\lib\\site-packages (from torch) (2024.12.0)\n",
      "Requirement already satisfied: setuptools in c:\\users\\khal6952\\.conda\\envs\\medical-soap-note-generator\\lib\\site-packages (from torch) (72.1.0)\n",
      "Requirement already satisfied: sympy==1.13.1 in c:\\users\\khal6952\\.conda\\envs\\medical-soap-note-generator\\lib\\site-packages (from torch) (1.13.1)\n",
      "Requirement already satisfied: mpmath<1.4,>=1.1.0 in c:\\users\\khal6952\\.conda\\envs\\medical-soap-note-generator\\lib\\site-packages (from sympy==1.13.1->torch) (1.3.0)\n",
      "Requirement already satisfied: numpy in c:\\users\\khal6952\\.conda\\envs\\medical-soap-note-generator\\lib\\site-packages (from torchvision) (2.2.4)\n",
      "Requirement already satisfied: pillow!=8.3.*,>=5.3.0 in c:\\users\\khal6952\\.conda\\envs\\medical-soap-note-generator\\lib\\site-packages (from torchvision) (11.0.0)\n",
      "Requirement already satisfied: MarkupSafe>=2.0 in c:\\users\\khal6952\\.conda\\envs\\medical-soap-note-generator\\lib\\site-packages (from jinja2->torch) (3.0.2)\n"
     ]
    }
   ],
   "execution_count": 4
  },
  {
   "metadata": {
    "ExecuteTime": {
     "end_time": "2025-05-08T17:16:42.646246Z",
     "start_time": "2025-05-08T17:16:42.640870Z"
    }
   },
   "cell_type": "code",
   "source": [
    "import os\n",
    "import torch\n",
    "import bitsandbytes as bnb\n",
    "from pathlib import Path\n",
    "\n",
    "DATA_PATH = Path(\"../data\")\n",
    "OMI_PATH_processed = DATA_PATH / \"processed\" / \"omi-health\"\n",
    "OMI_PATH_raw = DATA_PATH / \"raw\" / \"omi-health\"\n",
    "\n",
    "print(f\"PyTorch CUDA available: {torch.cuda.is_available()}\")\n",
    "if torch.cuda.is_available():\n",
    "    print(f\"CUDA device count: {torch.cuda.device_count()}\")\n",
    "    print(f\"Current CUDA device name: {torch.cuda.get_device_name(0)}\")\n",
    "\n",
    "print(f\"Bitsandbytes version: {bnb.__version__}\")\n",
    "# You could also try a simple operation with bnb if you have a model loaded"
   ],
   "id": "c2bd7a26e6f803ca",
   "outputs": [
    {
     "name": "stdout",
     "output_type": "stream",
     "text": [
      "PyTorch CUDA available: True\n",
      "CUDA device count: 1\n",
      "Current CUDA device name: NVIDIA RTX A4000\n",
      "Bitsandbytes version: 0.45.5\n"
     ]
    }
   ],
   "execution_count": 20
  },
  {
   "metadata": {
    "ExecuteTime": {
     "end_time": "2025-05-08T17:19:38.632792Z",
     "start_time": "2025-05-08T17:16:45.133929Z"
    }
   },
   "cell_type": "code",
   "source": [
    "import torch\n",
    "from transformers import AutoTokenizer, AutoModelForCausalLM, BitsAndBytesConfig\n",
    "\n",
    "model_id = \"google/txgemma-9b-chat\"\n",
    "\n",
    "# Use 4-bit quantization to reduce memory usage\n",
    "quantization_config = BitsAndBytesConfig(\n",
    "    load_in_4bit=True,\n",
    "    bnb_4bit_quant_type=\"nf4\",\n",
    "    bnb_4bit_compute_dtype=torch.bfloat16,\n",
    ")\n",
    "\n",
    "tokenizer = AutoTokenizer.from_pretrained(model_id)\n",
    "model = AutoModelForCausalLM.from_pretrained(\n",
    "    model_id,\n",
    "    quantization_config=quantization_config,\n",
    "    device_map={\"\":0},\n",
    "    torch_dtype=\"auto\",\n",
    "    attn_implementation=\"eager\",\n",
    ")"
   ],
   "id": "bf9efd62c26bc1fd",
   "outputs": [
    {
     "name": "stderr",
     "output_type": "stream",
     "text": [
      "Fetching 4 files: 100%|██████████| 4/4 [02:37<00:00, 39.29s/it] \n",
      "Loading checkpoint shards: 100%|██████████| 4/4 [00:12<00:00,  3.10s/it]\n"
     ]
    }
   ],
   "execution_count": 21
  },
  {
   "metadata": {
    "ExecuteTime": {
     "end_time": "2025-05-08T16:47:37.715515Z",
     "start_time": "2025-05-08T16:47:37.363684Z"
    }
   },
   "cell_type": "code",
   "source": [
    "import pandas as pd\n",
    "\n",
    "# Load the dataset\n",
    "train_df = pd.read_csv(OMI_PATH_processed / \"train.csv\")\n",
    "train_df.head()"
   ],
   "id": "8b7023b82eb53a5e",
   "outputs": [
    {
     "data": {
      "text/plain": [
       "                                                                                                                                                                                                                                                                                                                                                                                                                                                                                                                                                                                                                                                                                                                                                                                                                                                                                                                                                                                                                                                                                                                                                                                                                                                                                                                                                                                                                                                                                                                                                                                                                                                                                                                                                                                                                                                                                                                                                                                                                                                                                                                                                                                                                                                                                                                                                                                                                                                                                                                                                                                                                                                                                                                                                                                                                                                                                                                    dialogue  \\\n",
       "0                                                                                                                                                                                                                                                                                                                                                                                                                                                                                                                                                                                                                                                                                                                                     Doctor: Hello, how can I help you today?\\nPatient: My son has been having some issues with speech and development. He's 13 years old now.\\nDoctor: I see. Can you tell me more about his symptoms? Does he have any issues with muscle tone or hypotonia?\\nPatient: No, he doesn't have hypotonia. But he has mild to moderate speech and developmental delay, and he's been diagnosed with attention deficit disorder.\\nDoctor: Thank you for sharing that information. We'll run some tests, including an MRI, to get a better understanding of your son's condition. \\n(After the tests)\\nDoctor: The MRI results are in, and I'm glad to say that there are no structural brain anomalies. However, I did notice some physical characteristics. Does your son have any facial features like retrognathia, mild hypertelorism, or a slightly elongated philtrum and thin upper lip?\\nPatient: Yes, he has all of those features. His hands are also broad and short. And his feet have mild syndactyly of the second and third toe, with a sandal gap in both feet.\\nDoctor: Thank you for confirming that. We also conducted Whole Exome Sequencing (WES) analyses, and we found a de novo frameshift variant in his genetic makeup. Specifically, it's Chr1(GRCh37):g.244217335del, NM_205768.2(ZBTB18):c.259del(p.(Leu87Cysfs*21)). This leads to a premature termination codon located more than 400 codons upstream of the canonical termination codon.\\nPatient: What does that mean for my son?\\nDoctor: This genetic variant may be contributing to your son's speech, developmental delay, and attention deficit disorder. It's important that we continue monitoring his progress and provide appropriate support for his development.\\nPatient: What should we do for follow-up?\\nDoctor: Regular visits with a speech and language therapist, an occupational therapist, and a psychologist can help address your son's developmental and attention deficit disorder needs. I will also recommend regular check-ups with me to monitor his growth and overall health.\\nPatient: Thank you, doctor. We will follow your recommendations and keep an eye on his progress.   \n",
       "1                                                                              Doctor: Hello, what brings you in today?\\nPatient: Hi, my 21-month-old son has been experiencing weakness in his lower extremities and lumbar pain after a mild upper respiratory tract infection.\\nDoctor: I see. Did you consult any medical professional for this issue?\\nPatient: Yes, we took him to the pediatric emergency department. They did a hip ultrasound, but they didn't find any joint effusion. They dismissed it as transient hips arthritis and treated him with anti-inflammatory therapy.\\nDoctor: Did the therapy help with his condition?\\nPatient: Unfortunately, no. His pain got worse, and now he's unable to walk. That's why we came back here.\\nDoctor: We should definitely investigate further. We'll start by admitting him to the hospital. We'll need to perform a spine radiograph and an MRI to determine what's causing his condition. \\nPatient: Okay, thank you.\\n[After the tests]\\nDoctor: I've reviewed the test results. The spine radiograph showed a slight reduction in the thickness of the L5 soma. The MRI revealed increased T1 post-enhancement signals in the L4-L5 anulus, the opposite end-plates of L4 and L5, the adjacent soft tissues, and the osteolytic area of the L5 pedicle. These findings suggest that your son has Spondylodiscitis with associated osteomyelitis.\\nPatient: Oh no! What about his blood tests?\\nDoctor: The blood tests showed an increase in the erythrocyte sedimentation rate (77 mm/h) and C-reactive protein (2.17 mg/dL). However, his white blood cell count, procalcitonin serum concentration, and Quantiferon TB-gold test are all within normal ranges. \\nPatient: What's the treatment plan for his condition?\\nDoctor: We'll start him on broad-spectrum intravenous therapy, which includes meropenem (100 mg/kg/day in three doses) and vancomycin (40 mg/kg/day in three doses). We'll continue the anti-inflammatory treatment for the first week and then stop it once his symptoms have resolved and he can walk normally again.\\nPatient: How long will the treatment last?\\nDoctor: The treatment may last for a few weeks. We'll closely monitor his progress and adjust the treatment as needed.\\nPatient: Alright, thank you, doctor.\\n[After 3 weeks of therapy]\\nDoctor: I wanted to update you on your son's condition. Unfortunately, he has developed leukopenia with severe neutropenia. His white blood cell count dropped to its lowest at 5410/mm3.\\nPatient: Oh no, is there anything we can do?\\nDoctor: We'll continue to closely monitor his condition and tailor his treatment as necessary. In the meantime, it's important for you to keep an eye on any changes in his symptoms and report them to us immediately. We'll do our best to help him recover.\\nPatient: Thank you, doctor. We appreciate your help.   \n",
       "2  Doctor: Hello, how can I help you today?\\nPatient: Hi, doctor. I came here because for the past 2 months, I've been experiencing fatigue, night sweats, weight loss, loss of appetite, and mild abdominal discomfort. I don't have fever, chills, cough, nausea, vomiting, itching, or any urinary or bowel problems.\\nDoctor: I see. Can you please tell me about your past medical history?\\nPatient: Sure. I was diagnosed with biopsy-proven sarcoidosis of the mediastinal lymph nodes 9 years ago. I had hilar lymphadenopathy seen on a routine chest radiography back then. The disease has been inactive, and I've never had symptoms related to it or received any treatment. I also have hypertension, hyperlipidemia, bipolar disorder, coronary artery disease with percutaneous coronary intervention performed a month before this presentation, and recently diagnosed type 2 diabetes mellitus.\\nDoctor: Thank you for the information. What medications are you currently taking?\\nPatient: I'm taking amlodipine, metoprolol tartrate, lisinopril, lamotrigine, clopidogrel, metformin, rosuvastatin, and sildenafil.\\nDoctor: Do you have a history of alcohol or tobacco use?\\nPatient: No, I don't have any history of alcohol or tobacco use. I used to work as a secretary.\\nDoctor: Alright. Let's perform a physical examination. *After examination* Your vital signs are normal. Your body mass index is 37.2 kg/m2, and your weight is 263 pounds. The general, lung, heart, and abdominal examinations are unremarkable, and there's no palpable lymphadenopathy.\\nDoctor: We need to perform a battery of laboratory tests to further investigate your symptoms. *After tests* Your alanine aminotransferase and aspartate aminotransferase levels are within normal limits. However, your alkaline phosphatase (ALP) and γ-glutamyl transferase (GGT) levels are elevated (ALP = 258 U/L, reference = 38-126 U/L; GGT = 274 U/L, reference = 12-73 U/L). You also have hyperbilirubinemia (total bilirubin is 1.7 mg/dL, reference = 0.0-1.3 mg/dL, and direct bilirubin is 0.7 mg/dL, reference = 0.0\\nPatient: Oh, I see. What does that mean, doctor?\\nDoctor: These elevated levels indicate that there might be an issue with your liver function. We will need to further investigate the cause and determine the appropriate treatment. In the meantime, please continue taking your medications as prescribed and monitor your symptoms.\\nPatient: Okay, doctor. What should I do for follow-up?\\nDoctor: Please schedule a follow-up appointment in two weeks so we can discuss the results of additional testing and determine the best course of action for your treatment.\\nPatient: Thank you, doctor. I'll see you in two weeks.\\nDoctor: You're welcome. Take care, and please reach out if you have any concerns or if your symptoms worsen before your next appointment.   \n",
       "3                                                                                                                                                                                                                           Doctor: Hello, Patient D. How are you feeling today?\\nPatient D: I'm feeling fine, doc, no complaints. Just here for a regular check-up.\\nDoctor: That's good to hear. I see that you are a 60-year-old African American male and currently asymptomatic. I also noticed that your 62-year-old brother had prostate cancer and was successfully treated with radiation. Is that correct?\\nPatient D: Yes, that's correct. My brother went through radiation treatment and is doing well now.\\nDoctor: I'm glad to hear that your brother is doing well. Given your African American background and having a first-degree relative diagnosed with prostate cancer before 65 years of age, it's important to discuss the possibility of PSA testing with you.\\nPatient D: Hmm, okay. What exactly is PSA testing, doc?\\nDoctor: PSA testing, or Prostate-Specific Antigen testing, is a blood test that helps detect the presence of prostate cancer. However, the recommendations for PSA-based screening vary among different organizations.\\nPatient D: So, do I need to get this screening done?\\nDoctor: According to the AAFP, NCI, CDC, ACS, AUA, NCCN, and ASCO, it would be less difficult for clinicians to discuss PSA testing with you, considering your background and family history. These organizations recommend that we have a conversation about the potential benefits and risks of the test.\\nPatient D: Alright, I see. What do the USPSTF recommendations say?\\nDoctor: The USPSTF recommendations may not recommend PSA-based screening for you. It is important to understand that PSA testing has both potential benefits and risks, and the decision to undergo the test should be made after discussing these factors with your healthcare provider.\\nPatient D: I understand. So, what should I do next, doc?\\nDoctor: I recommend that we have a more detailed conversation about the potential benefits and risks of PSA testing, so you can make an informed decision. You may want to take some time to think about it and do some research before we discuss further.\\nPatient D: Okay, that sounds like a good plan. I'll do some more research and get back to you with any questions or concerns.\\nDoctor: That's a great approach. In the meantime, if you have any symptoms or concerns, please don't hesitate to reach out to us. I'll be here to help and guide you through the process.\\nPatient D: Thank you, doc. I appreciate your help and guidance.\\nDoctor: You're welcome, Patient D. I look forward to our next discussion. Take care and feel free to reach out if you have any questions.\\nPatient D: Will do. Thanks again, and see you soon.   \n",
       "4                                                                                                                                                                                                                                                        Doctor: Hello, I see that you have a history of two early miscarriages and no long-term pregnancy. Can you please tell me about any symptoms you've been experiencing?\\nPatient: Yeah, I've been having irregular periods and noticed some excessive hair growth on my body.\\nDoctor: Thank you for sharing that. Our physical examination did reveal hirsutism and menstrual irregularity. I also noticed in your medical history that you had an intramural myoma myomectomy operation through laparotomy, as well as disc hernia and peptic ulcer. Is that correct?\\nPatient: Yes, that's right.\\nDoctor: I understand you've been married for 7 years and have undergone intrauterine insemination twice. We performed a chromosome analysis on your peripheral blood, and it revealed a marker chromosome: 47XX+m. \\nPatient: Oh, I see.\\nDoctor: In the ultrasonography examination, we observed a polycystic ovary appearance, but your uterus and endometrium were found to be normal. Based on these findings, our diagnosis is coherent with polycystic ovarian syndrome, or PCOS. \\nPatient: I had a feeling that might be the case.\\nDoctor: On the second day of your menstruation, we performed a hormonal analysis. The results were as follows: AMH- 6.4 ng / mL; Estradiol- 52.23 pg / mL; FSH- 6.16 mIU / mL; Lh- 21.22 mIU / mL; Prolactin- 10.35 ng / mL and TSH- 0.99 μIU / mL. Your semen analysis was normal.\\nPatient: That's good to know.\\nDoctor: Your current body weight is 64 kg, and your BMI is 25 kg / m2. After a genetic consultation, taking into account your polycystic ovary appearance, recurrent miscarriages, and marker chromosome, we are considering in-vitro fertilization (IVF) and preimplantation genetic diagnosis as a potential plan for you.\\nPatient: Okay, what does that mean exactly?\\nDoctor: It means that we'll create embryos through IVF and then perform a preimplantation genetic diagnosis to identify any potential genetic issues before implanting the embryos. This can help reduce the risk of miscarriages and increase the chances of a successful pregnancy.\\nPatient: That sounds like a good plan. What are the next steps?\\nDoctor: The next steps will involve scheduling appointments for additional testing, monitoring your hormone levels, and starting the IVF process. Our team will be with you every step of the way to provide guidance and support.\\nPatient: Thank you, doctor. I appreciate all the help and information.\\nDoctor: You're welcome. If you have any questions or concerns, please don't hesitate to reach out. We're here to help you through this process.   \n",
       "\n",
       "                                                                                                                                                                                                                                                                                                                                                                                                                                                                                subjective  \\\n",
       "0               The patient's mother reports that her 13-year-old son has mild to moderate speech and developmental delays and has been diagnosed with attention deficit disorder. She denies any issues with muscle tone or hypotonia. The patient also exhibits certain physical characteristics, including retrognathia, mild hypertelorism, an elongated philtrum, thin upper lip, broad and short hands, mild syndactyly of the second and third toes, and a sandal gap in both feet.   \n",
       "1                                                                                                                                                                         The patient, a 21-month-old male, presented with weakness in his lower extremities and lumbar pain following a mild upper respiratory tract infection. Initial treatment with anti-inflammatory therapy for suspected transient hips arthritis was ineffective, leading to worsening pain and inability to walk.   \n",
       "2  Patient reports experiencing fatigue, night sweats, weight loss, loss of appetite, and mild abdominal discomfort for the past 2 months. No fever, chills, cough, nausea, vomiting, itching, or urinary or bowel issues. Past medical history includes inactive sarcoidosis, hypertension, hyperlipidemia, bipolar disorder, coronary artery disease with recent percutaneous coronary intervention, and newly diagnosed type 2 diabetes mellitus. No history of alcohol or tobacco use.   \n",
       "3                                                                                                                                                                                                                                        Patient D, a 60-year-old African American male, reports no current symptoms and is visiting for a routine check-up. He has a family history significant for prostate cancer, as his 62-year-old brother was diagnosed and treated with radiation.   \n",
       "4                                                                                                                                        The patient, a married woman with a 7-year history of infertility, reports irregular menstruation and excessive body hair growth. She has a history of two early miscarriages, intrauterine insemination attempts, intramural myoma myomectomy, disc hernia, and peptic ulcer. She expressed concerns about her symptoms and potential diagnosis.   \n",
       "\n",
       "                                                                                                                                                                                                                                                                                                                                                                                                                                                                                                                                                                                                                               objective  \\\n",
       "0                                                                                                                                                                                                                                                                                                                An MRI of the brain showed no structural anomalies. Whole Exome Sequencing (WES) revealed a de novo frameshift variant Chr1(GRCh37):g.244217335del, NM_205768.2(ZBTB18):c.259del(p.(Leu87Cysfs*21)), indicating a premature termination codon located more than 400 codons upstream of the canonical termination codon.   \n",
       "1  Hip ultrasound showed no joint effusion. Spine radiograph revealed slight reduction in the thickness of the L5 soma. MRI indicated increased T1 post-enhancement signals in the L4-L5 anulus, opposite end-plates of L4 and L5, adjacent soft tissues, and osteolytic area of the L5 pedicle. Blood tests showed elevated erythrocyte sedimentation rate (77 mm/h) and C-reactive protein (2.17 mg/dL), with normal white blood cell count, procalcitonin serum concentration, and Quantiferon TB-gold test. After 3 weeks of therapy, the patient developed leukopenia with severe neutropenia (white blood cell count at 5410/mm3).   \n",
       "2                                                                                                                 Vital signs normal. BMI 37.2 kg/m2, weight 263 pounds. General, lung, heart, and abdominal examinations unremarkable with no palpable lymphadenopathy. Laboratory tests show normal alanine aminotransferase and aspartate aminotransferase levels. Elevated alkaline phosphatase (ALP = 258 U/L, reference = 38-126 U/L) and γ-glutamyl transferase (GGT = 274 U/L, reference = 12-73 U/L). Hyperbilirubinemia noted with total bilirubin at 1.7 mg/dL (reference = 0.0-1.3 mg/dL) and direct bilirubin at 0.7 mg/dL.   \n",
       "3                                                                                                                                                                                                                                                                                                                                                                                                                                                                                                      Patient is currently asymptomatic. No physical examination findings or laboratory results were discussed during the consultation.   \n",
       "4                                                                                                                                                                                                               Physical examination confirmed hirsutism and menstrual irregularity. Chromosome analysis showed 47XX+m. Ultrasonography revealed polycystic ovaries with normal uterus and endometrium. Hormonal analysis results were: AMH- 6.4 ng/mL, Estradiol- 52.23 pg/mL, FSH- 6.16 mIU/mL, LH- 21.22 mIU/mL, Prolactin- 10.35 ng/mL, and TSH- 0.99 μIU/mL. Semen analysis was normal. Current body weight is 64 kg, BMI 25 kg/m2.   \n",
       "\n",
       "                                                                                                                                                                                                                                                                                                                                                                assessment  \\\n",
       "0  The primary diagnosis is a genetic disorder associated with the identified frameshift mutation, which likely contributes to the patient's speech and developmental delays and attention deficit disorder. The physical characteristics and genetic findings suggest a specific syndrome, which needs further correlation with clinical findings and genetic counseling.   \n",
       "1                                                                                                                                                                       Primary diagnosis is Spondylodiscitis with associated osteomyelitis. Differential diagnosis initially included transient hips arthritis. Complications include leukopenia with severe neutropenia.   \n",
       "2         The patient presents with symptoms suggestive of a systemic disorder, possibly related to liver dysfunction as indicated by elevated ALP, GGT, and bilirubin levels. Differential diagnoses include liver pathology secondary to medication, non-alcoholic fatty liver disease (given obesity and diabetes), or a resurgence of sarcoidosis affecting the liver.   \n",
       "3                                                                       Patient D is at an increased risk for prostate cancer due to his ethnicity and family history (first-degree relative diagnosed before age 65). The discussion focused on the potential benefits and risks of PSA testing, considering varying recommendations from different health organizations.   \n",
       "4                                                                   The primary diagnosis is Polycystic Ovarian Syndrome (PCOS), supported by clinical findings of hirsutism, menstrual irregularity, and polycystic ovaries on ultrasonography. The presence of a marker chromosome and history of recurrent miscarriages suggest a genetic component to her infertility.   \n",
       "\n",
       "                                                                                                                                                                                                                                                                                                                                                                                                                                                                                              plan  \\\n",
       "0                                           The management plan includes regular follow-up visits with a speech and language therapist, an occupational therapist, and a psychologist to support the patient's developmental needs and address his attention deficit disorder. Regular medical check-ups will monitor his growth and overall health. Genetic counseling for the family is also recommended to discuss the implications of the genetic findings and potential familial inheritance.   \n",
       "1  Initiated broad-spectrum intravenous therapy with meropenem (100 mg/kg/day in three doses) and vancomycin (40 mg/kg/day in three doses), alongside continuation of anti-inflammatory treatment for the first week. Plan to closely monitor the patient's progress and adjust treatment as necessary, with specific attention to the recent development of leukopenia with severe neutropenia. Regular follow-ups and blood tests are scheduled to monitor the condition and treatment efficacy.   \n",
       "2                                                                                                                                                                          Continue current medications. Schedule follow-up in two weeks to review additional liver function tests and imaging results. Educate patient on monitoring symptoms and maintaining a healthy diet to manage weight and diabetes. Consider referral to a hepatologist if liver function tests worsen or do not improve.   \n",
       "3                                                                                                                                                                                                              Plan to have a detailed conversation about PSA testing to allow Patient D to make an informed decision. Encouraged the patient to research further and prepare any questions for a follow-up discussion. Advised the patient to report any new symptoms or concerns in the interim.   \n",
       "4              The management plan includes proceeding with in-vitro fertilization (IVF) and preimplantation genetic diagnosis to address genetic concerns and enhance the probability of a successful pregnancy. The patient will undergo further hormonal monitoring and genetic counseling. Regular follow-ups will be scheduled to monitor progress and adjust the treatment plan as necessary. The patient was advised on the importance of maintaining a healthy weight and managing stress.   \n",
       "\n",
       "                                            event_tags  \n",
       "0                                ['(After the tests)']  \n",
       "1  ['[After the tests]', '[After 3 weeks of therapy]']  \n",
       "2                                                   []  \n",
       "3                                                   []  \n",
       "4                                                   []  "
      ],
      "text/html": [
       "<div>\n",
       "<style scoped>\n",
       "    .dataframe tbody tr th:only-of-type {\n",
       "        vertical-align: middle;\n",
       "    }\n",
       "\n",
       "    .dataframe tbody tr th {\n",
       "        vertical-align: top;\n",
       "    }\n",
       "\n",
       "    .dataframe thead th {\n",
       "        text-align: right;\n",
       "    }\n",
       "</style>\n",
       "<table border=\"1\" class=\"dataframe\">\n",
       "  <thead>\n",
       "    <tr style=\"text-align: right;\">\n",
       "      <th></th>\n",
       "      <th>dialogue</th>\n",
       "      <th>subjective</th>\n",
       "      <th>objective</th>\n",
       "      <th>assessment</th>\n",
       "      <th>plan</th>\n",
       "      <th>event_tags</th>\n",
       "    </tr>\n",
       "  </thead>\n",
       "  <tbody>\n",
       "    <tr>\n",
       "      <th>0</th>\n",
       "      <td>Doctor: Hello, how can I help you today?\\nPatient: My son has been having some issues with speech and development. He's 13 years old now.\\nDoctor: I see. Can you tell me more about his symptoms? Does he have any issues with muscle tone or hypotonia?\\nPatient: No, he doesn't have hypotonia. But he has mild to moderate speech and developmental delay, and he's been diagnosed with attention deficit disorder.\\nDoctor: Thank you for sharing that information. We'll run some tests, including an MRI, to get a better understanding of your son's condition. \\n(After the tests)\\nDoctor: The MRI results are in, and I'm glad to say that there are no structural brain anomalies. However, I did notice some physical characteristics. Does your son have any facial features like retrognathia, mild hypertelorism, or a slightly elongated philtrum and thin upper lip?\\nPatient: Yes, he has all of those features. His hands are also broad and short. And his feet have mild syndactyly of the second and third toe, with a sandal gap in both feet.\\nDoctor: Thank you for confirming that. We also conducted Whole Exome Sequencing (WES) analyses, and we found a de novo frameshift variant in his genetic makeup. Specifically, it's Chr1(GRCh37):g.244217335del, NM_205768.2(ZBTB18):c.259del(p.(Leu87Cysfs*21)). This leads to a premature termination codon located more than 400 codons upstream of the canonical termination codon.\\nPatient: What does that mean for my son?\\nDoctor: This genetic variant may be contributing to your son's speech, developmental delay, and attention deficit disorder. It's important that we continue monitoring his progress and provide appropriate support for his development.\\nPatient: What should we do for follow-up?\\nDoctor: Regular visits with a speech and language therapist, an occupational therapist, and a psychologist can help address your son's developmental and attention deficit disorder needs. I will also recommend regular check-ups with me to monitor his growth and overall health.\\nPatient: Thank you, doctor. We will follow your recommendations and keep an eye on his progress.</td>\n",
       "      <td>The patient's mother reports that her 13-year-old son has mild to moderate speech and developmental delays and has been diagnosed with attention deficit disorder. She denies any issues with muscle tone or hypotonia. The patient also exhibits certain physical characteristics, including retrognathia, mild hypertelorism, an elongated philtrum, thin upper lip, broad and short hands, mild syndactyly of the second and third toes, and a sandal gap in both feet.</td>\n",
       "      <td>An MRI of the brain showed no structural anomalies. Whole Exome Sequencing (WES) revealed a de novo frameshift variant Chr1(GRCh37):g.244217335del, NM_205768.2(ZBTB18):c.259del(p.(Leu87Cysfs*21)), indicating a premature termination codon located more than 400 codons upstream of the canonical termination codon.</td>\n",
       "      <td>The primary diagnosis is a genetic disorder associated with the identified frameshift mutation, which likely contributes to the patient's speech and developmental delays and attention deficit disorder. The physical characteristics and genetic findings suggest a specific syndrome, which needs further correlation with clinical findings and genetic counseling.</td>\n",
       "      <td>The management plan includes regular follow-up visits with a speech and language therapist, an occupational therapist, and a psychologist to support the patient's developmental needs and address his attention deficit disorder. Regular medical check-ups will monitor his growth and overall health. Genetic counseling for the family is also recommended to discuss the implications of the genetic findings and potential familial inheritance.</td>\n",
       "      <td>['(After the tests)']</td>\n",
       "    </tr>\n",
       "    <tr>\n",
       "      <th>1</th>\n",
       "      <td>Doctor: Hello, what brings you in today?\\nPatient: Hi, my 21-month-old son has been experiencing weakness in his lower extremities and lumbar pain after a mild upper respiratory tract infection.\\nDoctor: I see. Did you consult any medical professional for this issue?\\nPatient: Yes, we took him to the pediatric emergency department. They did a hip ultrasound, but they didn't find any joint effusion. They dismissed it as transient hips arthritis and treated him with anti-inflammatory therapy.\\nDoctor: Did the therapy help with his condition?\\nPatient: Unfortunately, no. His pain got worse, and now he's unable to walk. That's why we came back here.\\nDoctor: We should definitely investigate further. We'll start by admitting him to the hospital. We'll need to perform a spine radiograph and an MRI to determine what's causing his condition. \\nPatient: Okay, thank you.\\n[After the tests]\\nDoctor: I've reviewed the test results. The spine radiograph showed a slight reduction in the thickness of the L5 soma. The MRI revealed increased T1 post-enhancement signals in the L4-L5 anulus, the opposite end-plates of L4 and L5, the adjacent soft tissues, and the osteolytic area of the L5 pedicle. These findings suggest that your son has Spondylodiscitis with associated osteomyelitis.\\nPatient: Oh no! What about his blood tests?\\nDoctor: The blood tests showed an increase in the erythrocyte sedimentation rate (77 mm/h) and C-reactive protein (2.17 mg/dL). However, his white blood cell count, procalcitonin serum concentration, and Quantiferon TB-gold test are all within normal ranges. \\nPatient: What's the treatment plan for his condition?\\nDoctor: We'll start him on broad-spectrum intravenous therapy, which includes meropenem (100 mg/kg/day in three doses) and vancomycin (40 mg/kg/day in three doses). We'll continue the anti-inflammatory treatment for the first week and then stop it once his symptoms have resolved and he can walk normally again.\\nPatient: How long will the treatment last?\\nDoctor: The treatment may last for a few weeks. We'll closely monitor his progress and adjust the treatment as needed.\\nPatient: Alright, thank you, doctor.\\n[After 3 weeks of therapy]\\nDoctor: I wanted to update you on your son's condition. Unfortunately, he has developed leukopenia with severe neutropenia. His white blood cell count dropped to its lowest at 5410/mm3.\\nPatient: Oh no, is there anything we can do?\\nDoctor: We'll continue to closely monitor his condition and tailor his treatment as necessary. In the meantime, it's important for you to keep an eye on any changes in his symptoms and report them to us immediately. We'll do our best to help him recover.\\nPatient: Thank you, doctor. We appreciate your help.</td>\n",
       "      <td>The patient, a 21-month-old male, presented with weakness in his lower extremities and lumbar pain following a mild upper respiratory tract infection. Initial treatment with anti-inflammatory therapy for suspected transient hips arthritis was ineffective, leading to worsening pain and inability to walk.</td>\n",
       "      <td>Hip ultrasound showed no joint effusion. Spine radiograph revealed slight reduction in the thickness of the L5 soma. MRI indicated increased T1 post-enhancement signals in the L4-L5 anulus, opposite end-plates of L4 and L5, adjacent soft tissues, and osteolytic area of the L5 pedicle. Blood tests showed elevated erythrocyte sedimentation rate (77 mm/h) and C-reactive protein (2.17 mg/dL), with normal white blood cell count, procalcitonin serum concentration, and Quantiferon TB-gold test. After 3 weeks of therapy, the patient developed leukopenia with severe neutropenia (white blood cell count at 5410/mm3).</td>\n",
       "      <td>Primary diagnosis is Spondylodiscitis with associated osteomyelitis. Differential diagnosis initially included transient hips arthritis. Complications include leukopenia with severe neutropenia.</td>\n",
       "      <td>Initiated broad-spectrum intravenous therapy with meropenem (100 mg/kg/day in three doses) and vancomycin (40 mg/kg/day in three doses), alongside continuation of anti-inflammatory treatment for the first week. Plan to closely monitor the patient's progress and adjust treatment as necessary, with specific attention to the recent development of leukopenia with severe neutropenia. Regular follow-ups and blood tests are scheduled to monitor the condition and treatment efficacy.</td>\n",
       "      <td>['[After the tests]', '[After 3 weeks of therapy]']</td>\n",
       "    </tr>\n",
       "    <tr>\n",
       "      <th>2</th>\n",
       "      <td>Doctor: Hello, how can I help you today?\\nPatient: Hi, doctor. I came here because for the past 2 months, I've been experiencing fatigue, night sweats, weight loss, loss of appetite, and mild abdominal discomfort. I don't have fever, chills, cough, nausea, vomiting, itching, or any urinary or bowel problems.\\nDoctor: I see. Can you please tell me about your past medical history?\\nPatient: Sure. I was diagnosed with biopsy-proven sarcoidosis of the mediastinal lymph nodes 9 years ago. I had hilar lymphadenopathy seen on a routine chest radiography back then. The disease has been inactive, and I've never had symptoms related to it or received any treatment. I also have hypertension, hyperlipidemia, bipolar disorder, coronary artery disease with percutaneous coronary intervention performed a month before this presentation, and recently diagnosed type 2 diabetes mellitus.\\nDoctor: Thank you for the information. What medications are you currently taking?\\nPatient: I'm taking amlodipine, metoprolol tartrate, lisinopril, lamotrigine, clopidogrel, metformin, rosuvastatin, and sildenafil.\\nDoctor: Do you have a history of alcohol or tobacco use?\\nPatient: No, I don't have any history of alcohol or tobacco use. I used to work as a secretary.\\nDoctor: Alright. Let's perform a physical examination. *After examination* Your vital signs are normal. Your body mass index is 37.2 kg/m2, and your weight is 263 pounds. The general, lung, heart, and abdominal examinations are unremarkable, and there's no palpable lymphadenopathy.\\nDoctor: We need to perform a battery of laboratory tests to further investigate your symptoms. *After tests* Your alanine aminotransferase and aspartate aminotransferase levels are within normal limits. However, your alkaline phosphatase (ALP) and γ-glutamyl transferase (GGT) levels are elevated (ALP = 258 U/L, reference = 38-126 U/L; GGT = 274 U/L, reference = 12-73 U/L). You also have hyperbilirubinemia (total bilirubin is 1.7 mg/dL, reference = 0.0-1.3 mg/dL, and direct bilirubin is 0.7 mg/dL, reference = 0.0\\nPatient: Oh, I see. What does that mean, doctor?\\nDoctor: These elevated levels indicate that there might be an issue with your liver function. We will need to further investigate the cause and determine the appropriate treatment. In the meantime, please continue taking your medications as prescribed and monitor your symptoms.\\nPatient: Okay, doctor. What should I do for follow-up?\\nDoctor: Please schedule a follow-up appointment in two weeks so we can discuss the results of additional testing and determine the best course of action for your treatment.\\nPatient: Thank you, doctor. I'll see you in two weeks.\\nDoctor: You're welcome. Take care, and please reach out if you have any concerns or if your symptoms worsen before your next appointment.</td>\n",
       "      <td>Patient reports experiencing fatigue, night sweats, weight loss, loss of appetite, and mild abdominal discomfort for the past 2 months. No fever, chills, cough, nausea, vomiting, itching, or urinary or bowel issues. Past medical history includes inactive sarcoidosis, hypertension, hyperlipidemia, bipolar disorder, coronary artery disease with recent percutaneous coronary intervention, and newly diagnosed type 2 diabetes mellitus. No history of alcohol or tobacco use.</td>\n",
       "      <td>Vital signs normal. BMI 37.2 kg/m2, weight 263 pounds. General, lung, heart, and abdominal examinations unremarkable with no palpable lymphadenopathy. Laboratory tests show normal alanine aminotransferase and aspartate aminotransferase levels. Elevated alkaline phosphatase (ALP = 258 U/L, reference = 38-126 U/L) and γ-glutamyl transferase (GGT = 274 U/L, reference = 12-73 U/L). Hyperbilirubinemia noted with total bilirubin at 1.7 mg/dL (reference = 0.0-1.3 mg/dL) and direct bilirubin at 0.7 mg/dL.</td>\n",
       "      <td>The patient presents with symptoms suggestive of a systemic disorder, possibly related to liver dysfunction as indicated by elevated ALP, GGT, and bilirubin levels. Differential diagnoses include liver pathology secondary to medication, non-alcoholic fatty liver disease (given obesity and diabetes), or a resurgence of sarcoidosis affecting the liver.</td>\n",
       "      <td>Continue current medications. Schedule follow-up in two weeks to review additional liver function tests and imaging results. Educate patient on monitoring symptoms and maintaining a healthy diet to manage weight and diabetes. Consider referral to a hepatologist if liver function tests worsen or do not improve.</td>\n",
       "      <td>[]</td>\n",
       "    </tr>\n",
       "    <tr>\n",
       "      <th>3</th>\n",
       "      <td>Doctor: Hello, Patient D. How are you feeling today?\\nPatient D: I'm feeling fine, doc, no complaints. Just here for a regular check-up.\\nDoctor: That's good to hear. I see that you are a 60-year-old African American male and currently asymptomatic. I also noticed that your 62-year-old brother had prostate cancer and was successfully treated with radiation. Is that correct?\\nPatient D: Yes, that's correct. My brother went through radiation treatment and is doing well now.\\nDoctor: I'm glad to hear that your brother is doing well. Given your African American background and having a first-degree relative diagnosed with prostate cancer before 65 years of age, it's important to discuss the possibility of PSA testing with you.\\nPatient D: Hmm, okay. What exactly is PSA testing, doc?\\nDoctor: PSA testing, or Prostate-Specific Antigen testing, is a blood test that helps detect the presence of prostate cancer. However, the recommendations for PSA-based screening vary among different organizations.\\nPatient D: So, do I need to get this screening done?\\nDoctor: According to the AAFP, NCI, CDC, ACS, AUA, NCCN, and ASCO, it would be less difficult for clinicians to discuss PSA testing with you, considering your background and family history. These organizations recommend that we have a conversation about the potential benefits and risks of the test.\\nPatient D: Alright, I see. What do the USPSTF recommendations say?\\nDoctor: The USPSTF recommendations may not recommend PSA-based screening for you. It is important to understand that PSA testing has both potential benefits and risks, and the decision to undergo the test should be made after discussing these factors with your healthcare provider.\\nPatient D: I understand. So, what should I do next, doc?\\nDoctor: I recommend that we have a more detailed conversation about the potential benefits and risks of PSA testing, so you can make an informed decision. You may want to take some time to think about it and do some research before we discuss further.\\nPatient D: Okay, that sounds like a good plan. I'll do some more research and get back to you with any questions or concerns.\\nDoctor: That's a great approach. In the meantime, if you have any symptoms or concerns, please don't hesitate to reach out to us. I'll be here to help and guide you through the process.\\nPatient D: Thank you, doc. I appreciate your help and guidance.\\nDoctor: You're welcome, Patient D. I look forward to our next discussion. Take care and feel free to reach out if you have any questions.\\nPatient D: Will do. Thanks again, and see you soon.</td>\n",
       "      <td>Patient D, a 60-year-old African American male, reports no current symptoms and is visiting for a routine check-up. He has a family history significant for prostate cancer, as his 62-year-old brother was diagnosed and treated with radiation.</td>\n",
       "      <td>Patient is currently asymptomatic. No physical examination findings or laboratory results were discussed during the consultation.</td>\n",
       "      <td>Patient D is at an increased risk for prostate cancer due to his ethnicity and family history (first-degree relative diagnosed before age 65). The discussion focused on the potential benefits and risks of PSA testing, considering varying recommendations from different health organizations.</td>\n",
       "      <td>Plan to have a detailed conversation about PSA testing to allow Patient D to make an informed decision. Encouraged the patient to research further and prepare any questions for a follow-up discussion. Advised the patient to report any new symptoms or concerns in the interim.</td>\n",
       "      <td>[]</td>\n",
       "    </tr>\n",
       "    <tr>\n",
       "      <th>4</th>\n",
       "      <td>Doctor: Hello, I see that you have a history of two early miscarriages and no long-term pregnancy. Can you please tell me about any symptoms you've been experiencing?\\nPatient: Yeah, I've been having irregular periods and noticed some excessive hair growth on my body.\\nDoctor: Thank you for sharing that. Our physical examination did reveal hirsutism and menstrual irregularity. I also noticed in your medical history that you had an intramural myoma myomectomy operation through laparotomy, as well as disc hernia and peptic ulcer. Is that correct?\\nPatient: Yes, that's right.\\nDoctor: I understand you've been married for 7 years and have undergone intrauterine insemination twice. We performed a chromosome analysis on your peripheral blood, and it revealed a marker chromosome: 47XX+m. \\nPatient: Oh, I see.\\nDoctor: In the ultrasonography examination, we observed a polycystic ovary appearance, but your uterus and endometrium were found to be normal. Based on these findings, our diagnosis is coherent with polycystic ovarian syndrome, or PCOS. \\nPatient: I had a feeling that might be the case.\\nDoctor: On the second day of your menstruation, we performed a hormonal analysis. The results were as follows: AMH- 6.4 ng / mL; Estradiol- 52.23 pg / mL; FSH- 6.16 mIU / mL; Lh- 21.22 mIU / mL; Prolactin- 10.35 ng / mL and TSH- 0.99 μIU / mL. Your semen analysis was normal.\\nPatient: That's good to know.\\nDoctor: Your current body weight is 64 kg, and your BMI is 25 kg / m2. After a genetic consultation, taking into account your polycystic ovary appearance, recurrent miscarriages, and marker chromosome, we are considering in-vitro fertilization (IVF) and preimplantation genetic diagnosis as a potential plan for you.\\nPatient: Okay, what does that mean exactly?\\nDoctor: It means that we'll create embryos through IVF and then perform a preimplantation genetic diagnosis to identify any potential genetic issues before implanting the embryos. This can help reduce the risk of miscarriages and increase the chances of a successful pregnancy.\\nPatient: That sounds like a good plan. What are the next steps?\\nDoctor: The next steps will involve scheduling appointments for additional testing, monitoring your hormone levels, and starting the IVF process. Our team will be with you every step of the way to provide guidance and support.\\nPatient: Thank you, doctor. I appreciate all the help and information.\\nDoctor: You're welcome. If you have any questions or concerns, please don't hesitate to reach out. We're here to help you through this process.</td>\n",
       "      <td>The patient, a married woman with a 7-year history of infertility, reports irregular menstruation and excessive body hair growth. She has a history of two early miscarriages, intrauterine insemination attempts, intramural myoma myomectomy, disc hernia, and peptic ulcer. She expressed concerns about her symptoms and potential diagnosis.</td>\n",
       "      <td>Physical examination confirmed hirsutism and menstrual irregularity. Chromosome analysis showed 47XX+m. Ultrasonography revealed polycystic ovaries with normal uterus and endometrium. Hormonal analysis results were: AMH- 6.4 ng/mL, Estradiol- 52.23 pg/mL, FSH- 6.16 mIU/mL, LH- 21.22 mIU/mL, Prolactin- 10.35 ng/mL, and TSH- 0.99 μIU/mL. Semen analysis was normal. Current body weight is 64 kg, BMI 25 kg/m2.</td>\n",
       "      <td>The primary diagnosis is Polycystic Ovarian Syndrome (PCOS), supported by clinical findings of hirsutism, menstrual irregularity, and polycystic ovaries on ultrasonography. The presence of a marker chromosome and history of recurrent miscarriages suggest a genetic component to her infertility.</td>\n",
       "      <td>The management plan includes proceeding with in-vitro fertilization (IVF) and preimplantation genetic diagnosis to address genetic concerns and enhance the probability of a successful pregnancy. The patient will undergo further hormonal monitoring and genetic counseling. Regular follow-ups will be scheduled to monitor progress and adjust the treatment plan as necessary. The patient was advised on the importance of maintaining a healthy weight and managing stress.</td>\n",
       "      <td>[]</td>\n",
       "    </tr>\n",
       "  </tbody>\n",
       "</table>\n",
       "</div>"
      ]
     },
     "execution_count": 12,
     "metadata": {},
     "output_type": "execute_result"
    }
   ],
   "execution_count": 12
  },
  {
   "metadata": {
    "ExecuteTime": {
     "end_time": "2025-05-08T16:48:43.331024Z",
     "start_time": "2025-05-08T16:48:43.327906Z"
    }
   },
   "cell_type": "code",
   "source": "train_df.iloc[0,0]",
   "id": "1b2e2e3cc4849dc",
   "outputs": [
    {
     "data": {
      "text/plain": [
       "\"Doctor: Hello, how can I help you today?\\nPatient: My son has been having some issues with speech and development. He's 13 years old now.\\nDoctor: I see. Can you tell me more about his symptoms? Does he have any issues with muscle tone or hypotonia?\\nPatient: No, he doesn't have hypotonia. But he has mild to moderate speech and developmental delay, and he's been diagnosed with attention deficit disorder.\\nDoctor: Thank you for sharing that information. We'll run some tests, including an MRI, to get a better understanding of your son's condition. \\n(After the tests)\\nDoctor: The MRI results are in, and I'm glad to say that there are no structural brain anomalies. However, I did notice some physical characteristics. Does your son have any facial features like retrognathia, mild hypertelorism, or a slightly elongated philtrum and thin upper lip?\\nPatient: Yes, he has all of those features. His hands are also broad and short. And his feet have mild syndactyly of the second and third toe, with a sandal gap in both feet.\\nDoctor: Thank you for confirming that. We also conducted Whole Exome Sequencing (WES) analyses, and we found a de novo frameshift variant in his genetic makeup. Specifically, it's Chr1(GRCh37):g.244217335del, NM_205768.2(ZBTB18):c.259del(p.(Leu87Cysfs*21)). This leads to a premature termination codon located more than 400 codons upstream of the canonical termination codon.\\nPatient: What does that mean for my son?\\nDoctor: This genetic variant may be contributing to your son's speech, developmental delay, and attention deficit disorder. It's important that we continue monitoring his progress and provide appropriate support for his development.\\nPatient: What should we do for follow-up?\\nDoctor: Regular visits with a speech and language therapist, an occupational therapist, and a psychologist can help address your son's developmental and attention deficit disorder needs. I will also recommend regular check-ups with me to monitor his growth and overall health.\\nPatient: Thank you, doctor. We will follow your recommendations and keep an eye on his progress.\""
      ]
     },
     "execution_count": 13,
     "metadata": {},
     "output_type": "execute_result"
    }
   ],
   "execution_count": 13
  },
  {
   "metadata": {},
   "cell_type": "markdown",
   "source": "Trying out the pretrained model",
   "id": "2ef8b1fa2eae30f6"
  },
  {
   "metadata": {
    "ExecuteTime": {
     "end_time": "2025-05-08T18:12:28.606453Z",
     "start_time": "2025-05-08T18:12:28.603303Z"
    }
   },
   "cell_type": "code",
   "source": [
    "prompt = (\"Create a Medical SOAP note summary from the dialogue, following these guidelines:\\n\"\n",
    "          \"S (Subjective): Summarize the patient's reported symptoms, including chief complaint and relevant history. Rely on the patient's statements as the primary source and ensure standardized terminology.\\n    \"\n",
    "          \"O (Objective): Highlight critical findings such as vital signs, lab results, and imaging, emphasizing important details like the side of the body affected and specific dosages. Include normal ranges where relevant.\\n    \"\n",
    "          \"A (Assessment): Offer a concise assessment combining subjective and objective data. State the primary diagnosis and any differential diagnoses, noting potential complications and the prognostic outlook.\\n    \"\n",
    "          \"P (Plan): Outline the management plan, covering medication, diet, consultations, and education. Ensure to mention necessary referrals to other specialties and address compliance challenges.\\n    \"\n",
    "\n",
    "          \"Considerations: Compile the report based solely on the transcript provided. Maintain confidentiality and document sensitively. Use concise medical jargon and abbreviations for effective doctor communication. Add explanations to medical terms if needed\\n    Format the summary in a clean, simple list format without using markdown or bullet points. Use 'S:', 'O:', 'A:', 'P:' directly followed by the text. Avoid any styling or special characters.\")\n",
    "\n",
    "full_prompt = f\"{prompt}\\n\\nDialogue to summarize:\\n{train_df.iloc[0,0]}\"\n",
    "print(full_prompt)"
   ],
   "id": "d9a19b26e2a4b9ee",
   "outputs": [
    {
     "name": "stdout",
     "output_type": "stream",
     "text": [
      "Create a Medical SOAP note summary from the dialogue, following these guidelines:\n",
      "S (Subjective): Summarize the patient's reported symptoms, including chief complaint and relevant history. Rely on the patient's statements as the primary source and ensure standardized terminology.\n",
      "    O (Objective): Highlight critical findings such as vital signs, lab results, and imaging, emphasizing important details like the side of the body affected and specific dosages. Include normal ranges where relevant.\n",
      "    A (Assessment): Offer a concise assessment combining subjective and objective data. State the primary diagnosis and any differential diagnoses, noting potential complications and the prognostic outlook.\n",
      "    P (Plan): Outline the management plan, covering medication, diet, consultations, and education. Ensure to mention necessary referrals to other specialties and address compliance challenges.\n",
      "    Considerations: Compile the report based solely on the transcript provided. Maintain confidentiality and document sensitively. Use concise medical jargon and abbreviations for effective doctor communication. Add explanations to medical terms if needed\n",
      "    Format the summary in a clean, simple list format without using markdown or bullet points. Use 'S:', 'O:', 'A:', 'P:' directly followed by the text. Avoid any styling or special characters.\n",
      "\n",
      "Dialogue to summarize:\n",
      "Doctor: Hello, how can I help you today?\n",
      "Patient: My son has been having some issues with speech and development. He's 13 years old now.\n",
      "Doctor: I see. Can you tell me more about his symptoms? Does he have any issues with muscle tone or hypotonia?\n",
      "Patient: No, he doesn't have hypotonia. But he has mild to moderate speech and developmental delay, and he's been diagnosed with attention deficit disorder.\n",
      "Doctor: Thank you for sharing that information. We'll run some tests, including an MRI, to get a better understanding of your son's condition. \n",
      "(After the tests)\n",
      "Doctor: The MRI results are in, and I'm glad to say that there are no structural brain anomalies. However, I did notice some physical characteristics. Does your son have any facial features like retrognathia, mild hypertelorism, or a slightly elongated philtrum and thin upper lip?\n",
      "Patient: Yes, he has all of those features. His hands are also broad and short. And his feet have mild syndactyly of the second and third toe, with a sandal gap in both feet.\n",
      "Doctor: Thank you for confirming that. We also conducted Whole Exome Sequencing (WES) analyses, and we found a de novo frameshift variant in his genetic makeup. Specifically, it's Chr1(GRCh37):g.244217335del, NM_205768.2(ZBTB18):c.259del(p.(Leu87Cysfs*21)). This leads to a premature termination codon located more than 400 codons upstream of the canonical termination codon.\n",
      "Patient: What does that mean for my son?\n",
      "Doctor: This genetic variant may be contributing to your son's speech, developmental delay, and attention deficit disorder. It's important that we continue monitoring his progress and provide appropriate support for his development.\n",
      "Patient: What should we do for follow-up?\n",
      "Doctor: Regular visits with a speech and language therapist, an occupational therapist, and a psychologist can help address your son's developmental and attention deficit disorder needs. I will also recommend regular check-ups with me to monitor his growth and overall health.\n",
      "Patient: Thank you, doctor. We will follow your recommendations and keep an eye on his progress.\n"
     ]
    }
   ],
   "execution_count": 45
  },
  {
   "metadata": {
    "ExecuteTime": {
     "end_time": "2025-05-08T18:13:12.002556Z",
     "start_time": "2025-05-08T18:12:33.269445Z"
    }
   },
   "cell_type": "code",
   "source": [
    "inputs = tokenizer(full_prompt, return_tensors=\"pt\").to(\"cuda\")\n",
    "\n",
    "outputs = model.generate(**inputs, max_new_tokens=512)\n",
    "print(tokenizer.decode(outputs[0], skip_special_tokens=True))"
   ],
   "id": "7f6b6e4ebdb6bf89",
   "outputs": [
    {
     "name": "stdout",
     "output_type": "stream",
     "text": [
      "Create a Medical SOAP note summary from the dialogue, following these guidelines:\n",
      "S (Subjective): Summarize the patient's reported symptoms, including chief complaint and relevant history. Rely on the patient's statements as the primary source and ensure standardized terminology.\n",
      "    O (Objective): Highlight critical findings such as vital signs, lab results, and imaging, emphasizing important details like the side of the body affected and specific dosages. Include normal ranges where relevant.\n",
      "    A (Assessment): Offer a concise assessment combining subjective and objective data. State the primary diagnosis and any differential diagnoses, noting potential complications and the prognostic outlook.\n",
      "    P (Plan): Outline the management plan, covering medication, diet, consultations, and education. Ensure to mention necessary referrals to other specialties and address compliance challenges.\n",
      "    Considerations: Compile the report based solely on the transcript provided. Maintain confidentiality and document sensitively. Use concise medical jargon and abbreviations for effective doctor communication. Add explanations to medical terms if needed\n",
      "    Format the summary in a clean, simple list format without using markdown or bullet points. Use 'S:', 'O:', 'A:', 'P:' directly followed by the text. Avoid any styling or special characters.\n",
      "\n",
      "Dialogue to summarize:\n",
      "Doctor: Hello, how can I help you today?\n",
      "Patient: My son has been having some issues with speech and development. He's 13 years old now.\n",
      "Doctor: I see. Can you tell me more about his symptoms? Does he have any issues with muscle tone or hypotonia?\n",
      "Patient: No, he doesn't have hypotonia. But he has mild to moderate speech and developmental delay, and he's been diagnosed with attention deficit disorder.\n",
      "Doctor: Thank you for sharing that information. We'll run some tests, including an MRI, to get a better understanding of your son's condition. \n",
      "(After the tests)\n",
      "Doctor: The MRI results are in, and I'm glad to say that there are no structural brain anomalies. However, I did notice some physical characteristics. Does your son have any facial features like retrognathia, mild hypertelorism, or a slightly elongated philtrum and thin upper lip?\n",
      "Patient: Yes, he has all of those features. His hands are also broad and short. And his feet have mild syndactyly of the second and third toe, with a sandal gap in both feet.\n",
      "Doctor: Thank you for confirming that. We also conducted Whole Exome Sequencing (WES) analyses, and we found a de novo frameshift variant in his genetic makeup. Specifically, it's Chr1(GRCh37):g.244217335del, NM_205768.2(ZBTB18):c.259del(p.(Leu87Cysfs*21)). This leads to a premature termination codon located more than 400 codons upstream of the canonical termination codon.\n",
      "Patient: What does that mean for my son?\n",
      "Doctor: This genetic variant may be contributing to your son's speech, developmental delay, and attention deficit disorder. It's important that we continue monitoring his progress and provide appropriate support for his development.\n",
      "Patient: What should we do for follow-up?\n",
      "Doctor: Regular visits with a speech and language therapist, an occupational therapist, and a psychologist can help address your son's developmental and attention deficit disorder needs. I will also recommend regular check-ups with me to monitor his growth and overall health.\n",
      "Patient: Thank you, doctor. We will follow your recommendations and keep an eye on his progress.\n",
      "Doctor: You're welcome. If you have any questions or concerns, don't hesitate to contact me.\n",
      "\n",
      "S: The patient's son is a 13-year-old boy with speech and developmental delays, attention deficit disorder, and no hypotonia. He presents with retrognathia, mild hypertelorism, a slightly elongated philtrum and thin upper lip, broad and short hands, and mild syndactyly of the second and third toe with a sandal gap in both feet.\n",
      "O: MRI shows no structural brain anomalies. Physical characteristics are consistent with syndactyly and retrognathia. Whole Exome Sequencing (WES) revealed a de novo frameshift variant in Chr1(GRCh37):g.244217335del, NM_205768.2(ZBTB18):c.259del(p.(Leu87Cysfs*21)).\n",
      "A: The likely diagnosis is syndactyly with possible underlying genetic etiology. Differential diagnoses include other genetic conditions with overlapping features. The prognostic outlook is guarded but with potential for intervention to address developmental delays and improve speech.\n",
      "P: Referral for speech and language therapy, occupational therapy, and psychological evaluation. Regular check-ups with the primary care physician for monitoring growth and overall health. Genetic counseling may be considered to explore the variant's impact and recurrence risk.\n",
      "Considerations: The information provided in the dialogue suggests a possible genetic basis for the patient's son's developmental delays and associated symptoms. However, a definitive diagnosis and prognosis require further investigation and specialized expertise. The management plan emphasizes a multidisciplinary approach involving various healthcare professionals to address the patient's diverse needs. \n",
      "\n"
     ]
    }
   ],
   "execution_count": 46
  }
 ],
 "metadata": {
  "kernelspec": {
   "display_name": "Python 3",
   "language": "python",
   "name": "python3"
  },
  "language_info": {
   "codemirror_mode": {
    "name": "ipython",
    "version": 2
   },
   "file_extension": ".py",
   "mimetype": "text/x-python",
   "name": "python",
   "nbconvert_exporter": "python",
   "pygments_lexer": "ipython2",
   "version": "2.7.6"
  }
 },
 "nbformat": 4,
 "nbformat_minor": 5
}
