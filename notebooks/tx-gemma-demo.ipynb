{
 "cells": [
  {
   "cell_type": "code",
   "id": "initial_id",
   "metadata": {
    "collapsed": true,
    "ExecuteTime": {
     "end_time": "2025-05-18T13:07:55.406263Z",
     "start_time": "2025-05-18T13:07:55.403321Z"
    }
   },
   "source": [
    "#! pip install --upgrade --quiet bitsandbytes datasets peft transformers trl\n",
    "#! pip install torch torchvision torchaudio --index-url https://download.pytorch.org/whl/cu121"
   ],
   "outputs": [],
   "execution_count": 17
  },
  {
   "metadata": {
    "ExecuteTime": {
     "end_time": "2025-05-18T13:07:55.482836Z",
     "start_time": "2025-05-18T13:07:55.478292Z"
    }
   },
   "cell_type": "code",
   "source": [
    "import os\n",
    "import torch\n",
    "import bitsandbytes as bnb\n",
    "from pathlib import Path\n",
    "\n",
    "DATA_PATH = Path(\"../data\")\n",
    "OMI_PATH_processed = DATA_PATH / \"processed\" / \"omi-health\"\n",
    "OMI_PATH_raw = DATA_PATH / \"raw\" / \"omi-health\"\n",
    "\n",
    "print(f\"PyTorch CUDA available: {torch.cuda.is_available()}\")\n",
    "if torch.cuda.is_available():\n",
    "    print(f\"CUDA device count: {torch.cuda.device_count()}\")\n",
    "    print(f\"Current CUDA device name: {torch.cuda.get_device_name(0)}\")\n",
    "\n",
    "print(f\"Bitsandbytes version: {bnb.__version__}\")\n",
    "# You could also try a simple operation with bnb if you have a model loaded"
   ],
   "id": "c2bd7a26e6f803ca",
   "outputs": [
    {
     "name": "stdout",
     "output_type": "stream",
     "text": [
      "PyTorch CUDA available: True\n",
      "CUDA device count: 1\n",
      "Current CUDA device name: NVIDIA RTX A4000\n",
      "Bitsandbytes version: 0.45.5\n"
     ]
    }
   ],
   "execution_count": 18
  },
  {
   "metadata": {
    "ExecuteTime": {
     "end_time": "2025-05-18T13:08:06.533708Z",
     "start_time": "2025-05-18T13:07:55.562815Z"
    }
   },
   "cell_type": "code",
   "source": [
    "import torch\n",
    "from transformers import AutoTokenizer, AutoModelForCausalLM, BitsAndBytesConfig\n",
    "\n",
    "model_id = \"google/txgemma-9b-chat\"\n",
    "\n",
    "# Use 4-bit quantization to reduce memory usage\n",
    "quantization_config = BitsAndBytesConfig(\n",
    "    load_in_4bit=True,\n",
    "    bnb_4bit_quant_type=\"nf4\",\n",
    "    bnb_4bit_compute_dtype=torch.bfloat16,\n",
    ")\n",
    "\n",
    "tokenizer = AutoTokenizer.from_pretrained(model_id)\n",
    "model = AutoModelForCausalLM.from_pretrained(\n",
    "    model_id,\n",
    "    quantization_config=quantization_config,\n",
    "    device_map={\"\":0},\n",
    "    torch_dtype=\"auto\",\n",
    "    attn_implementation=\"eager\",\n",
    ")"
   ],
   "id": "bf9efd62c26bc1fd",
   "outputs": [
    {
     "name": "stderr",
     "output_type": "stream",
     "text": [
      "Loading checkpoint shards: 100%|██████████| 4/4 [00:09<00:00,  2.39s/it]\n"
     ]
    }
   ],
   "execution_count": 19
  },
  {
   "metadata": {
    "ExecuteTime": {
     "end_time": "2025-05-18T13:08:07.987047Z",
     "start_time": "2025-05-18T13:08:06.603912Z"
    }
   },
   "cell_type": "code",
   "source": [
    "import pandas as pd\n",
    "\n",
    "# Load the dataset\n",
    "train_df = pd.read_csv(OMI_PATH_processed / \"train_v1.csv\")\n",
    "train_df.head()"
   ],
   "id": "8b7023b82eb53a5e",
   "outputs": [
    {
     "data": {
      "text/plain": [
       "                                            dialogue  \\\n",
       "0  Doctor: Hello, how can I help you today?\\nPati...   \n",
       "1  Doctor: Hello, what brings you in today?\\nPati...   \n",
       "2  Doctor: Hello, how can I help you today?\\nPati...   \n",
       "3  Doctor: Hello, Patient D. How are you feeling ...   \n",
       "4  Doctor: Hello, I see that you have a history o...   \n",
       "\n",
       "                                                soap  \\\n",
       "0  S: The patient's mother reports that her 13-ye...   \n",
       "1  S: The patient, a 21-month-old male, presented...   \n",
       "2  S: Patient reports experiencing fatigue, night...   \n",
       "3  S: Patient D, a 60-year-old African American m...   \n",
       "4  S: The patient, a married woman with a 7-year ...   \n",
       "\n",
       "                                              prompt  \\\n",
       "0  Create a Medical SOAP note summary from the di...   \n",
       "1  Create a Medical SOAP note summary from the di...   \n",
       "2  Create a Medical SOAP note summary from the di...   \n",
       "3    Create a medical SOAP summary of this dialogue.   \n",
       "4  Create a Medical SOAP note summary from the di...   \n",
       "\n",
       "                                            messages  \\\n",
       "0  [{'role': 'system', 'content': 'You are an exp...   \n",
       "1  [{'role': 'system', 'content': 'You are an exp...   \n",
       "2  [{'role': 'system', 'content': 'You are an exp...   \n",
       "3  [{'role': 'system', 'content': 'You are an exp...   \n",
       "4  [{'role': 'system', 'content': 'You are an exp...   \n",
       "\n",
       "                                   messages_nosystem  \\\n",
       "0  [{'role': 'user', 'content': \"You are an exper...   \n",
       "1  [{'role': 'user', 'content': \"You are an exper...   \n",
       "2  [{'role': 'user', 'content': \"You are an exper...   \n",
       "3  [{'role': 'user', 'content': \"You are an exper...   \n",
       "4  [{'role': 'user', 'content': \"You are an exper...   \n",
       "\n",
       "                                          event_tags  \n",
       "0                              ['(After the tests)']  \n",
       "1  ['[After the tests]', '[After 3 weeks of thera...  \n",
       "2                                                 []  \n",
       "3                                                 []  \n",
       "4                                                 []  "
      ],
      "text/html": [
       "<div>\n",
       "<style scoped>\n",
       "    .dataframe tbody tr th:only-of-type {\n",
       "        vertical-align: middle;\n",
       "    }\n",
       "\n",
       "    .dataframe tbody tr th {\n",
       "        vertical-align: top;\n",
       "    }\n",
       "\n",
       "    .dataframe thead th {\n",
       "        text-align: right;\n",
       "    }\n",
       "</style>\n",
       "<table border=\"1\" class=\"dataframe\">\n",
       "  <thead>\n",
       "    <tr style=\"text-align: right;\">\n",
       "      <th></th>\n",
       "      <th>dialogue</th>\n",
       "      <th>soap</th>\n",
       "      <th>prompt</th>\n",
       "      <th>messages</th>\n",
       "      <th>messages_nosystem</th>\n",
       "      <th>event_tags</th>\n",
       "    </tr>\n",
       "  </thead>\n",
       "  <tbody>\n",
       "    <tr>\n",
       "      <th>0</th>\n",
       "      <td>Doctor: Hello, how can I help you today?\\nPati...</td>\n",
       "      <td>S: The patient's mother reports that her 13-ye...</td>\n",
       "      <td>Create a Medical SOAP note summary from the di...</td>\n",
       "      <td>[{'role': 'system', 'content': 'You are an exp...</td>\n",
       "      <td>[{'role': 'user', 'content': \"You are an exper...</td>\n",
       "      <td>['(After the tests)']</td>\n",
       "    </tr>\n",
       "    <tr>\n",
       "      <th>1</th>\n",
       "      <td>Doctor: Hello, what brings you in today?\\nPati...</td>\n",
       "      <td>S: The patient, a 21-month-old male, presented...</td>\n",
       "      <td>Create a Medical SOAP note summary from the di...</td>\n",
       "      <td>[{'role': 'system', 'content': 'You are an exp...</td>\n",
       "      <td>[{'role': 'user', 'content': \"You are an exper...</td>\n",
       "      <td>['[After the tests]', '[After 3 weeks of thera...</td>\n",
       "    </tr>\n",
       "    <tr>\n",
       "      <th>2</th>\n",
       "      <td>Doctor: Hello, how can I help you today?\\nPati...</td>\n",
       "      <td>S: Patient reports experiencing fatigue, night...</td>\n",
       "      <td>Create a Medical SOAP note summary from the di...</td>\n",
       "      <td>[{'role': 'system', 'content': 'You are an exp...</td>\n",
       "      <td>[{'role': 'user', 'content': \"You are an exper...</td>\n",
       "      <td>[]</td>\n",
       "    </tr>\n",
       "    <tr>\n",
       "      <th>3</th>\n",
       "      <td>Doctor: Hello, Patient D. How are you feeling ...</td>\n",
       "      <td>S: Patient D, a 60-year-old African American m...</td>\n",
       "      <td>Create a medical SOAP summary of this dialogue.</td>\n",
       "      <td>[{'role': 'system', 'content': 'You are an exp...</td>\n",
       "      <td>[{'role': 'user', 'content': \"You are an exper...</td>\n",
       "      <td>[]</td>\n",
       "    </tr>\n",
       "    <tr>\n",
       "      <th>4</th>\n",
       "      <td>Doctor: Hello, I see that you have a history o...</td>\n",
       "      <td>S: The patient, a married woman with a 7-year ...</td>\n",
       "      <td>Create a Medical SOAP note summary from the di...</td>\n",
       "      <td>[{'role': 'system', 'content': 'You are an exp...</td>\n",
       "      <td>[{'role': 'user', 'content': \"You are an exper...</td>\n",
       "      <td>[]</td>\n",
       "    </tr>\n",
       "  </tbody>\n",
       "</table>\n",
       "</div>"
      ]
     },
     "execution_count": 20,
     "metadata": {},
     "output_type": "execute_result"
    }
   ],
   "execution_count": 20
  },
  {
   "metadata": {
    "ExecuteTime": {
     "end_time": "2025-05-18T13:08:08.087325Z",
     "start_time": "2025-05-18T13:08:08.083641Z"
    }
   },
   "cell_type": "code",
   "source": "train_df.iloc[0,0]",
   "id": "1b2e2e3cc4849dc",
   "outputs": [
    {
     "data": {
      "text/plain": [
       "\"Doctor: Hello, how can I help you today?\\nPatient: My son has been having some issues with speech and development. He's 13 years old now.\\nDoctor: I see. Can you tell me more about his symptoms? Does he have any issues with muscle tone or hypotonia?\\nPatient: No, he doesn't have hypotonia. But he has mild to moderate speech and developmental delay, and he's been diagnosed with attention deficit disorder.\\nDoctor: Thank you for sharing that information. We'll run some tests, including an MRI, to get a better understanding of your son's condition. \\n(After the tests)\\nDoctor: The MRI results are in, and I'm glad to say that there are no structural brain anomalies. However, I did notice some physical characteristics. Does your son have any facial features like retrognathia, mild hypertelorism, or a slightly elongated philtrum and thin upper lip?\\nPatient: Yes, he has all of those features. His hands are also broad and short. And his feet have mild syndactyly of the second and third toe, with a sandal gap in both feet.\\nDoctor: Thank you for confirming that. We also conducted Whole Exome Sequencing (WES) analyses, and we found a de novo frameshift variant in his genetic makeup. Specifically, it's Chr1(GRCh37):g.244217335del, NM_205768.2(ZBTB18):c.259del(p.(Leu87Cysfs*21)). This leads to a premature termination codon located more than 400 codons upstream of the canonical termination codon.\\nPatient: What does that mean for my son?\\nDoctor: This genetic variant may be contributing to your son's speech, developmental delay, and attention deficit disorder. It's important that we continue monitoring his progress and provide appropriate support for his development.\\nPatient: What should we do for follow-up?\\nDoctor: Regular visits with a speech and language therapist, an occupational therapist, and a psychologist can help address your son's developmental and attention deficit disorder needs. I will also recommend regular check-ups with me to monitor his growth and overall health.\\nPatient: Thank you, doctor. We will follow your recommendations and keep an eye on his progress.\""
      ]
     },
     "execution_count": 21,
     "metadata": {},
     "output_type": "execute_result"
    }
   ],
   "execution_count": 21
  },
  {
   "metadata": {},
   "cell_type": "markdown",
   "source": "Trying out the pretrained model",
   "id": "2ef8b1fa2eae30f6"
  },
  {
   "metadata": {
    "ExecuteTime": {
     "end_time": "2025-05-18T13:08:08.174307Z",
     "start_time": "2025-05-18T13:08:08.170437Z"
    }
   },
   "cell_type": "code",
   "source": [
    "prompt = (\"Create a Medical SOAP note summary from the dialogue, following these guidelines:\\n\"\n",
    "          \"S (Subjective): Summarize the patient's reported symptoms, including chief complaint and relevant history. Rely on the patient's statements as the primary source and ensure standardized terminology.\\n    \"\n",
    "          \"O (Objective): Highlight critical findings such as vital signs, lab results, and imaging, emphasizing important details like the side of the body affected and specific dosages. Include normal ranges where relevant.\\n    \"\n",
    "          \"A (Assessment): Offer a concise assessment combining subjective and objective data. State the primary diagnosis and any differential diagnoses, noting potential complications and the prognostic outlook.\\n    \"\n",
    "          \"P (Plan): Outline the management plan, covering medication, diet, consultations, and education. Ensure to mention necessary referrals to other specialties and address compliance challenges.\\n    \"\n",
    "\n",
    "          \"Considerations: Compile the report based solely on the transcript provided. Maintain confidentiality and document sensitively. Use concise medical jargon and abbreviations for effective doctor communication. Add explanations to medical terms if needed\\n    Format the summary in a clean, simple list format without using markdown or bullet points. Use 'S:', 'O:', 'A:', 'P:' directly followed by the text. Avoid any styling or special characters.\")\n",
    "\n",
    "full_prompt = f\"{prompt}\\n\\nDialogue to summarize:\\n{train_df.iloc[0,0]}\"\n",
    "print(full_prompt)"
   ],
   "id": "d9a19b26e2a4b9ee",
   "outputs": [
    {
     "name": "stdout",
     "output_type": "stream",
     "text": [
      "Create a Medical SOAP note summary from the dialogue, following these guidelines:\n",
      "S (Subjective): Summarize the patient's reported symptoms, including chief complaint and relevant history. Rely on the patient's statements as the primary source and ensure standardized terminology.\n",
      "    O (Objective): Highlight critical findings such as vital signs, lab results, and imaging, emphasizing important details like the side of the body affected and specific dosages. Include normal ranges where relevant.\n",
      "    A (Assessment): Offer a concise assessment combining subjective and objective data. State the primary diagnosis and any differential diagnoses, noting potential complications and the prognostic outlook.\n",
      "    P (Plan): Outline the management plan, covering medication, diet, consultations, and education. Ensure to mention necessary referrals to other specialties and address compliance challenges.\n",
      "    Considerations: Compile the report based solely on the transcript provided. Maintain confidentiality and document sensitively. Use concise medical jargon and abbreviations for effective doctor communication. Add explanations to medical terms if needed\n",
      "    Format the summary in a clean, simple list format without using markdown or bullet points. Use 'S:', 'O:', 'A:', 'P:' directly followed by the text. Avoid any styling or special characters.\n",
      "\n",
      "Dialogue to summarize:\n",
      "Doctor: Hello, how can I help you today?\n",
      "Patient: My son has been having some issues with speech and development. He's 13 years old now.\n",
      "Doctor: I see. Can you tell me more about his symptoms? Does he have any issues with muscle tone or hypotonia?\n",
      "Patient: No, he doesn't have hypotonia. But he has mild to moderate speech and developmental delay, and he's been diagnosed with attention deficit disorder.\n",
      "Doctor: Thank you for sharing that information. We'll run some tests, including an MRI, to get a better understanding of your son's condition. \n",
      "(After the tests)\n",
      "Doctor: The MRI results are in, and I'm glad to say that there are no structural brain anomalies. However, I did notice some physical characteristics. Does your son have any facial features like retrognathia, mild hypertelorism, or a slightly elongated philtrum and thin upper lip?\n",
      "Patient: Yes, he has all of those features. His hands are also broad and short. And his feet have mild syndactyly of the second and third toe, with a sandal gap in both feet.\n",
      "Doctor: Thank you for confirming that. We also conducted Whole Exome Sequencing (WES) analyses, and we found a de novo frameshift variant in his genetic makeup. Specifically, it's Chr1(GRCh37):g.244217335del, NM_205768.2(ZBTB18):c.259del(p.(Leu87Cysfs*21)). This leads to a premature termination codon located more than 400 codons upstream of the canonical termination codon.\n",
      "Patient: What does that mean for my son?\n",
      "Doctor: This genetic variant may be contributing to your son's speech, developmental delay, and attention deficit disorder. It's important that we continue monitoring his progress and provide appropriate support for his development.\n",
      "Patient: What should we do for follow-up?\n",
      "Doctor: Regular visits with a speech and language therapist, an occupational therapist, and a psychologist can help address your son's developmental and attention deficit disorder needs. I will also recommend regular check-ups with me to monitor his growth and overall health.\n",
      "Patient: Thank you, doctor. We will follow your recommendations and keep an eye on his progress.\n"
     ]
    }
   ],
   "execution_count": 22
  },
  {
   "metadata": {
    "ExecuteTime": {
     "end_time": "2025-05-18T13:09:00.323817Z",
     "start_time": "2025-05-18T13:08:08.345139Z"
    }
   },
   "cell_type": "code",
   "source": [
    "inputs = tokenizer(full_prompt, return_tensors=\"pt\").to(\"cuda\")\n",
    "\n",
    "outputs = model.generate(**inputs, max_new_tokens=512)\n",
    "print(tokenizer.decode(outputs[0], skip_special_tokens=True))"
   ],
   "id": "7f6b6e4ebdb6bf89",
   "outputs": [
    {
     "name": "stdout",
     "output_type": "stream",
     "text": [
      "Create a Medical SOAP note summary from the dialogue, following these guidelines:\n",
      "S (Subjective): Summarize the patient's reported symptoms, including chief complaint and relevant history. Rely on the patient's statements as the primary source and ensure standardized terminology.\n",
      "    O (Objective): Highlight critical findings such as vital signs, lab results, and imaging, emphasizing important details like the side of the body affected and specific dosages. Include normal ranges where relevant.\n",
      "    A (Assessment): Offer a concise assessment combining subjective and objective data. State the primary diagnosis and any differential diagnoses, noting potential complications and the prognostic outlook.\n",
      "    P (Plan): Outline the management plan, covering medication, diet, consultations, and education. Ensure to mention necessary referrals to other specialties and address compliance challenges.\n",
      "    Considerations: Compile the report based solely on the transcript provided. Maintain confidentiality and document sensitively. Use concise medical jargon and abbreviations for effective doctor communication. Add explanations to medical terms if needed\n",
      "    Format the summary in a clean, simple list format without using markdown or bullet points. Use 'S:', 'O:', 'A:', 'P:' directly followed by the text. Avoid any styling or special characters.\n",
      "\n",
      "Dialogue to summarize:\n",
      "Doctor: Hello, how can I help you today?\n",
      "Patient: My son has been having some issues with speech and development. He's 13 years old now.\n",
      "Doctor: I see. Can you tell me more about his symptoms? Does he have any issues with muscle tone or hypotonia?\n",
      "Patient: No, he doesn't have hypotonia. But he has mild to moderate speech and developmental delay, and he's been diagnosed with attention deficit disorder.\n",
      "Doctor: Thank you for sharing that information. We'll run some tests, including an MRI, to get a better understanding of your son's condition. \n",
      "(After the tests)\n",
      "Doctor: The MRI results are in, and I'm glad to say that there are no structural brain anomalies. However, I did notice some physical characteristics. Does your son have any facial features like retrognathia, mild hypertelorism, or a slightly elongated philtrum and thin upper lip?\n",
      "Patient: Yes, he has all of those features. His hands are also broad and short. And his feet have mild syndactyly of the second and third toe, with a sandal gap in both feet.\n",
      "Doctor: Thank you for confirming that. We also conducted Whole Exome Sequencing (WES) analyses, and we found a de novo frameshift variant in his genetic makeup. Specifically, it's Chr1(GRCh37):g.244217335del, NM_205768.2(ZBTB18):c.259del(p.(Leu87Cysfs*21)). This leads to a premature termination codon located more than 400 codons upstream of the canonical termination codon.\n",
      "Patient: What does that mean for my son?\n",
      "Doctor: This genetic variant may be contributing to your son's speech, developmental delay, and attention deficit disorder. It's important that we continue monitoring his progress and provide appropriate support for his development.\n",
      "Patient: What should we do for follow-up?\n",
      "Doctor: Regular visits with a speech and language therapist, an occupational therapist, and a psychologist can help address your son's developmental and attention deficit disorder needs. I will also recommend regular check-ups with me to monitor his growth and overall health.\n",
      "Patient: Thank you, doctor. We will follow your recommendations and keep an eye on his progress.\n",
      "Doctor: You're welcome. If you have any questions or concerns, don't hesitate to contact me.\n",
      "\n",
      "S: The patient's son is a 13-year-old boy with speech and developmental delays, attention deficit disorder, and no hypotonia. He presents with retrognathia, mild hypertelorism, a slightly elongated philtrum and thin upper lip, broad and short hands, and mild syndactyly of the second and third toe with a sandal gap in both feet.\n",
      "O: MRI shows no structural brain anomalies. Physical characteristics are consistent with syndactyly and retrognathia. Whole Exome Sequencing (WES) revealed a de novo frameshift variant in Chr1(GRCh37):g.244217335del, NM_205768.2(ZBTB18):c.259del(p.(Leu87Cysfs*21)).\n",
      "A: The likely diagnosis is syndactyly with possible underlying genetic etiology. Differential diagnoses include other genetic conditions with overlapping features. The prognostic outlook is dependent on the specific genetic variant and its impact on protein function. \n",
      "P: Referral to a speech and language therapist, an occupational therapist, and a psychologist is recommended for ongoing monitoring and support. Regular check-ups with the primary care physician are advised for growth and health monitoring. Genetic counseling may be beneficial to understand the inheritance pattern and implications of the identified variant. \n",
      "\n"
     ]
    }
   ],
   "execution_count": 23
  },
  {
   "metadata": {
    "ExecuteTime": {
     "end_time": "2025-05-18T13:09:00.386264Z",
     "start_time": "2025-05-18T13:09:00.382723Z"
    }
   },
   "cell_type": "code",
   "source": [
    "from peft import LoraConfig\n",
    "lora_config = LoraConfig(\n",
    "    r=8,\n",
    "    task_type=\"CAUSAL_LM\",\n",
    "    target_modules=[\n",
    "        \"q_proj\",\n",
    "        \"o_proj\",\n",
    "        \"k_proj\",\n",
    "        \"v_proj\",\n",
    "        \"gate_proj\",\n",
    "        \"up_proj\",\n",
    "        \"down_proj\",\n",
    "    ],\n",
    ")"
   ],
   "id": "bcef932de8ed4efa",
   "outputs": [],
   "execution_count": 24
  },
  {
   "metadata": {
    "ExecuteTime": {
     "end_time": "2025-05-18T13:09:02.616769Z",
     "start_time": "2025-05-18T13:09:00.452402Z"
    }
   },
   "cell_type": "code",
   "source": [
    "from peft import prepare_model_for_kbit_training, get_peft_model\n",
    "\n",
    "# Preprocess quantized model for training\n",
    "model = prepare_model_for_kbit_training(model)\n",
    "\n",
    "# Create PeftModel from quantized model and configuration\n",
    "model = get_peft_model(model, lora_config)"
   ],
   "id": "6f0c4f92fe23185e",
   "outputs": [],
   "execution_count": 25
  },
  {
   "metadata": {
    "ExecuteTime": {
     "end_time": "2025-05-18T13:09:02.745938Z",
     "start_time": "2025-05-18T13:09:02.739624Z"
    }
   },
   "cell_type": "code",
   "source": [
    "INSTRUCTIONS_PROMPT = (\n",
    "    \"Create a Medical SOAP note summary from the dialogue, following these guidelines:\\n\"\n",
    "    \"S (Subjective): Summarize the patient's reported symptoms, including chief complaint and relevant history. Rely on the patient's statements as the primary source and ensure standardized terminology.\\n    \"\n",
    "    \"O (Objective): Highlight critical findings such as vital signs, lab results, and imaging, emphasizing important details like the side of the body affected and specific dosages. Include normal ranges where relevant.\\n    \"\n",
    "    \"A (Assessment): Offer a concise assessment combining subjective and objective data. State the primary diagnosis and any differential diagnoses, noting potential complications and the prognostic outlook.\\n    \"\n",
    "    \"P (Plan): Outline the management plan, covering medication, diet, consultations, and education. Ensure to mention necessary referrals to other specialties and address compliance challenges.\\n    \"\n",
    "    \"Considerations: Compile the report based solely on the transcript provided. Maintain confidentiality and document sensitively. Use concise medical jargon and abbreviations for effective doctor communication. Add explanations to medical terms. Pay attention to events happened using provided event tags.\\n    Format the summary in a clean, simple list format without using markdown or bullet points. Use 'S:', 'O:', 'A:', 'P:' directly followed by the text. Avoid any styling or special characters.\"\n",
    ")\n",
    "\n",
    "def format_dialogue_for_soap_synthesis(data, dialogue_field_name=\"dialogue\", soap_field_name=\"soap\", event_tags_field_name=\"event_tags\"):\n",
    "    if dialogue_field_name not in data:\n",
    "        raise KeyError(\n",
    "            f\"The field '{dialogue_field_name}' was not found in the input data. \"\n",
    "            f\"Available keys in the data: {list(data.keys())}.\"\n",
    "        )\n",
    "    if soap_field_name not in data:\n",
    "        raise KeyError(\n",
    "            f\"The field '{soap_field_name}' was not found in the input data. \"\n",
    "            f\"Available keys in the data: {list(data.keys())}.\"\n",
    "        )\n",
    "    if event_tags_field_name not in data:\n",
    "        raise KeyError(\n",
    "            f\"The field '{event_tags_field_name}' was not found in the input data. \"\n",
    "            f\"Available keys in the data: {list(data.keys())}.\"\n",
    "        )\n",
    "\n",
    "    prompt = f\"\"\"Instruction: {INSTRUCTIONS_PROMPT}\\ndialogue: {data[dialogue_field_name]}\\nevent_tags: {data[event_tags_field_name]}\\nSOAP Note:\"\"\"\n",
    "    completion = f\"{data[soap_field_name]}<eos>\"\n",
    "\n",
    "    return {\"prompt\": prompt, \"completion\": completion}"
   ],
   "id": "662a907e785052ac",
   "outputs": [],
   "execution_count": 26
  },
  {
   "metadata": {
    "ExecuteTime": {
     "end_time": "2025-05-18T13:09:02.811854Z",
     "start_time": "2025-05-18T13:09:02.808184Z"
    }
   },
   "cell_type": "code",
   "source": [
    "full_prompt = format_dialogue_for_soap_synthesis(train_df.iloc[0])\n",
    "print(full_prompt)"
   ],
   "id": "d38e42e91a34d5ab",
   "outputs": [
    {
     "name": "stdout",
     "output_type": "stream",
     "text": [
      "{'prompt': \"Instruction: Create a Medical SOAP note summary from the dialogue, following these guidelines:\\nS (Subjective): Summarize the patient's reported symptoms, including chief complaint and relevant history. Rely on the patient's statements as the primary source and ensure standardized terminology.\\n    O (Objective): Highlight critical findings such as vital signs, lab results, and imaging, emphasizing important details like the side of the body affected and specific dosages. Include normal ranges where relevant.\\n    A (Assessment): Offer a concise assessment combining subjective and objective data. State the primary diagnosis and any differential diagnoses, noting potential complications and the prognostic outlook.\\n    P (Plan): Outline the management plan, covering medication, diet, consultations, and education. Ensure to mention necessary referrals to other specialties and address compliance challenges.\\n    Considerations: Compile the report based solely on the transcript provided. Maintain confidentiality and document sensitively. Use concise medical jargon and abbreviations for effective doctor communication. Add explanations to medical terms. Pay attention to events happened using provided event tags.\\n    Format the summary in a clean, simple list format without using markdown or bullet points. Use 'S:', 'O:', 'A:', 'P:' directly followed by the text. Avoid any styling or special characters.\\ndialogue: Doctor: Hello, how can I help you today?\\nPatient: My son has been having some issues with speech and development. He's 13 years old now.\\nDoctor: I see. Can you tell me more about his symptoms? Does he have any issues with muscle tone or hypotonia?\\nPatient: No, he doesn't have hypotonia. But he has mild to moderate speech and developmental delay, and he's been diagnosed with attention deficit disorder.\\nDoctor: Thank you for sharing that information. We'll run some tests, including an MRI, to get a better understanding of your son's condition. \\n(After the tests)\\nDoctor: The MRI results are in, and I'm glad to say that there are no structural brain anomalies. However, I did notice some physical characteristics. Does your son have any facial features like retrognathia, mild hypertelorism, or a slightly elongated philtrum and thin upper lip?\\nPatient: Yes, he has all of those features. His hands are also broad and short. And his feet have mild syndactyly of the second and third toe, with a sandal gap in both feet.\\nDoctor: Thank you for confirming that. We also conducted Whole Exome Sequencing (WES) analyses, and we found a de novo frameshift variant in his genetic makeup. Specifically, it's Chr1(GRCh37):g.244217335del, NM_205768.2(ZBTB18):c.259del(p.(Leu87Cysfs*21)). This leads to a premature termination codon located more than 400 codons upstream of the canonical termination codon.\\nPatient: What does that mean for my son?\\nDoctor: This genetic variant may be contributing to your son's speech, developmental delay, and attention deficit disorder. It's important that we continue monitoring his progress and provide appropriate support for his development.\\nPatient: What should we do for follow-up?\\nDoctor: Regular visits with a speech and language therapist, an occupational therapist, and a psychologist can help address your son's developmental and attention deficit disorder needs. I will also recommend regular check-ups with me to monitor his growth and overall health.\\nPatient: Thank you, doctor. We will follow your recommendations and keep an eye on his progress.\\nevent_tags: ['(After the tests)']\\nSOAP Note:\", 'completion': \"S: The patient's mother reports that her 13-year-old son has mild to moderate speech and developmental delays and has been diagnosed with attention deficit disorder. She denies any issues with muscle tone or hypotonia. The patient also exhibits certain physical characteristics, including retrognathia, mild hypertelorism, an elongated philtrum, thin upper lip, broad and short hands, mild syndactyly of the second and third toes, and a sandal gap in both feet.\\nO: An MRI of the brain showed no structural anomalies. Whole Exome Sequencing (WES) revealed a de novo frameshift variant Chr1(GRCh37):g.244217335del, NM_205768.2(ZBTB18):c.259del(p.(Leu87Cysfs*21)), indicating a premature termination codon located more than 400 codons upstream of the canonical termination codon.\\nA: The primary diagnosis is a genetic disorder associated with the identified frameshift mutation, which likely contributes to the patient's speech and developmental delays and attention deficit disorder. The physical characteristics and genetic findings suggest a specific syndrome, which needs further correlation with clinical findings and genetic counseling.\\nP: The management plan includes regular follow-up visits with a speech and language therapist, an occupational therapist, and a psychologist to support the patient's developmental needs and address his attention deficit disorder. Regular medical check-ups will monitor his growth and overall health. Genetic counseling for the family is also recommended to discuss the implications of the genetic findings and potential familial inheritance.<eos>\"}\n"
     ]
    }
   ],
   "execution_count": 27
  },
  {
   "metadata": {
    "ExecuteTime": {
     "end_time": "2025-05-18T13:09:03.199107Z",
     "start_time": "2025-05-18T13:09:02.892252Z"
    }
   },
   "cell_type": "code",
   "source": [
    "from peft import prepare_model_for_kbit_training, get_peft_model\n",
    "\n",
    "# Preprocess quantized model for training\n",
    "model = prepare_model_for_kbit_training(model)\n",
    "\n",
    "# Create PeftModel from quantized model and configuration\n",
    "model = get_peft_model(model, lora_config)"
   ],
   "id": "b3a34e5b59d1e7e0",
   "outputs": [
    {
     "name": "stderr",
     "output_type": "stream",
     "text": [
      "C:\\Users\\khal6952\\.conda\\envs\\medical-soap-note-generator\\Lib\\site-packages\\peft\\mapping_func.py:73: UserWarning: You are trying to modify a model with PEFT for a second time. If you want to reload the model with a different config, make sure to call `.unload()` before.\n",
      "  warnings.warn(\n",
      "C:\\Users\\khal6952\\.conda\\envs\\medical-soap-note-generator\\Lib\\site-packages\\peft\\mapping_func.py:79: UserWarning: The PEFT config's `base_model_name_or_path` was renamed from 'google/txgemma-9b-chat' to 'None'. Please ensure that the correct base model is loaded when loading this checkpoint.\n",
      "  warnings.warn(\n",
      "C:\\Users\\khal6952\\.conda\\envs\\medical-soap-note-generator\\Lib\\site-packages\\peft\\tuners\\tuners_utils.py:167: UserWarning: Already found a `peft_config` attribute in the model. This will lead to having multiple adapters in the model. Make sure to know what you are doing!\n",
      "  warnings.warn(\n"
     ]
    }
   ],
   "execution_count": 28
  },
  {
   "metadata": {
    "ExecuteTime": {
     "end_time": "2025-05-18T13:09:04.819154Z",
     "start_time": "2025-05-18T13:09:03.271837Z"
    }
   },
   "cell_type": "code",
   "source": [
    "from datasets import Dataset\n",
    "\n",
    "dataset = Dataset.from_pandas(train_df)\n",
    "dataset = dataset.map(format_dialogue_for_soap_synthesis)\n",
    "dataset"
   ],
   "id": "efa2da6b58e101ad",
   "outputs": [
    {
     "name": "stderr",
     "output_type": "stream",
     "text": [
      "Map: 100%|██████████| 9250/9250 [00:00<00:00, 10104.45 examples/s]\n"
     ]
    },
    {
     "data": {
      "text/plain": [
       "Dataset({\n",
       "    features: ['dialogue', 'soap', 'prompt', 'messages', 'messages_nosystem', 'event_tags', 'completion'],\n",
       "    num_rows: 9250\n",
       "})"
      ]
     },
     "execution_count": 29,
     "metadata": {},
     "output_type": "execute_result"
    }
   ],
   "execution_count": 29
  },
  {
   "metadata": {
    "ExecuteTime": {
     "end_time": "2025-05-18T13:09:05.467383Z",
     "start_time": "2025-05-18T13:09:04.958684Z"
    }
   },
   "cell_type": "code",
   "source": [
    "def check_identical_prompt_completion(dataset, prompt_field=\"prompt\", completion_field=\"completion\", verbose=False):\n",
    "    identical_indices = []\n",
    "    for idx, example in enumerate(dataset):\n",
    "        prompt = example[prompt_field]\n",
    "        completion = example[completion_field]\n",
    "        if prompt == completion:\n",
    "            identical_indices.append(idx)\n",
    "            if verbose:\n",
    "                print(f\"Example {idx} has identical prompt and completion.\")\n",
    "    return identical_indices\n",
    "\n",
    "check_identical_prompt_completion(dataset)"
   ],
   "id": "4bff4f2aea209128",
   "outputs": [
    {
     "data": {
      "text/plain": [
       "[]"
      ]
     },
     "execution_count": 30,
     "metadata": {},
     "output_type": "execute_result"
    }
   ],
   "execution_count": 30
  },
  {
   "metadata": {
    "ExecuteTime": {
     "end_time": "2025-05-18T13:09:40.486183Z",
     "start_time": "2025-05-18T13:09:05.690195Z"
    }
   },
   "cell_type": "code",
   "source": [
    "import transformers\n",
    "from trl import SFTTrainer, SFTConfig\n",
    "\n",
    "trainer = SFTTrainer(\n",
    "    model=model,\n",
    "    train_dataset=dataset,\n",
    "    args=SFTConfig(\n",
    "        per_device_train_batch_size=1,\n",
    "        gradient_accumulation_steps=4,\n",
    "        warmup_steps=2,\n",
    "        max_steps=50,\n",
    "        learning_rate=2e-4,\n",
    "        fp16=True,\n",
    "        logging_steps=5,\n",
    "        max_seq_length=512,\n",
    "        output_dir=\"/content/outputs\",\n",
    "        optim=\"paged_adamw_8bit\",\n",
    "        report_to=\"none\"\n",
    "    ),\n",
    "    peft_config=lora_config,\n",
    "    formatting_func=None,\n",
    ")\n"
   ],
   "id": "c42bd1279d3ed3d7",
   "outputs": [
    {
     "name": "stderr",
     "output_type": "stream",
     "text": [
      "Converting train dataset to ChatML: 100%|██████████| 9250/9250 [00:00<00:00, 10650.67 examples/s]\n",
      "Adding EOS to train dataset: 100%|██████████| 9250/9250 [00:00<00:00, 15533.66 examples/s]\n",
      "Tokenizing train dataset: 100%|██████████| 9250/9250 [00:32<00:00, 288.28 examples/s]\n",
      "Truncating train dataset: 100%|██████████| 9250/9250 [00:00<00:00, 107632.78 examples/s]\n",
      "No label_names provided for model class `PeftModelForCausalLM`. Since `PeftModel` hides base models input arguments, if label_names is not given, label_names can't be set automatically within `Trainer`. Note that empty label_names list will be used instead.\n"
     ]
    }
   ],
   "execution_count": 31
  },
  {
   "metadata": {
    "jupyter": {
     "is_executing": true
    },
    "ExecuteTime": {
     "start_time": "2025-05-18T13:09:40.648314Z"
    }
   },
   "cell_type": "code",
   "source": "#trainer.train()",
   "id": "d1ef7bd129c297f0",
   "outputs": [
    {
     "name": "stderr",
     "output_type": "stream",
     "text": [
      "C:\\Users\\khal6952\\.conda\\envs\\medical-soap-note-generator\\Lib\\site-packages\\torch\\_dynamo\\eval_frame.py:632: UserWarning: torch.utils.checkpoint: the use_reentrant parameter should be passed explicitly. In version 2.5 we will raise an exception if use_reentrant is not passed. use_reentrant=False is recommended, but if you need to preserve the current default behavior, you can pass use_reentrant=True. Refer to docs for more details on the differences between the two variants.\n",
      "  return fn(*args, **kwargs)\n"
     ]
    },
    {
     "data": {
      "text/plain": [
       "<IPython.core.display.HTML object>"
      ],
      "text/html": [
       "\n",
       "    <div>\n",
       "      \n",
       "      <progress value='8' max='50' style='width:300px; height:20px; vertical-align: middle;'></progress>\n",
       "      [ 8/50 00:46 < 05:22, 0.13 it/s, Epoch 0.00/1]\n",
       "    </div>\n",
       "    <table border=\"1\" class=\"dataframe\">\n",
       "  <thead>\n",
       " <tr style=\"text-align: left;\">\n",
       "      <th>Step</th>\n",
       "      <th>Training Loss</th>\n",
       "    </tr>\n",
       "  </thead>\n",
       "  <tbody>\n",
       "    <tr>\n",
       "      <td>5</td>\n",
       "      <td>0.000000</td>\n",
       "    </tr>\n",
       "  </tbody>\n",
       "</table><p>"
      ]
     },
     "metadata": {},
     "output_type": "display_data"
    }
   ],
   "execution_count": null
  }
 ],
 "metadata": {
  "kernelspec": {
   "display_name": "Python 3",
   "language": "python",
   "name": "python3"
  },
  "language_info": {
   "codemirror_mode": {
    "name": "ipython",
    "version": 2
   },
   "file_extension": ".py",
   "mimetype": "text/x-python",
   "name": "python",
   "nbconvert_exporter": "python",
   "pygments_lexer": "ipython2",
   "version": "2.7.6"
  }
 },
 "nbformat": 4,
 "nbformat_minor": 5
}
