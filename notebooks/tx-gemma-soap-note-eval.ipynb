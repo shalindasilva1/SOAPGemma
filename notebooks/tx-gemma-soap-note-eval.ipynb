{
 "cells": [
  {
   "cell_type": "code",
   "id": "initial_id",
   "metadata": {
    "collapsed": true,
    "ExecuteTime": {
     "end_time": "2025-05-20T14:45:12.505924Z",
     "start_time": "2025-05-20T14:45:12.502789Z"
    }
   },
   "source": [
    "from rouge_score import rouge_scorer\n",
    "from pathlib import Path\n",
    "from bert_score import score as bert_scorer\n",
    "from nltk.translate.bleu_score import sentence_bleu\n",
    "\n",
    "\n",
    "DATA_PATH = Path(\"../data\")\n",
    "OMI_PATH_processed = DATA_PATH / \"processed\" / \"omi-health\"\n",
    "OMI_PATH_raw = DATA_PATH / \"raw\" / \"omi-health\""
   ],
   "outputs": [],
   "execution_count": 3
  },
  {
   "metadata": {
    "ExecuteTime": {
     "end_time": "2025-05-20T14:44:14.090845Z",
     "start_time": "2025-05-20T14:44:14.087576Z"
    }
   },
   "cell_type": "code",
   "source": [
    "#Initialize scorers/models (do this once)\n",
    "rouge_eval_scorer = rouge_scorer.RougeScorer(['rouge1', 'rouge2', 'rougeL'], use_stemmer=True)\n",
    "all_predictions = []\n",
    "all_references = []\n",
    "rouge_scores_list = []\n",
    "bleu_scores_list = []\n",
    "semantic_similarity_scores = []"
   ],
   "id": "1166edc0cb702f3a",
   "outputs": [],
   "execution_count": 2
  },
  {
   "metadata": {},
   "cell_type": "code",
   "outputs": [],
   "execution_count": null,
   "source": "",
   "id": "e6e3921df72af957"
  }
 ],
 "metadata": {
  "kernelspec": {
   "display_name": "Python 3",
   "language": "python",
   "name": "python3"
  },
  "language_info": {
   "codemirror_mode": {
    "name": "ipython",
    "version": 2
   },
   "file_extension": ".py",
   "mimetype": "text/x-python",
   "name": "python",
   "nbconvert_exporter": "python",
   "pygments_lexer": "ipython2",
   "version": "2.7.6"
  }
 },
 "nbformat": 4,
 "nbformat_minor": 5
}
