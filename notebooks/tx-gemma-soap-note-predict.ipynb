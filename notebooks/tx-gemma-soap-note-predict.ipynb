{
 "cells": [
  {
   "cell_type": "code",
   "id": "initial_id",
   "metadata": {
    "collapsed": true,
    "ExecuteTime": {
     "end_time": "2025-05-22T15:37:57.907478Z",
     "start_time": "2025-05-22T15:37:57.903995Z"
    }
   },
   "source": [
    "from pathlib import Path\n",
    "import pandas as pd\n",
    "\n",
    "DATA_PATH = Path(\"../data\")\n",
    "OMI_PATH_processed = DATA_PATH / \"processed\" / \"omi-health\"\n",
    "OMI_PATH_predicted = DATA_PATH / \"predicted\" / \"omi-health\"\n",
    "OMI_PATH_raw = DATA_PATH / \"raw\" / \"omi-health\"\n",
    "MODEL_PATH =  Path(\"../models\")"
   ],
   "outputs": [],
   "execution_count": 10
  },
  {
   "metadata": {},
   "cell_type": "markdown",
   "source": "# Load the test dataset",
   "id": "29a24bc1dc511ce7"
  },
  {
   "metadata": {
    "ExecuteTime": {
     "end_time": "2025-05-22T13:41:29.531355Z",
     "start_time": "2025-05-22T13:41:29.476553Z"
    }
   },
   "cell_type": "code",
   "source": [
    "test_df = pd.read_csv(OMI_PATH_processed / \"test_v1.csv\")\n",
    "test_df"
   ],
   "id": "e6e3921df72af957",
   "outputs": [
    {
     "data": {
      "text/plain": [
       "                                              dialogue  \\\n",
       "0    Doctor: Hello, can you please tell me about yo...   \n",
       "1    Doctor: Hello, I understand that you're a 7-ye...   \n",
       "2    Doctor: Hello, we've received your results fro...   \n",
       "3    Doctor: Hello, can you tell me what brought yo...   \n",
       "4    Doctor: Hello, I understand that you have been...   \n",
       "..                                                 ...   \n",
       "245  Doctor: Hello, how can I help you today?\\nPati...   \n",
       "246  Doctor: Hello, I'm Dr. Smith. How can I help y...   \n",
       "247  Doctor: Hi there, I see that you've presented ...   \n",
       "248  Doctor: Hello, I understand that you were diag...   \n",
       "249  Doctor: Hello, how can I help you today?\\nPati...   \n",
       "\n",
       "                                                  soap  \\\n",
       "0    S: The patient, a flooring installer with no s...   \n",
       "1    S: The patient is a 7-year-old boy with congen...   \n",
       "2    S: The patient reported undergoing an ultrasou...   \n",
       "3    S: The patient reports a progressive headache,...   \n",
       "4    S: The patient, a post-liver transplant recipi...   \n",
       "..                                                 ...   \n",
       "245  S: The patient reports experiencing ataxia, tr...   \n",
       "246  S: Patient reports abdominal pain for 2 weeks,...   \n",
       "247  S: The patient, a 10-year post-diagnosis breas...   \n",
       "248  S: The patient, previously diagnosed with infe...   \n",
       "249  S: Patient with Crouzon syndrome presents with...   \n",
       "\n",
       "                                              prompt  \\\n",
       "0    Create a medical SOAP summary of this dialogue.   \n",
       "1    Create a medical SOAP summary of this dialogue.   \n",
       "2    Create a medical SOAP summary of this dialogue.   \n",
       "3    Create a medical SOAP summary of this dialogue.   \n",
       "4    Create a medical SOAP summary of this dialogue.   \n",
       "..                                               ...   \n",
       "245  Create a medical SOAP summary of this dialogue.   \n",
       "246  Create a medical SOAP summary of this dialogue.   \n",
       "247  Create a medical SOAP summary of this dialogue.   \n",
       "248  Create a medical SOAP summary of this dialogue.   \n",
       "249  Create a medical SOAP summary of this dialogue.   \n",
       "\n",
       "                                              messages  \\\n",
       "0    [{'role': 'system', 'content': 'You are an exp...   \n",
       "1    [{'role': 'system', 'content': 'You are an exp...   \n",
       "2    [{'role': 'system', 'content': 'You are an exp...   \n",
       "3    [{'role': 'system', 'content': 'You are an exp...   \n",
       "4    [{'role': 'system', 'content': 'You are an exp...   \n",
       "..                                                 ...   \n",
       "245  [{'role': 'system', 'content': 'You are an exp...   \n",
       "246  [{'role': 'system', 'content': 'You are an exp...   \n",
       "247  [{'role': 'system', 'content': 'You are an exp...   \n",
       "248  [{'role': 'system', 'content': 'You are an exp...   \n",
       "249  [{'role': 'system', 'content': 'You are an exp...   \n",
       "\n",
       "                                     messages_nosystem event_tags  \n",
       "0    [{'role': 'user', 'content': \"You are an exper...         []  \n",
       "1    [{'role': 'user', 'content': \"You are an exper...         []  \n",
       "2    [{'role': 'user', 'content': \"You are an exper...         []  \n",
       "3    [{'role': 'user', 'content': \"You are an exper...         []  \n",
       "4    [{'role': 'user', 'content': \"You are an exper...         []  \n",
       "..                                                 ...        ...  \n",
       "245  [{'role': 'user', 'content': \"You are an exper...         []  \n",
       "246  [{'role': 'user', 'content': \"You are an exper...         []  \n",
       "247  [{'role': 'user', 'content': \"You are an exper...         []  \n",
       "248  [{'role': 'user', 'content': \"You are an exper...         []  \n",
       "249  [{'role': 'user', 'content': \"You are an exper...         []  \n",
       "\n",
       "[250 rows x 6 columns]"
      ],
      "text/html": [
       "<div>\n",
       "<style scoped>\n",
       "    .dataframe tbody tr th:only-of-type {\n",
       "        vertical-align: middle;\n",
       "    }\n",
       "\n",
       "    .dataframe tbody tr th {\n",
       "        vertical-align: top;\n",
       "    }\n",
       "\n",
       "    .dataframe thead th {\n",
       "        text-align: right;\n",
       "    }\n",
       "</style>\n",
       "<table border=\"1\" class=\"dataframe\">\n",
       "  <thead>\n",
       "    <tr style=\"text-align: right;\">\n",
       "      <th></th>\n",
       "      <th>dialogue</th>\n",
       "      <th>soap</th>\n",
       "      <th>prompt</th>\n",
       "      <th>messages</th>\n",
       "      <th>messages_nosystem</th>\n",
       "      <th>event_tags</th>\n",
       "    </tr>\n",
       "  </thead>\n",
       "  <tbody>\n",
       "    <tr>\n",
       "      <th>0</th>\n",
       "      <td>Doctor: Hello, can you please tell me about yo...</td>\n",
       "      <td>S: The patient, a flooring installer with no s...</td>\n",
       "      <td>Create a medical SOAP summary of this dialogue.</td>\n",
       "      <td>[{'role': 'system', 'content': 'You are an exp...</td>\n",
       "      <td>[{'role': 'user', 'content': \"You are an exper...</td>\n",
       "      <td>[]</td>\n",
       "    </tr>\n",
       "    <tr>\n",
       "      <th>1</th>\n",
       "      <td>Doctor: Hello, I understand that you're a 7-ye...</td>\n",
       "      <td>S: The patient is a 7-year-old boy with congen...</td>\n",
       "      <td>Create a medical SOAP summary of this dialogue.</td>\n",
       "      <td>[{'role': 'system', 'content': 'You are an exp...</td>\n",
       "      <td>[{'role': 'user', 'content': \"You are an exper...</td>\n",
       "      <td>[]</td>\n",
       "    </tr>\n",
       "    <tr>\n",
       "      <th>2</th>\n",
       "      <td>Doctor: Hello, we've received your results fro...</td>\n",
       "      <td>S: The patient reported undergoing an ultrasou...</td>\n",
       "      <td>Create a medical SOAP summary of this dialogue.</td>\n",
       "      <td>[{'role': 'system', 'content': 'You are an exp...</td>\n",
       "      <td>[{'role': 'user', 'content': \"You are an exper...</td>\n",
       "      <td>[]</td>\n",
       "    </tr>\n",
       "    <tr>\n",
       "      <th>3</th>\n",
       "      <td>Doctor: Hello, can you tell me what brought yo...</td>\n",
       "      <td>S: The patient reports a progressive headache,...</td>\n",
       "      <td>Create a medical SOAP summary of this dialogue.</td>\n",
       "      <td>[{'role': 'system', 'content': 'You are an exp...</td>\n",
       "      <td>[{'role': 'user', 'content': \"You are an exper...</td>\n",
       "      <td>[]</td>\n",
       "    </tr>\n",
       "    <tr>\n",
       "      <th>4</th>\n",
       "      <td>Doctor: Hello, I understand that you have been...</td>\n",
       "      <td>S: The patient, a post-liver transplant recipi...</td>\n",
       "      <td>Create a medical SOAP summary of this dialogue.</td>\n",
       "      <td>[{'role': 'system', 'content': 'You are an exp...</td>\n",
       "      <td>[{'role': 'user', 'content': \"You are an exper...</td>\n",
       "      <td>[]</td>\n",
       "    </tr>\n",
       "    <tr>\n",
       "      <th>...</th>\n",
       "      <td>...</td>\n",
       "      <td>...</td>\n",
       "      <td>...</td>\n",
       "      <td>...</td>\n",
       "      <td>...</td>\n",
       "      <td>...</td>\n",
       "    </tr>\n",
       "    <tr>\n",
       "      <th>245</th>\n",
       "      <td>Doctor: Hello, how can I help you today?\\nPati...</td>\n",
       "      <td>S: The patient reports experiencing ataxia, tr...</td>\n",
       "      <td>Create a medical SOAP summary of this dialogue.</td>\n",
       "      <td>[{'role': 'system', 'content': 'You are an exp...</td>\n",
       "      <td>[{'role': 'user', 'content': \"You are an exper...</td>\n",
       "      <td>[]</td>\n",
       "    </tr>\n",
       "    <tr>\n",
       "      <th>246</th>\n",
       "      <td>Doctor: Hello, I'm Dr. Smith. How can I help y...</td>\n",
       "      <td>S: Patient reports abdominal pain for 2 weeks,...</td>\n",
       "      <td>Create a medical SOAP summary of this dialogue.</td>\n",
       "      <td>[{'role': 'system', 'content': 'You are an exp...</td>\n",
       "      <td>[{'role': 'user', 'content': \"You are an exper...</td>\n",
       "      <td>[]</td>\n",
       "    </tr>\n",
       "    <tr>\n",
       "      <th>247</th>\n",
       "      <td>Doctor: Hi there, I see that you've presented ...</td>\n",
       "      <td>S: The patient, a 10-year post-diagnosis breas...</td>\n",
       "      <td>Create a medical SOAP summary of this dialogue.</td>\n",
       "      <td>[{'role': 'system', 'content': 'You are an exp...</td>\n",
       "      <td>[{'role': 'user', 'content': \"You are an exper...</td>\n",
       "      <td>[]</td>\n",
       "    </tr>\n",
       "    <tr>\n",
       "      <th>248</th>\n",
       "      <td>Doctor: Hello, I understand that you were diag...</td>\n",
       "      <td>S: The patient, previously diagnosed with infe...</td>\n",
       "      <td>Create a medical SOAP summary of this dialogue.</td>\n",
       "      <td>[{'role': 'system', 'content': 'You are an exp...</td>\n",
       "      <td>[{'role': 'user', 'content': \"You are an exper...</td>\n",
       "      <td>[]</td>\n",
       "    </tr>\n",
       "    <tr>\n",
       "      <th>249</th>\n",
       "      <td>Doctor: Hello, how can I help you today?\\nPati...</td>\n",
       "      <td>S: Patient with Crouzon syndrome presents with...</td>\n",
       "      <td>Create a medical SOAP summary of this dialogue.</td>\n",
       "      <td>[{'role': 'system', 'content': 'You are an exp...</td>\n",
       "      <td>[{'role': 'user', 'content': \"You are an exper...</td>\n",
       "      <td>[]</td>\n",
       "    </tr>\n",
       "  </tbody>\n",
       "</table>\n",
       "<p>250 rows × 6 columns</p>\n",
       "</div>"
      ]
     },
     "execution_count": 4,
     "metadata": {},
     "output_type": "execute_result"
    }
   ],
   "execution_count": 4
  },
  {
   "metadata": {},
   "cell_type": "markdown",
   "source": "# Load fine-tuned model",
   "id": "cc968496ae84a2f"
  },
  {
   "metadata": {
    "ExecuteTime": {
     "end_time": "2025-05-22T13:41:53.282581Z",
     "start_time": "2025-05-22T13:41:29.567328Z"
    }
   },
   "cell_type": "code",
   "source": [
    "import torch\n",
    "from transformers import AutoTokenizer, AutoModelForCausalLM, BitsAndBytesConfig\n",
    "\n",
    "# For 4-bit quantization\n",
    "quantization_config = BitsAndBytesConfig(\n",
    "    load_in_4bit=True,\n",
    "    bnb_4bit_quant_type=\"nf4\",\n",
    "    bnb_4bit_compute_dtype=torch.bfloat16,\n",
    ")\n",
    "\n",
    "model_path = MODEL_PATH / \"SOAPgemma_v1\"\n",
    "tokenizer = AutoTokenizer.from_pretrained(model_path)\n",
    "model = AutoModelForCausalLM.from_pretrained(\n",
    "    model_path,\n",
    "    quantization_config=quantization_config,\n",
    "    device_map={\"\":0},\n",
    "    torch_dtype=\"auto\"\n",
    ")"
   ],
   "id": "deb05211721bde83",
   "outputs": [
    {
     "name": "stderr",
     "output_type": "stream",
     "text": [
      "Loading checkpoint shards: 100%|██████████| 3/3 [00:19<00:00,  6.34s/it]\n"
     ]
    }
   ],
   "execution_count": 5
  },
  {
   "metadata": {},
   "cell_type": "markdown",
   "source": "# Testing on 5 points",
   "id": "efcb18957aacb59d"
  },
  {
   "metadata": {
    "ExecuteTime": {
     "end_time": "2025-05-22T13:45:42.055820Z",
     "start_time": "2025-05-22T13:41:53.393716Z"
    }
   },
   "cell_type": "code",
   "source": [
    "from src.inference import generate_soap_note\n",
    "from tqdm import tqdm\n",
    "\n",
    "device = \"cuda:0\"\n",
    "model.to(device)\n",
    "\n",
    "# Apply your function to the dataset\n",
    "tqdm.pandas()  # enables progress bar with apply\n",
    "# create a copy of 5 datapoints\n",
    "test_df_5 = test_df.head(5).copy()\n",
    "test_df_5[\"generated_soap_note\"] = test_df_5[\"dialogue\"].progress_apply(\n",
    "    lambda x: generate_soap_note(x, model, tokenizer, device)\n",
    ")\n"
   ],
   "id": "c31ab72e28a15026",
   "outputs": [
    {
     "name": "stderr",
     "output_type": "stream",
     "text": [
      "  0%|          | 0/5 [00:00<?, ?it/s]Asking to truncate to max_length but no maximum length is provided and the model has no predefined maximum length. Default to no truncation.\n",
      "C:\\Users\\khal6952\\AppData\\Local\\miniconda3\\envs\\soap\\Lib\\site-packages\\transformers\\generation\\configuration_utils.py:629: UserWarning: `do_sample` is set to `False`. However, `temperature` is set to `0.7` -- this flag is only used in sample-based generation modes. You should set `do_sample=True` or unset `temperature`.\n",
      "  warnings.warn(\n",
      " 40%|████      | 2/5 [00:46<01:09, 23.15s/it]"
     ]
    },
    {
     "name": "stdout",
     "output_type": "stream",
     "text": [
      "SOAP note generation complete.\n"
     ]
    },
    {
     "name": "stderr",
     "output_type": "stream",
     "text": [
      " 60%|██████    | 3/5 [01:12<00:49, 24.50s/it]"
     ]
    },
    {
     "name": "stdout",
     "output_type": "stream",
     "text": [
      "SOAP note generation complete.\n"
     ]
    },
    {
     "name": "stderr",
     "output_type": "stream",
     "text": [
      " 80%|████████  | 4/5 [02:04<00:34, 34.83s/it]"
     ]
    },
    {
     "name": "stdout",
     "output_type": "stream",
     "text": [
      "SOAP note generation complete.\n"
     ]
    },
    {
     "name": "stderr",
     "output_type": "stream",
     "text": [
      "100%|██████████| 5/5 [03:00<00:00, 42.19s/it]"
     ]
    },
    {
     "name": "stdout",
     "output_type": "stream",
     "text": [
      "SOAP note generation complete.\n"
     ]
    },
    {
     "name": "stderr",
     "output_type": "stream",
     "text": [
      "100%|██████████| 5/5 [03:48<00:00, 45.73s/it]"
     ]
    },
    {
     "name": "stdout",
     "output_type": "stream",
     "text": [
      "SOAP note generation complete.\n"
     ]
    },
    {
     "name": "stderr",
     "output_type": "stream",
     "text": [
      "\n"
     ]
    }
   ],
   "execution_count": 6
  },
  {
   "metadata": {
    "ExecuteTime": {
     "end_time": "2025-05-22T13:45:42.409071Z",
     "start_time": "2025-05-22T13:45:42.401638Z"
    }
   },
   "cell_type": "code",
   "source": "test_df_5.to_csv(\"test_with_generated_soap_notes.csv\", index=False)",
   "id": "1d4ff6442265afd5",
   "outputs": [],
   "execution_count": 7
  },
  {
   "metadata": {
    "ExecuteTime": {
     "end_time": "2025-05-22T15:37:32.049357Z",
     "start_time": "2025-05-22T13:45:42.452519Z"
    }
   },
   "cell_type": "code",
   "source": [
    "from src.inference_batch import generate_batch\n",
    "\n",
    "batch_size = 4\n",
    "results = []\n",
    "\n",
    "for i in tqdm(range(0, len(test_df), batch_size)):\n",
    "    batch_dialogues = test_df['dialogue'][i:i+batch_size].tolist()\n",
    "    batch_results = generate_batch(batch_dialogues, model, tokenizer)\n",
    "    results.extend(batch_results)\n",
    "\n",
    "test_df[\"generated_soap_note\"] = results\n"
   ],
   "id": "aec36248af420369",
   "outputs": [
    {
     "name": "stderr",
     "output_type": "stream",
     "text": [
      "  0%|          | 0/63 [00:00<?, ?it/s]C:\\Users\\khal6952\\AppData\\Local\\miniconda3\\envs\\soap\\Lib\\site-packages\\transformers\\generation\\configuration_utils.py:629: UserWarning: `do_sample` is set to `False`. However, `temperature` is set to `0.7` -- this flag is only used in sample-based generation modes. You should set `do_sample=True` or unset `temperature`.\n",
      "  warnings.warn(\n",
      "100%|██████████| 63/63 [1:51:49<00:00, 106.50s/it]\n"
     ]
    }
   ],
   "execution_count": 8
  },
  {
   "metadata": {
    "ExecuteTime": {
     "end_time": "2025-05-22T15:38:52.326453Z",
     "start_time": "2025-05-22T15:38:52.290611Z"
    }
   },
   "cell_type": "code",
   "source": "test_df.to_csv(OMI_PATH_predicted / 'test_v1.csv', index=False)",
   "id": "4d49d845c014a97c",
   "outputs": [],
   "execution_count": 12
  }
 ],
 "metadata": {
  "kernelspec": {
   "display_name": "Python 3",
   "language": "python",
   "name": "python3"
  },
  "language_info": {
   "codemirror_mode": {
    "name": "ipython",
    "version": 2
   },
   "file_extension": ".py",
   "mimetype": "text/x-python",
   "name": "python",
   "nbconvert_exporter": "python",
   "pygments_lexer": "ipython2",
   "version": "2.7.6"
  }
 },
 "nbformat": 4,
 "nbformat_minor": 5
}
