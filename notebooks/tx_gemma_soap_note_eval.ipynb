{
 "cells": [
  {
   "cell_type": "code",
   "id": "initial_id",
   "metadata": {
    "collapsed": true,
    "ExecuteTime": {
     "end_time": "2025-05-22T16:27:18.022537Z",
     "start_time": "2025-05-22T16:27:18.018054Z"
    }
   },
   "source": [
    "from rouge_score import rouge_scorer\n",
    "from pathlib import Path\n",
    "import pandas as pd\n",
    "from bert_score import score as bert_scorer\n",
    "from nltk.translate.bleu_score import sentence_bleu\n",
    "\n",
    "\n",
    "DATA_PATH = Path(\"../data\")\n",
    "OMI_PATH_predicted = DATA_PATH / \"predicted\" / \"omi-health\"\n"
   ],
   "outputs": [],
   "execution_count": 44
  },
  {
   "metadata": {
    "ExecuteTime": {
     "end_time": "2025-05-22T16:27:18.050480Z",
     "start_time": "2025-05-22T16:27:18.047960Z"
    }
   },
   "cell_type": "code",
   "source": "scorer = rouge_scorer.RougeScorer(['rouge1', 'rouge2', 'rougeL'], use_stemmer=True)",
   "id": "9548643edcf68a69",
   "outputs": [],
   "execution_count": 45
  },
  {
   "metadata": {
    "ExecuteTime": {
     "end_time": "2025-05-22T16:27:18.078123Z",
     "start_time": "2025-05-22T16:27:18.072797Z"
    }
   },
   "cell_type": "code",
   "source": [
    "def calculate_rouge_scores(row):\n",
    "    reference_text = str(row['soap'])\n",
    "    generated_text = str(row['generated_soap_note'])\n",
    "\n",
    "    # Ensure texts are not empty or NaN, which can cause errors\n",
    "    if not reference_text or not generated_text or pd.isna(reference_text) or pd.isna(generated_text):\n",
    "        return {'rouge1_precision': None, 'rouge1_recall': None, 'rouge1_fmeasure': None,\n",
    "                'rouge2_precision': None, 'rouge2_recall': None, 'rouge2_fmeasure': None,\n",
    "                'rougeL_precision': None, 'rougeL_recall': None, 'rougeL_fmeasure': None}\n",
    "\n",
    "    scores = scorer.score(reference_text, generated_text)\n",
    "\n",
    "    # Extracting precision, recall, and f-measure for each ROUGE type\n",
    "    return {\n",
    "        'rouge1_precision': scores['rouge1'].precision,\n",
    "        'rouge1_recall': scores['rouge1'].recall,\n",
    "        'rouge1_fmeasure': scores['rouge1'].fmeasure,\n",
    "        'rouge2_precision': scores['rouge2'].precision,\n",
    "        'rouge2_recall': scores['rouge2'].recall,\n",
    "        'rouge2_fmeasure': scores['rouge2'].fmeasure,\n",
    "        'rougeL_precision': scores['rougeL'].precision,\n",
    "        'rougeL_recall': scores['rougeL'].recall,\n",
    "        'rougeL_fmeasure': scores['rougeL'].fmeasure,\n",
    "    }"
   ],
   "id": "58512306d5f8b315",
   "outputs": [],
   "execution_count": 46
  },
  {
   "metadata": {
    "ExecuteTime": {
     "end_time": "2025-05-22T16:27:18.128697Z",
     "start_time": "2025-05-22T16:27:18.083202Z"
    }
   },
   "cell_type": "code",
   "source": [
    "test_df = pd.read_csv(OMI_PATH_predicted / \"test_v1.csv\")\n",
    "test_df"
   ],
   "id": "86d368efe8405ccf",
   "outputs": [
    {
     "data": {
      "text/plain": [
       "                                              dialogue  \\\n",
       "0    Doctor: Hello, can you please tell me about yo...   \n",
       "1    Doctor: Hello, I understand that you're a 7-ye...   \n",
       "2    Doctor: Hello, we've received your results fro...   \n",
       "3    Doctor: Hello, can you tell me what brought yo...   \n",
       "4    Doctor: Hello, I understand that you have been...   \n",
       "..                                                 ...   \n",
       "245  Doctor: Hello, how can I help you today?\\nPati...   \n",
       "246  Doctor: Hello, I'm Dr. Smith. How can I help y...   \n",
       "247  Doctor: Hi there, I see that you've presented ...   \n",
       "248  Doctor: Hello, I understand that you were diag...   \n",
       "249  Doctor: Hello, how can I help you today?\\nPati...   \n",
       "\n",
       "                                                  soap  \\\n",
       "0    S: The patient, a flooring installer with no s...   \n",
       "1    S: The patient is a 7-year-old boy with congen...   \n",
       "2    S: The patient reported undergoing an ultrasou...   \n",
       "3    S: The patient reports a progressive headache,...   \n",
       "4    S: The patient, a post-liver transplant recipi...   \n",
       "..                                                 ...   \n",
       "245  S: The patient reports experiencing ataxia, tr...   \n",
       "246  S: Patient reports abdominal pain for 2 weeks,...   \n",
       "247  S: The patient, a 10-year post-diagnosis breas...   \n",
       "248  S: The patient, previously diagnosed with infe...   \n",
       "249  S: Patient with Crouzon syndrome presents with...   \n",
       "\n",
       "                                              prompt  \\\n",
       "0    Create a medical SOAP summary of this dialogue.   \n",
       "1    Create a medical SOAP summary of this dialogue.   \n",
       "2    Create a medical SOAP summary of this dialogue.   \n",
       "3    Create a medical SOAP summary of this dialogue.   \n",
       "4    Create a medical SOAP summary of this dialogue.   \n",
       "..                                               ...   \n",
       "245  Create a medical SOAP summary of this dialogue.   \n",
       "246  Create a medical SOAP summary of this dialogue.   \n",
       "247  Create a medical SOAP summary of this dialogue.   \n",
       "248  Create a medical SOAP summary of this dialogue.   \n",
       "249  Create a medical SOAP summary of this dialogue.   \n",
       "\n",
       "                                              messages  \\\n",
       "0    [{'role': 'system', 'content': 'You are an exp...   \n",
       "1    [{'role': 'system', 'content': 'You are an exp...   \n",
       "2    [{'role': 'system', 'content': 'You are an exp...   \n",
       "3    [{'role': 'system', 'content': 'You are an exp...   \n",
       "4    [{'role': 'system', 'content': 'You are an exp...   \n",
       "..                                                 ...   \n",
       "245  [{'role': 'system', 'content': 'You are an exp...   \n",
       "246  [{'role': 'system', 'content': 'You are an exp...   \n",
       "247  [{'role': 'system', 'content': 'You are an exp...   \n",
       "248  [{'role': 'system', 'content': 'You are an exp...   \n",
       "249  [{'role': 'system', 'content': 'You are an exp...   \n",
       "\n",
       "                                     messages_nosystem event_tags  \\\n",
       "0    [{'role': 'user', 'content': \"You are an exper...         []   \n",
       "1    [{'role': 'user', 'content': \"You are an exper...         []   \n",
       "2    [{'role': 'user', 'content': \"You are an exper...         []   \n",
       "3    [{'role': 'user', 'content': \"You are an exper...         []   \n",
       "4    [{'role': 'user', 'content': \"You are an exper...         []   \n",
       "..                                                 ...        ...   \n",
       "245  [{'role': 'user', 'content': \"You are an exper...         []   \n",
       "246  [{'role': 'user', 'content': \"You are an exper...         []   \n",
       "247  [{'role': 'user', 'content': \"You are an exper...         []   \n",
       "248  [{'role': 'user', 'content': \"You are an exper...         []   \n",
       "249  [{'role': 'user', 'content': \"You are an exper...         []   \n",
       "\n",
       "                                   generated_soap_note  \n",
       "0    S: The patient reports experiencing painless b...  \n",
       "1    S: The patient is a 7-year-old male with conge...  \n",
       "2    S: The patient reports a single thyroid nodule...  \n",
       "3    S: The patient reports progressive headache, n...  \n",
       "4    S: The patient, diagnosed with hepatocellular ...  \n",
       "..                                                 ...  \n",
       "245  S: The patient reports experiencing ataxia, tr...  \n",
       "246  S: The patient reports experiencing abdominal ...  \n",
       "247  S: The patient reports experiencing nausea and...  \n",
       "248  S: The patient, diagnosed with infectious cerv...  \n",
       "249  S: The patient reports multiple episodes of ep...  \n",
       "\n",
       "[250 rows x 7 columns]"
      ],
      "text/html": [
       "<div>\n",
       "<style scoped>\n",
       "    .dataframe tbody tr th:only-of-type {\n",
       "        vertical-align: middle;\n",
       "    }\n",
       "\n",
       "    .dataframe tbody tr th {\n",
       "        vertical-align: top;\n",
       "    }\n",
       "\n",
       "    .dataframe thead th {\n",
       "        text-align: right;\n",
       "    }\n",
       "</style>\n",
       "<table border=\"1\" class=\"dataframe\">\n",
       "  <thead>\n",
       "    <tr style=\"text-align: right;\">\n",
       "      <th></th>\n",
       "      <th>dialogue</th>\n",
       "      <th>soap</th>\n",
       "      <th>prompt</th>\n",
       "      <th>messages</th>\n",
       "      <th>messages_nosystem</th>\n",
       "      <th>event_tags</th>\n",
       "      <th>generated_soap_note</th>\n",
       "    </tr>\n",
       "  </thead>\n",
       "  <tbody>\n",
       "    <tr>\n",
       "      <th>0</th>\n",
       "      <td>Doctor: Hello, can you please tell me about yo...</td>\n",
       "      <td>S: The patient, a flooring installer with no s...</td>\n",
       "      <td>Create a medical SOAP summary of this dialogue.</td>\n",
       "      <td>[{'role': 'system', 'content': 'You are an exp...</td>\n",
       "      <td>[{'role': 'user', 'content': \"You are an exper...</td>\n",
       "      <td>[]</td>\n",
       "      <td>S: The patient reports experiencing painless b...</td>\n",
       "    </tr>\n",
       "    <tr>\n",
       "      <th>1</th>\n",
       "      <td>Doctor: Hello, I understand that you're a 7-ye...</td>\n",
       "      <td>S: The patient is a 7-year-old boy with congen...</td>\n",
       "      <td>Create a medical SOAP summary of this dialogue.</td>\n",
       "      <td>[{'role': 'system', 'content': 'You are an exp...</td>\n",
       "      <td>[{'role': 'user', 'content': \"You are an exper...</td>\n",
       "      <td>[]</td>\n",
       "      <td>S: The patient is a 7-year-old male with conge...</td>\n",
       "    </tr>\n",
       "    <tr>\n",
       "      <th>2</th>\n",
       "      <td>Doctor: Hello, we've received your results fro...</td>\n",
       "      <td>S: The patient reported undergoing an ultrasou...</td>\n",
       "      <td>Create a medical SOAP summary of this dialogue.</td>\n",
       "      <td>[{'role': 'system', 'content': 'You are an exp...</td>\n",
       "      <td>[{'role': 'user', 'content': \"You are an exper...</td>\n",
       "      <td>[]</td>\n",
       "      <td>S: The patient reports a single thyroid nodule...</td>\n",
       "    </tr>\n",
       "    <tr>\n",
       "      <th>3</th>\n",
       "      <td>Doctor: Hello, can you tell me what brought yo...</td>\n",
       "      <td>S: The patient reports a progressive headache,...</td>\n",
       "      <td>Create a medical SOAP summary of this dialogue.</td>\n",
       "      <td>[{'role': 'system', 'content': 'You are an exp...</td>\n",
       "      <td>[{'role': 'user', 'content': \"You are an exper...</td>\n",
       "      <td>[]</td>\n",
       "      <td>S: The patient reports progressive headache, n...</td>\n",
       "    </tr>\n",
       "    <tr>\n",
       "      <th>4</th>\n",
       "      <td>Doctor: Hello, I understand that you have been...</td>\n",
       "      <td>S: The patient, a post-liver transplant recipi...</td>\n",
       "      <td>Create a medical SOAP summary of this dialogue.</td>\n",
       "      <td>[{'role': 'system', 'content': 'You are an exp...</td>\n",
       "      <td>[{'role': 'user', 'content': \"You are an exper...</td>\n",
       "      <td>[]</td>\n",
       "      <td>S: The patient, diagnosed with hepatocellular ...</td>\n",
       "    </tr>\n",
       "    <tr>\n",
       "      <th>...</th>\n",
       "      <td>...</td>\n",
       "      <td>...</td>\n",
       "      <td>...</td>\n",
       "      <td>...</td>\n",
       "      <td>...</td>\n",
       "      <td>...</td>\n",
       "      <td>...</td>\n",
       "    </tr>\n",
       "    <tr>\n",
       "      <th>245</th>\n",
       "      <td>Doctor: Hello, how can I help you today?\\nPati...</td>\n",
       "      <td>S: The patient reports experiencing ataxia, tr...</td>\n",
       "      <td>Create a medical SOAP summary of this dialogue.</td>\n",
       "      <td>[{'role': 'system', 'content': 'You are an exp...</td>\n",
       "      <td>[{'role': 'user', 'content': \"You are an exper...</td>\n",
       "      <td>[]</td>\n",
       "      <td>S: The patient reports experiencing ataxia, tr...</td>\n",
       "    </tr>\n",
       "    <tr>\n",
       "      <th>246</th>\n",
       "      <td>Doctor: Hello, I'm Dr. Smith. How can I help y...</td>\n",
       "      <td>S: Patient reports abdominal pain for 2 weeks,...</td>\n",
       "      <td>Create a medical SOAP summary of this dialogue.</td>\n",
       "      <td>[{'role': 'system', 'content': 'You are an exp...</td>\n",
       "      <td>[{'role': 'user', 'content': \"You are an exper...</td>\n",
       "      <td>[]</td>\n",
       "      <td>S: The patient reports experiencing abdominal ...</td>\n",
       "    </tr>\n",
       "    <tr>\n",
       "      <th>247</th>\n",
       "      <td>Doctor: Hi there, I see that you've presented ...</td>\n",
       "      <td>S: The patient, a 10-year post-diagnosis breas...</td>\n",
       "      <td>Create a medical SOAP summary of this dialogue.</td>\n",
       "      <td>[{'role': 'system', 'content': 'You are an exp...</td>\n",
       "      <td>[{'role': 'user', 'content': \"You are an exper...</td>\n",
       "      <td>[]</td>\n",
       "      <td>S: The patient reports experiencing nausea and...</td>\n",
       "    </tr>\n",
       "    <tr>\n",
       "      <th>248</th>\n",
       "      <td>Doctor: Hello, I understand that you were diag...</td>\n",
       "      <td>S: The patient, previously diagnosed with infe...</td>\n",
       "      <td>Create a medical SOAP summary of this dialogue.</td>\n",
       "      <td>[{'role': 'system', 'content': 'You are an exp...</td>\n",
       "      <td>[{'role': 'user', 'content': \"You are an exper...</td>\n",
       "      <td>[]</td>\n",
       "      <td>S: The patient, diagnosed with infectious cerv...</td>\n",
       "    </tr>\n",
       "    <tr>\n",
       "      <th>249</th>\n",
       "      <td>Doctor: Hello, how can I help you today?\\nPati...</td>\n",
       "      <td>S: Patient with Crouzon syndrome presents with...</td>\n",
       "      <td>Create a medical SOAP summary of this dialogue.</td>\n",
       "      <td>[{'role': 'system', 'content': 'You are an exp...</td>\n",
       "      <td>[{'role': 'user', 'content': \"You are an exper...</td>\n",
       "      <td>[]</td>\n",
       "      <td>S: The patient reports multiple episodes of ep...</td>\n",
       "    </tr>\n",
       "  </tbody>\n",
       "</table>\n",
       "<p>250 rows × 7 columns</p>\n",
       "</div>"
      ]
     },
     "execution_count": 47,
     "metadata": {},
     "output_type": "execute_result"
    }
   ],
   "execution_count": 47
  },
  {
   "metadata": {
    "ExecuteTime": {
     "end_time": "2025-05-22T16:27:22.340541Z",
     "start_time": "2025-05-22T16:27:18.178951Z"
    }
   },
   "cell_type": "code",
   "source": [
    "# Assuming your DataFrame with generated notes is called test_df\n",
    "rouge_results = test_df.apply(calculate_rouge_scores, axis=1, result_type='expand')\n",
    "\n",
    "# Join the ROUGE scores back to your original DataFrame\n",
    "test_df = test_df.join(rouge_results)"
   ],
   "id": "c76e551a38113611",
   "outputs": [],
   "execution_count": 48
  },
  {
   "metadata": {
    "ExecuteTime": {
     "end_time": "2025-05-22T16:27:22.386140Z",
     "start_time": "2025-05-22T16:27:22.381715Z"
    }
   },
   "cell_type": "code",
   "source": [
    "average_rouge1_fmeasure = test_df['rouge1_fmeasure'].mean()\n",
    "average_rouge2_fmeasure = test_df['rouge2_fmeasure'].mean()\n",
    "average_rougeL_fmeasure = test_df['rougeL_fmeasure'].mean()\n",
    "\n",
    "average_rouge1_precision = test_df['rouge1_precision'].mean()\n",
    "average_rouge2_precision = test_df['rouge2_precision'].mean()\n",
    "average_rougeL_precision = test_df['rougeL_precision'].mean()\n",
    "\n",
    "average_rouge1_recall = test_df['rouge1_recall'].mean()\n",
    "average_rouge2_recall = test_df['rouge2_recall'].mean()\n",
    "average_rougeL_recall = test_df['rougeL_recall'].mean()\n"
   ],
   "id": "479138341a905b68",
   "outputs": [],
   "execution_count": 49
  },
  {
   "metadata": {
    "ExecuteTime": {
     "end_time": "2025-05-22T16:27:22.480726Z",
     "start_time": "2025-05-22T16:27:22.476672Z"
    }
   },
   "cell_type": "code",
   "source": [
    "references = test_df['soap'].astype(str).tolist()\n",
    "candidates = test_df['generated_soap_note'].astype(str).tolist()\n",
    "\n",
    "valid_pairs = [(ref, gen) for ref, gen in zip(references, candidates) if ref and gen and not pd.isna(ref) and not pd.isna(gen)]"
   ],
   "id": "e0e3e6d3bd3ac14e",
   "outputs": [],
   "execution_count": 50
  },
  {
   "metadata": {
    "ExecuteTime": {
     "end_time": "2025-05-22T16:27:30.342720Z",
     "start_time": "2025-05-22T16:27:22.514975Z"
    }
   },
   "cell_type": "code",
   "source": [
    "if not valid_pairs:\n",
    "    print(\"No valid reference-generated text pairs found to calculate BERTScore.\")\n",
    "else:\n",
    "    references_filtered = [pair[0] for pair in valid_pairs]\n",
    "    candidates_filtered = [pair[1] for pair in valid_pairs]\n",
    "\n",
    "    print(\"Calculating BERTScore. This may take some time depending on your dataset size and hardware...\")\n",
    "\n",
    "    P, R, F1 = bert_scorer(\n",
    "        candidates_filtered,\n",
    "        references_filtered,\n",
    "        lang=\"en\",\n",
    "        model_type=\"bert-base-uncased\",\n",
    "        verbose=True,\n",
    "        device=\"cuda\"\n",
    "    )\n",
    "\n",
    "    average_bert_precision = P.mean().item()\n",
    "    average_bert_recall = R.mean().item()\n",
    "    average_bert_f1 = F1.mean().item()\n",
    "\n",
    "    print(f\"\\nAverage BERTScore Precision: {average_bert_precision:.4f}\")\n",
    "    print(f\"Average BERTScore Recall: {average_bert_recall:.4f}\")\n",
    "    print(f\"Average BERTScore F1: {average_bert_f1:.4f}\")"
   ],
   "id": "3b61c10542acd4b2",
   "outputs": [
    {
     "name": "stdout",
     "output_type": "stream",
     "text": [
      "Calculating BERTScore. This may take some time depending on your dataset size and hardware...\n",
      "calculating scores...\n",
      "computing bert embedding.\n"
     ]
    },
    {
     "name": "stderr",
     "output_type": "stream",
     "text": [
      "100%|██████████| 8/8 [00:06<00:00,  1.15it/s]\n"
     ]
    },
    {
     "name": "stdout",
     "output_type": "stream",
     "text": [
      "computing greedy matching.\n"
     ]
    },
    {
     "name": "stderr",
     "output_type": "stream",
     "text": [
      "100%|██████████| 4/4 [00:00<00:00, 34.44it/s]"
     ]
    },
    {
     "name": "stdout",
     "output_type": "stream",
     "text": [
      "done in 7.07 seconds, 35.38 sentences/sec\n",
      "\n",
      "Average BERTScore Precision: 0.7695\n",
      "Average BERTScore Recall: 0.7262\n",
      "Average BERTScore F1: 0.7467\n"
     ]
    },
    {
     "name": "stderr",
     "output_type": "stream",
     "text": [
      "\n"
     ]
    }
   ],
   "execution_count": 51
  },
  {
   "metadata": {
    "ExecuteTime": {
     "end_time": "2025-05-22T16:30:27.469256Z",
     "start_time": "2025-05-22T16:30:27.336841Z"
    }
   },
   "cell_type": "code",
   "source": [
    "import matplotlib.pyplot as plt\n",
    "import pandas as pd\n",
    "import numpy as np\n",
    "\n",
    "# Create a DataFrame for easier plotting\n",
    "data = {\n",
    "    'Metric': ['ROUGE-1', 'ROUGE-2', 'ROUGE-L', 'BERTScore'],\n",
    "    'F-measure': [average_rouge1_fmeasure, average_rouge2_fmeasure, average_rougeL_fmeasure, average_bert_f1],\n",
    "    'Precision': [average_rouge1_precision, average_rouge2_precision, average_rougeL_precision, average_bert_precision],\n",
    "    'Recall': [average_rouge1_recall, average_rouge2_recall, average_rougeL_recall, average_bert_recall]\n",
    "}\n",
    "df = pd.DataFrame(data)\n",
    "\n",
    "# Set up the plot\n",
    "fig, ax = plt.subplots(figsize=(10, 7))\n",
    "\n",
    "bar_width = 0.2\n",
    "index = np.arange(len(df['Metric']))\n",
    "\n",
    "bar1 = ax.bar(index - bar_width, df['F-measure'], bar_width, label='F-measure', color='skyblue')\n",
    "bar2 = ax.bar(index, df['Precision'], bar_width, label='Precision', color='lightcoral')\n",
    "bar3 = ax.bar(index + bar_width, df['Recall'], bar_width, label='Recall', color='lightgreen')\n",
    "\n",
    "# Add the values on top of the bars\n",
    "def add_value_labels(bars):\n",
    "    for bar in bars:\n",
    "        yval = bar.get_height()\n",
    "        ax.text(bar.get_x() + bar.get_width()/2, yval + 0.005, round(yval, 4), ha='center', va='bottom', fontsize=8)\n",
    "\n",
    "add_value_labels(bar1)\n",
    "add_value_labels(bar2)\n",
    "add_value_labels(bar3)\n",
    "\n",
    "# Add labels, title, and legend\n",
    "ax.set_xlabel('ROUGE Metric')\n",
    "ax.set_ylabel('Average Score')\n",
    "ax.set_title('Average ROUGE and BERT Scores (F-measure, Precision, Recall)')\n",
    "ax.set_xticks(index)\n",
    "ax.set_xticklabels(df['Metric'], rotation=0)\n",
    "ax.set_ylim(0, 1) # Set y-axis limit to better visualize differences\n",
    "ax.legend()\n",
    "ax.grid(axis='y', linestyle='--', alpha=0.7)\n",
    "\n",
    "# Improve layout\n",
    "plt.tight_layout()\n",
    "\n",
    "# Show the plot\n",
    "plt.show()"
   ],
   "id": "8409a8857021b22a",
   "outputs": [
    {
     "data": {
      "text/plain": [
       "<Figure size 1000x700 with 1 Axes>"
      ],
      "image/png": "[encoded data removed]"
     },
     "metadata": {},
     "output_type": "display_data"
    }
   ],
   "execution_count": 59
  },
  {
   "metadata": {},
   "cell_type": "markdown",
   "source": "Our fine-tuned TxGemma model appears to be generating SOAP notes that are semantically very close to the original notes, as indicated by the high BERTScore. While the ROUGE scores show varying degrees of lexical and n-gram overlap (with ROUGE-2 being the lowest, as expected), the strong BERTScore suggests that the model is doing a good job of understanding the dialogue and producing relevant and meaningful summaries, which is often more important for practical applications than exact word-for-word matches.",
   "id": "6c778afff9482b87"
  },
  {
   "metadata": {},
   "cell_type": "markdown",
   "source": "# BLUE",
   "id": "6b8fe1430ee8f30d"
  },
  {
   "metadata": {
    "ExecuteTime": {
     "end_time": "2025-05-22T16:27:30.532247Z",
     "start_time": "2025-05-22T16:27:30.528835Z"
    }
   },
   "cell_type": "code",
   "source": [
    "from nltk import word_tokenize\n",
    "\n",
    "def calculate_bleu_score(row):\n",
    "    reference_text = str(row['soap'])\n",
    "    generated_text = str(row['generated_soap_note'])\n",
    "\n",
    "    # Handle potential NaN or empty strings\n",
    "    if not reference_text or not generated_text or pd.isna(reference_text) or pd.isna(generated_text):\n",
    "        return None\n",
    "\n",
    "    # Tokenize the texts\n",
    "    # NLTK's BLEU expects a list of reference sentences (each sentence is a list of tokens)\n",
    "    # and a list of candidate tokens.\n",
    "    # For a single reference, it should be in the format [[ref1_token1, ref1_token2, ...]]\n",
    "    reference_tokens = [word_tokenize(reference_text.lower())]\n",
    "    generated_tokens = word_tokenize(generated_text.lower())\n",
    "\n",
    "    # Calculate BLEU score\n",
    "    # Weights for BLEU-4 (1-gram, 2-gram, 3-gram, 4-gram)\n",
    "    weights = (0.25, 0.25, 0.25, 0.25)\n",
    "    try:\n",
    "        score = sentence_bleu(reference_tokens, generated_tokens, weights=weights)\n",
    "    except ZeroDivisionError:\n",
    "        score = 0.0 # Assign 0 if there's a division by zero (e.g., no common n-grams)\n",
    "\n",
    "    return score"
   ],
   "id": "6865af2d6a68171a",
   "outputs": [],
   "execution_count": 53
  },
  {
   "metadata": {
    "ExecuteTime": {
     "end_time": "2025-05-22T16:27:31.274640Z",
     "start_time": "2025-05-22T16:27:30.553201Z"
    }
   },
   "cell_type": "code",
   "source": "test_df['bleu_score'] = test_df.apply(calculate_bleu_score, axis=1)\n",
   "id": "79a4298e003acd57",
   "outputs": [
    {
     "name": "stderr",
     "output_type": "stream",
     "text": [
      "C:\\Users\\khal6952\\AppData\\Local\\miniconda3\\envs\\soap\\Lib\\site-packages\\nltk\\translate\\bleu_score.py:577: UserWarning: \n",
      "The hypothesis contains 0 counts of 3-gram overlaps.\n",
      "Therefore the BLEU score evaluates to 0, independently of\n",
      "how many N-gram overlaps of lower order it contains.\n",
      "Consider using lower n-gram order or use SmoothingFunction()\n",
      "  warnings.warn(_msg)\n",
      "C:\\Users\\khal6952\\AppData\\Local\\miniconda3\\envs\\soap\\Lib\\site-packages\\nltk\\translate\\bleu_score.py:577: UserWarning: \n",
      "The hypothesis contains 0 counts of 4-gram overlaps.\n",
      "Therefore the BLEU score evaluates to 0, independently of\n",
      "how many N-gram overlaps of lower order it contains.\n",
      "Consider using lower n-gram order or use SmoothingFunction()\n",
      "  warnings.warn(_msg)\n"
     ]
    }
   ],
   "execution_count": 54
  },
  {
   "metadata": {
    "ExecuteTime": {
     "end_time": "2025-05-22T16:27:31.295895Z",
     "start_time": "2025-05-22T16:27:31.293214Z"
    }
   },
   "cell_type": "code",
   "source": [
    "average_bleu_score = test_df['bleu_score'].mean()\n",
    "\n",
    "print(f\"Average BLEU Score: {average_bleu_score:.4f}\")"
   ],
   "id": "dfd1f99bf172ac7c",
   "outputs": [
    {
     "name": "stdout",
     "output_type": "stream",
     "text": [
      "Average BLEU Score: 0.2581\n"
     ]
    }
   ],
   "execution_count": 55
  },
  {
   "metadata": {},
   "cell_type": "markdown",
   "source": "TxGemma model generates SOAP notes that are semantically accurate (high BERTScore: 0.7695 F1) but may not perfectly match the original phrasing (lower ROUGE-1: 0.5826 F1, ROUGE-2: 0.3261 F1, ROUGE-L: 0.4033 F1, and BLEU: 0.2581). The high BERTScore is particularly promising for medical summarization as it indicates the model captures the correct meaning, even if wording differs.",
   "id": "cb953c769372c0c5"
  }
 ],
 "metadata": {
  "kernelspec": {
   "display_name": "Python 3",
   "language": "python",
   "name": "python3"
  },
  "language_info": {
   "codemirror_mode": {
    "name": "ipython",
    "version": 2
   },
   "file_extension": ".py",
   "mimetype": "text/x-python",
   "name": "python",
   "nbconvert_exporter": "python",
   "pygments_lexer": "ipython2",
   "version": "2.7.6"
  }
 },
 "nbformat": 4,
 "nbformat_minor": 5
}
